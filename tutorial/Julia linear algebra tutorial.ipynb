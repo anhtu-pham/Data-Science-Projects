{
 "cells": [
  {
   "cell_type": "markdown",
   "id": "8b0cc024",
   "metadata": {},
   "source": [
    "# Julia Linear Algebra tutorial"
   ]
  },
  {
   "cell_type": "code",
   "execution_count": 37,
   "id": "9f03004b",
   "metadata": {},
   "outputs": [],
   "source": [
    "using LinearAlgebra\n",
    "using DataFrames"
   ]
  },
  {
   "cell_type": "markdown",
   "id": "0a99fb2e",
   "metadata": {},
   "source": [
    "## Vectors"
   ]
  },
  {
   "cell_type": "markdown",
   "id": "9cbc4869",
   "metadata": {},
   "source": [
    "### Creating a vector"
   ]
  },
  {
   "cell_type": "markdown",
   "id": "c84e66fc",
   "metadata": {},
   "source": [
    "You can create vectors by putting element between square brackets (`[]`), separated by commas `,`."
   ]
  },
  {
   "cell_type": "code",
   "execution_count": 98,
   "id": "38a8e66b",
   "metadata": {},
   "outputs": [
    {
     "data": {
      "text/plain": [
       "3-element Vector{Int64}:\n",
       " 1\n",
       " 2\n",
       " 3"
      ]
     },
     "execution_count": 98,
     "metadata": {},
     "output_type": "execute_result"
    }
   ],
   "source": [
    "vec_a = [1 ,2 ,3]"
   ]
  },
  {
   "cell_type": "markdown",
   "id": "5f2b25f3",
   "metadata": {},
   "source": [
    "Vector also support floating point numbers"
   ]
  },
  {
   "cell_type": "code",
   "execution_count": 99,
   "id": "e0496bef",
   "metadata": {
    "scrolled": false
   },
   "outputs": [
    {
     "data": {
      "text/plain": [
       "3-element Vector{Float64}:\n",
       " 4.5\n",
       " 5.0\n",
       " 6.0"
      ]
     },
     "execution_count": 99,
     "metadata": {},
     "output_type": "execute_result"
    }
   ],
   "source": [
    "vec_b = [4.5 ,5 ,6]"
   ]
  },
  {
   "cell_type": "markdown",
   "id": "4fe62cb5",
   "metadata": {},
   "source": [
    "### Basic Vector operations"
   ]
  },
  {
   "cell_type": "markdown",
   "id": "1bb93def",
   "metadata": {},
   "source": [
    "You can use the `+` operators for vector additions."
   ]
  },
  {
   "cell_type": "code",
   "execution_count": 88,
   "id": "4dbd42ca",
   "metadata": {
    "scrolled": false
   },
   "outputs": [
    {
     "data": {
      "text/plain": [
       "3-element Vector{Float64}:\n",
       " 5.5\n",
       " 7.0\n",
       " 9.0"
      ]
     },
     "execution_count": 88,
     "metadata": {},
     "output_type": "execute_result"
    }
   ],
   "source": [
    "vec_a+vec_b"
   ]
  },
  {
   "cell_type": "markdown",
   "id": "2458e708",
   "metadata": {},
   "source": [
    "The `*` operator for scalar vector multiplication."
   ]
  },
  {
   "cell_type": "code",
   "execution_count": 89,
   "id": "7d23ee53",
   "metadata": {},
   "outputs": [
    {
     "data": {
      "text/plain": [
       "3-element Vector{Int64}:\n",
       "  5\n",
       " 10\n",
       " 15"
      ]
     },
     "execution_count": 89,
     "metadata": {},
     "output_type": "execute_result"
    }
   ],
   "source": [
    "5*vec_a"
   ]
  },
  {
   "cell_type": "markdown",
   "id": "f8f78d8d",
   "metadata": {},
   "source": [
    "You can use the `'` operator on the vector to get the row version of a vector."
   ]
  },
  {
   "cell_type": "code",
   "execution_count": 92,
   "id": "863ab5da",
   "metadata": {
    "scrolled": true
   },
   "outputs": [
    {
     "data": {
      "text/plain": [
       "1×3 adjoint(::Vector{Int64}) with eltype Int64:\n",
       " 1  2  3"
      ]
     },
     "execution_count": 92,
     "metadata": {},
     "output_type": "execute_result"
    }
   ],
   "source": [
    "vec_a'"
   ]
  },
  {
   "cell_type": "markdown",
   "id": "9438635f",
   "metadata": {},
   "source": [
    "You can use the dot function to get the dot product of two vectors"
   ]
  },
  {
   "cell_type": "code",
   "execution_count": 93,
   "id": "9d5ba770",
   "metadata": {},
   "outputs": [
    {
     "data": {
      "text/plain": [
       "32.5"
      ]
     },
     "execution_count": 93,
     "metadata": {},
     "output_type": "execute_result"
    }
   ],
   "source": [
    "dot(vec_a,vec_b)"
   ]
  },
  {
   "cell_type": "markdown",
   "id": "7b384850",
   "metadata": {},
   "source": [
    "Or you can use the dot product formula for column vectors ($x^Ty$)."
   ]
  },
  {
   "cell_type": "code",
   "execution_count": 101,
   "id": "76469ea8",
   "metadata": {
    "scrolled": false
   },
   "outputs": [
    {
     "data": {
      "text/plain": [
       "32.5"
      ]
     },
     "execution_count": 101,
     "metadata": {},
     "output_type": "execute_result"
    }
   ],
   "source": [
    "vec_a'*vec_b"
   ]
  },
  {
   "cell_type": "markdown",
   "id": "b55475b2",
   "metadata": {},
   "source": [
    "For outer product, you can use the column vectors outer product formula with column vectors ($xy^T$)"
   ]
  },
  {
   "cell_type": "code",
   "execution_count": 95,
   "id": "a2faba5b",
   "metadata": {},
   "outputs": [
    {
     "data": {
      "text/plain": [
       "3×3 Matrix{Float64}:\n",
       "  4.5   5.0   6.0\n",
       "  9.0  10.0  12.0\n",
       " 13.5  15.0  18.0"
      ]
     },
     "execution_count": 95,
     "metadata": {},
     "output_type": "execute_result"
    }
   ],
   "source": [
    "vec_a*vec_b'"
   ]
  },
  {
   "cell_type": "markdown",
   "id": "9a80077c",
   "metadata": {},
   "source": [
    "### Vector norms"
   ]
  },
  {
   "cell_type": "markdown",
   "id": "8bbe5eb9",
   "metadata": {},
   "source": [
    "You can use the `norm` function from the Linear Algebra package to calculate the norm of vectors. The syntax for the function is `norm(<vec>,n)` For Manhattan norm (one-norm), you will pass in n = 1. For Euclidean norm, you will pass in n = 2."
   ]
  },
  {
   "cell_type": "code",
   "execution_count": 96,
   "id": "c0edd072",
   "metadata": {},
   "outputs": [
    {
     "name": "stdout",
     "output_type": "stream",
     "text": [
      "6.0"
     ]
    }
   ],
   "source": [
    "print(norm(vec_a,1))"
   ]
  },
  {
   "cell_type": "code",
   "execution_count": 97,
   "id": "df93d6a0",
   "metadata": {
    "scrolled": false
   },
   "outputs": [
    {
     "name": "stdout",
     "output_type": "stream",
     "text": [
      "9.013878188659973"
     ]
    }
   ],
   "source": [
    "print(norm(vec_b,2))"
   ]
  },
  {
   "cell_type": "markdown",
   "id": "6161ab48",
   "metadata": {},
   "source": [
    "## Matrices"
   ]
  },
  {
   "cell_type": "markdown",
   "id": "1e9c0ff9",
   "metadata": {},
   "source": [
    "### Creating matrix"
   ]
  },
  {
   "cell_type": "markdown",
   "id": "cb2c254b",
   "metadata": {},
   "source": [
    "You can create matrix by putting elements between square brackets, separated by empty spaces, and using semi-colons to separate rows."
   ]
  },
  {
   "cell_type": "code",
   "execution_count": 23,
   "id": "ac653b77",
   "metadata": {},
   "outputs": [
    {
     "data": {
      "text/plain": [
       "3×3 Matrix{Int64}:\n",
       " 1  2  3\n",
       " 4  5  6\n",
       " 7  8  9"
      ]
     },
     "execution_count": 23,
     "metadata": {},
     "output_type": "execute_result"
    }
   ],
   "source": [
    "mat_a = [1 2 3;4 5 6;7 8 9]"
   ]
  },
  {
   "cell_type": "markdown",
   "id": "f6fa7efa",
   "metadata": {},
   "source": [
    "You can also create floating numbers matrices."
   ]
  },
  {
   "cell_type": "code",
   "execution_count": 29,
   "id": "788d36e5",
   "metadata": {},
   "outputs": [
    {
     "data": {
      "text/plain": [
       "3×3 Matrix{Float64}:\n",
       " 1.5  3.0  4.5\n",
       " 2.0  4.0  6.0\n",
       " 2.5  5.0  7.5"
      ]
     },
     "execution_count": 29,
     "metadata": {},
     "output_type": "execute_result"
    }
   ],
   "source": [
    "mat_b = [1.5 3 4.5;2 4 6;2.5 5 7.5]"
   ]
  },
  {
   "cell_type": "markdown",
   "id": "3a184151",
   "metadata": {},
   "source": [
    "You can also convert a `DataFrame` to a `matrix`."
   ]
  },
  {
   "cell_type": "code",
   "execution_count": 45,
   "id": "d326c6f7",
   "metadata": {
    "scrolled": true
   },
   "outputs": [
    {
     "data": {
      "text/html": [
       "<div><div style = \"float: left;\"><span>3×3 DataFrame</span></div><div style = \"clear: both;\"></div></div><div class = \"data-frame\" style = \"overflow-x: scroll;\"><table class = \"data-frame\" style = \"margin-bottom: 6px;\"><thead><tr class = \"header\"><th class = \"rowNumber\" style = \"font-weight: bold; text-align: right;\">Row</th><th style = \"text-align: left;\">A</th><th style = \"text-align: left;\">B</th><th style = \"text-align: left;\">C</th></tr><tr class = \"subheader headerLastRow\"><th class = \"rowNumber\" style = \"font-weight: bold; text-align: right;\"></th><th title = \"Int64\" style = \"text-align: left;\">Int64</th><th title = \"Int64\" style = \"text-align: left;\">Int64</th><th title = \"String\" style = \"text-align: left;\">String</th></tr></thead><tbody><tr><td class = \"rowNumber\" style = \"font-weight: bold; text-align: right;\">1</td><td style = \"text-align: right;\">1</td><td style = \"text-align: right;\">2</td><td style = \"text-align: left;\">M</td></tr><tr><td class = \"rowNumber\" style = \"font-weight: bold; text-align: right;\">2</td><td style = \"text-align: right;\">2</td><td style = \"text-align: right;\">4</td><td style = \"text-align: left;\">F</td></tr><tr><td class = \"rowNumber\" style = \"font-weight: bold; text-align: right;\">3</td><td style = \"text-align: right;\">3</td><td style = \"text-align: right;\">6</td><td style = \"text-align: left;\">F</td></tr></tbody></table></div>"
      ],
      "text/latex": [
       "\\begin{tabular}{r|ccc}\n",
       "\t& A & B & C\\\\\n",
       "\t\\hline\n",
       "\t& Int64 & Int64 & String\\\\\n",
       "\t\\hline\n",
       "\t1 & 1 & 2 & M \\\\\n",
       "\t2 & 2 & 4 & F \\\\\n",
       "\t3 & 3 & 6 & F \\\\\n",
       "\\end{tabular}\n"
      ],
      "text/plain": [
       "\u001b[1m3×3 DataFrame\u001b[0m\n",
       "\u001b[1m Row \u001b[0m│\u001b[1m A     \u001b[0m\u001b[1m B     \u001b[0m\u001b[1m C      \u001b[0m\n",
       "     │\u001b[90m Int64 \u001b[0m\u001b[90m Int64 \u001b[0m\u001b[90m String \u001b[0m\n",
       "─────┼──────────────────────\n",
       "   1 │     1      2  M\n",
       "   2 │     2      4  F\n",
       "   3 │     3      6  F"
      ]
     },
     "execution_count": 45,
     "metadata": {},
     "output_type": "execute_result"
    }
   ],
   "source": [
    "df = DataFrame(A = 1:3, B = 2:2:6, C = [\"M\", \"F\", \"F\"])"
   ]
  },
  {
   "cell_type": "code",
   "execution_count": 50,
   "id": "a13e718e",
   "metadata": {},
   "outputs": [
    {
     "data": {
      "text/plain": [
       "3×3 Matrix{Any}:\n",
       " 1  2  \"M\"\n",
       " 2  4  \"F\"\n",
       " 3  6  \"F\""
      ]
     },
     "execution_count": 50,
     "metadata": {},
     "output_type": "execute_result"
    }
   ],
   "source": [
    "mat_c = Matrix(df)"
   ]
  },
  {
   "cell_type": "markdown",
   "id": "41bd5d9b",
   "metadata": {},
   "source": [
    "Note that when converting dataframe to matrix, non-numerical value can also exist in your created matrix. This might cause errors when you try to do operations on your matrices."
   ]
  },
  {
   "cell_type": "markdown",
   "id": "ac429b8c",
   "metadata": {},
   "source": [
    "### Matrix operations"
   ]
  },
  {
   "cell_type": "markdown",
   "id": "8e827b71",
   "metadata": {},
   "source": [
    "Addition can also be done with `+` operator."
   ]
  },
  {
   "cell_type": "code",
   "execution_count": 111,
   "id": "ceb3e340",
   "metadata": {
    "scrolled": false
   },
   "outputs": [
    {
     "data": {
      "text/plain": [
       "3×3 Matrix{Float64}:\n",
       " 2.5   5.0   7.5\n",
       " 6.0   9.0  12.0\n",
       " 9.5  13.0  16.5"
      ]
     },
     "execution_count": 111,
     "metadata": {},
     "output_type": "execute_result"
    }
   ],
   "source": [
    "mat_a+mat_b"
   ]
  },
  {
   "cell_type": "markdown",
   "id": "c7bb5e8a",
   "metadata": {},
   "source": [
    "Scalar multiplication can also still be done with `*`."
   ]
  },
  {
   "cell_type": "code",
   "execution_count": 112,
   "id": "cdf98f2a",
   "metadata": {},
   "outputs": [
    {
     "data": {
      "text/plain": [
       "3×3 Matrix{Int64}:\n",
       "  5  10  15\n",
       " 20  25  30\n",
       " 35  40  45"
      ]
     },
     "execution_count": 112,
     "metadata": {},
     "output_type": "execute_result"
    }
   ],
   "source": [
    "5*mat_a"
   ]
  },
  {
   "cell_type": "markdown",
   "id": "0d1ac7a5",
   "metadata": {},
   "source": [
    "`*` operator can also be used for matrix multiplication. "
   ]
  },
  {
   "cell_type": "code",
   "execution_count": 113,
   "id": "ae70adcb",
   "metadata": {
    "scrolled": true
   },
   "outputs": [
    {
     "data": {
      "text/plain": [
       "3×3 Matrix{Float64}:\n",
       " 13.0  26.0   39.0\n",
       " 31.0  62.0   93.0\n",
       " 49.0  98.0  147.0"
      ]
     },
     "execution_count": 113,
     "metadata": {},
     "output_type": "execute_result"
    }
   ],
   "source": [
    "mat_a*mat_b"
   ]
  },
  {
   "cell_type": "markdown",
   "id": "5a1993ad",
   "metadata": {},
   "source": [
    "If you try multiplying two matrices with incompatible dimension, you will receive an error message as followed."
   ]
  },
  {
   "cell_type": "code",
   "execution_count": 116,
   "id": "c8f7b360",
   "metadata": {},
   "outputs": [
    {
     "ename": "LoadError",
     "evalue": "DimensionMismatch: matrix A has dimensions (3,1), matrix B has dimensions (3,3)",
     "output_type": "error",
     "traceback": [
      "DimensionMismatch: matrix A has dimensions (3,1), matrix B has dimensions (3,3)",
      "",
      "Stacktrace:",
      " [1] _generic_matmatmul!(C::Matrix{Int64}, tA::Char, tB::Char, A::Matrix{Int64}, B::Matrix{Int64}, _add::LinearAlgebra.MulAddMul{true, true, Bool, Bool})",
      "   @ LinearAlgebra C:\\Users\\dnhoa\\AppData\\Local\\Programs\\Julia-1.8.5\\share\\julia\\stdlib\\v1.8\\LinearAlgebra\\src\\matmul.jl:856",
      " [2] generic_matmatmul!(C::Matrix{Int64}, tA::Char, tB::Char, A::Matrix{Int64}, B::Matrix{Int64}, _add::LinearAlgebra.MulAddMul{true, true, Bool, Bool})",
      "   @ LinearAlgebra C:\\Users\\dnhoa\\AppData\\Local\\Programs\\Julia-1.8.5\\share\\julia\\stdlib\\v1.8\\LinearAlgebra\\src\\matmul.jl:844",
      " [3] mul!",
      "   @ C:\\Users\\dnhoa\\AppData\\Local\\Programs\\Julia-1.8.5\\share\\julia\\stdlib\\v1.8\\LinearAlgebra\\src\\matmul.jl:303 [inlined]",
      " [4] mul!",
      "   @ C:\\Users\\dnhoa\\AppData\\Local\\Programs\\Julia-1.8.5\\share\\julia\\stdlib\\v1.8\\LinearAlgebra\\src\\matmul.jl:276 [inlined]",
      " [5] *",
      "   @ C:\\Users\\dnhoa\\AppData\\Local\\Programs\\Julia-1.8.5\\share\\julia\\stdlib\\v1.8\\LinearAlgebra\\src\\matmul.jl:141 [inlined]",
      " [6] *(a::Vector{Int64}, B::Matrix{Int64})",
      "   @ LinearAlgebra C:\\Users\\dnhoa\\AppData\\Local\\Programs\\Julia-1.8.5\\share\\julia\\stdlib\\v1.8\\LinearAlgebra\\src\\matmul.jl:62",
      " [7] top-level scope",
      "   @ In[116]:1"
     ]
    }
   ],
   "source": [
    "[1;2;3]*mat_a"
   ]
  },
  {
   "cell_type": "markdown",
   "id": "73209528",
   "metadata": {},
   "source": [
    "You can check the dimensions of your matrices using the `size` function."
   ]
  },
  {
   "cell_type": "code",
   "execution_count": 118,
   "id": "b3417d71",
   "metadata": {},
   "outputs": [
    {
     "data": {
      "text/plain": [
       "(3, 3)"
      ]
     },
     "execution_count": 118,
     "metadata": {},
     "output_type": "execute_result"
    }
   ],
   "source": [
    "size(mat_a)"
   ]
  },
  {
   "cell_type": "markdown",
   "id": "3c5dd6b5",
   "metadata": {},
   "source": [
    "Hadamard product can be done with the `.*` operator."
   ]
  },
  {
   "cell_type": "code",
   "execution_count": 114,
   "id": "a544c902",
   "metadata": {},
   "outputs": [
    {
     "data": {
      "text/plain": [
       "3×3 Matrix{Float64}:\n",
       "  1.5   6.0  13.5\n",
       "  8.0  20.0  36.0\n",
       " 17.5  40.0  67.5"
      ]
     },
     "execution_count": 114,
     "metadata": {},
     "output_type": "execute_result"
    }
   ],
   "source": [
    "mat_a.*mat_b"
   ]
  },
  {
   "cell_type": "markdown",
   "id": "86ebf7d7",
   "metadata": {},
   "source": [
    "`'` is the transpose operator just like with vectors."
   ]
  },
  {
   "cell_type": "code",
   "execution_count": 102,
   "id": "46966c7c",
   "metadata": {},
   "outputs": [
    {
     "data": {
      "text/plain": [
       "3×3 Matrix{Int64}:\n",
       " 1  2  3\n",
       " 4  5  6\n",
       " 7  8  9"
      ]
     },
     "execution_count": 102,
     "metadata": {},
     "output_type": "execute_result"
    }
   ],
   "source": [
    "mat_a"
   ]
  },
  {
   "cell_type": "code",
   "execution_count": 103,
   "id": "e093f09a",
   "metadata": {},
   "outputs": [
    {
     "data": {
      "text/plain": [
       "3×3 adjoint(::Matrix{Int64}) with eltype Int64:\n",
       " 1  4  7\n",
       " 2  5  8\n",
       " 3  6  9"
      ]
     },
     "execution_count": 103,
     "metadata": {},
     "output_type": "execute_result"
    }
   ],
   "source": [
    "mat_a'"
   ]
  },
  {
   "cell_type": "markdown",
   "id": "016c4d54",
   "metadata": {},
   "source": [
    "Reshaping matrices can be done with `reshape` function."
   ]
  },
  {
   "cell_type": "code",
   "execution_count": 108,
   "id": "e549562e",
   "metadata": {},
   "outputs": [
    {
     "data": {
      "text/plain": [
       "1×9 Matrix{Int64}:\n",
       " 1  4  7  2  5  8  3  6  9"
      ]
     },
     "execution_count": 108,
     "metadata": {},
     "output_type": "execute_result"
    }
   ],
   "source": [
    "mat_a_reshaped = reshape(mat_a, (1,9))"
   ]
  },
  {
   "cell_type": "markdown",
   "id": "242a91e1",
   "metadata": {},
   "source": [
    "Note that the reshape function create a new matrix with the desired shape instead of actually reshaping the original matrix, so you will want to save the reshaped matrix into some variable to save it."
   ]
  },
  {
   "cell_type": "code",
   "execution_count": 105,
   "id": "1e57816b",
   "metadata": {},
   "outputs": [
    {
     "data": {
      "text/plain": [
       "3×3 Matrix{Int64}:\n",
       " 1  2  3\n",
       " 4  5  6\n",
       " 7  8  9"
      ]
     },
     "execution_count": 105,
     "metadata": {},
     "output_type": "execute_result"
    }
   ],
   "source": [
    "mat_a"
   ]
  },
  {
   "cell_type": "markdown",
   "id": "dae1e7c3",
   "metadata": {},
   "source": [
    "If you try to reshape a matrix without enough/ with too much spaces, an error message will pop up."
   ]
  },
  {
   "cell_type": "code",
   "execution_count": 110,
   "id": "0bb58f08",
   "metadata": {},
   "outputs": [
    {
     "ename": "LoadError",
     "evalue": "DimensionMismatch: new dimensions (1, 10) must be consistent with array size 9",
     "output_type": "error",
     "traceback": [
      "DimensionMismatch: new dimensions (1, 10) must be consistent with array size 9",
      "",
      "Stacktrace:",
      " [1] (::Base.var\"#throw_dmrsa#289\")(dims::Tuple{Int64, Int64}, len::Int64)",
      "   @ Base .\\reshapedarray.jl:41",
      " [2] reshape(a::Matrix{Int64}, dims::Tuple{Int64, Int64})",
      "   @ Base .\\reshapedarray.jl:45",
      " [3] top-level scope",
      "   @ In[110]:1"
     ]
    }
   ],
   "source": [
    "reshape(mat_a, (1,10))"
   ]
  },
  {
   "cell_type": "code",
   "execution_count": 109,
   "id": "6c92f3f0",
   "metadata": {},
   "outputs": [
    {
     "ename": "LoadError",
     "evalue": "DimensionMismatch: new dimensions (1, 8) must be consistent with array size 9",
     "output_type": "error",
     "traceback": [
      "DimensionMismatch: new dimensions (1, 8) must be consistent with array size 9",
      "",
      "Stacktrace:",
      " [1] (::Base.var\"#throw_dmrsa#289\")(dims::Tuple{Int64, Int64}, len::Int64)",
      "   @ Base .\\reshapedarray.jl:41",
      " [2] reshape(a::Matrix{Int64}, dims::Tuple{Int64, Int64})",
      "   @ Base .\\reshapedarray.jl:45",
      " [3] top-level scope",
      "   @ In[109]:1"
     ]
    }
   ],
   "source": [
    "reshape(mat_a, (1,8))"
   ]
  },
  {
   "cell_type": "markdown",
   "id": "3e8b7e0a",
   "metadata": {},
   "source": [
    "## Tensors"
   ]
  },
  {
   "cell_type": "markdown",
   "id": "c4c7f3b5",
   "metadata": {},
   "source": [
    "Tensors is a generalization of vectors and matrices that has more than two dimensions. It is a very powerful tool that helps with a lot of data science models, especially neural networks ones. We won't be covering tensors in this course, but if you want to learn about it and want to use Julia, there is the `tensors` package that supports tensors operations."
   ]
  }
 ],
 "metadata": {
  "kernelspec": {
   "display_name": "Julia 1.8.5",
   "language": "julia",
   "name": "julia-1.8"
  },
  "language_info": {
   "file_extension": ".jl",
   "mimetype": "application/julia",
   "name": "julia",
   "version": "1.8.5"
  }
 },
 "nbformat": 4,
 "nbformat_minor": 5
}
