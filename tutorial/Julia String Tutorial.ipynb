{
 "cells": [
  {
   "cell_type": "markdown",
   "id": "eaed3166",
   "metadata": {},
   "source": [
    "## Julia String Tutorial\n",
    "\n",
    "This tutorial will go over some useful String methods in Julia as well as regular expressions (regex/regexes)"
   ]
  },
  {
   "cell_type": "markdown",
   "id": "26b45709",
   "metadata": {},
   "source": [
    "### Useful functions\n",
    "These may be useful for programming assignment 2   \\*wink\\* \n",
    "\n",
    "New operator: \n",
    "x => y \n",
    "Creates a Pair object (x,y). This can also be done by using Pair(x, y)."
   ]
  },
  {
   "cell_type": "code",
   "execution_count": 3,
   "id": "ad13a8cd",
   "metadata": {},
   "outputs": [
    {
     "name": "stdout",
     "output_type": "stream",
     "text": [
      "Gee, I sure dooo looove Julia Strings. They're my favooourite things.\n",
      "Gee, I sure dooo looove Strings. They're my favooourite things.\n",
      "Gee, I sure do love Julia Strings. They're my favourite things.\n"
     ]
    }
   ],
   "source": [
    "# replace(str, Pair(x, y))  replaces all occurences of x in str with y, returning the resulting string. \n",
    "\n",
    "string1 = \"Gee, I sure do love Julia Strings. They're my favourite things.\"\n",
    "\n",
    "println(replace(string1, \"o\" => \"ooo\"))\n",
    "    \n",
    "println(replace(replace(string1, \"o\" => \"ooo\"), Pair(\"Julia \", \"\")))\n",
    "\n",
    "println(string1)"
   ]
  },
  {
   "cell_type": "code",
   "execution_count": 4,
   "id": "389b9032",
   "metadata": {},
   "outputs": [
    {
     "name": "stdout",
     "output_type": "stream",
     "text": [
      "SubString{String}[\"Gee,\", \"I\", \"sure\", \"do\", \"love\", \"Julia\", \"Strings.\", \"They're\", \"my\", \"favourite\", \"things.\"]\n"
     ]
    },
    {
     "data": {
      "text/plain": [
       "3-element Vector{SubString{String}}:\n",
       " \"Gee, I sure do love Julia Strings\"\n",
       " \" They're my favourite things\"\n",
       " \"\""
      ]
     },
     "execution_count": 4,
     "metadata": {},
     "output_type": "execute_result"
    }
   ],
   "source": [
    "# We can use split(str) to remove all whitespace from a string, dividing it into an array\n",
    "\n",
    "all_the_words = split(string1)\n",
    "println(all_the_words)\n",
    "\n",
    "# split(str, delimiter) will split on delimiter instead of defaulting to white space. \n",
    "# All instances of the delimiter are removed from any substrings\n",
    "\n",
    "sentence_split = split(string1, \". \")"
   ]
  },
  {
   "cell_type": "markdown",
   "id": "f5406361",
   "metadata": {},
   "source": [
    "#### The methods findfirst, findnext, findprev, findlast, and findall can be used to find indices of substrings in the larger string.\n"
   ]
  },
  {
   "cell_type": "code",
   "execution_count": 6,
   "id": "6a8ccd1c",
   "metadata": {},
   "outputs": [
    {
     "name": "stdout",
     "output_type": "stream",
     "text": [
      "type = UnitRange{Int64}\n",
      "value = 5:5\n",
      "first index = 5\n"
     ]
    },
    {
     "ename": "LoadError",
     "evalue": "BoundsError: attempt to access 1-element UnitRange{Int64} at index [2]",
     "output_type": "error",
     "traceback": [
      "BoundsError: attempt to access 1-element UnitRange{Int64} at index [2]",
      "",
      "Stacktrace:",
      " [1] throw_boundserror(A::UnitRange{Int64}, I::Int64)",
      "   @ Base .\\abstractarray.jl:703",
      " [2] getindex(v::UnitRange{Int64}, i::Int64)",
      "   @ Base .\\range.jl:907",
      " [3] top-level scope",
      "   @ In[6]:10"
     ]
    }
   ],
   "source": [
    "# These all return UnitRange objects, with findall returning an array of these objects\n",
    "string1 = \"Gee, I sure do love Julia Strings. They're my favourite things.\"\n",
    "\n",
    "# Let's check out the type of one of these objects\n",
    "range = findfirst(\" \", string1)\n",
    "println(\"type = $(typeof(range))\" * \"\\nvalue = $range\")\n",
    "println(\"first index = $(range[1])\")\n",
    "\n",
    "# You can only grab the second index if it is different from the first, which is a bit goofy\n",
    "println(\"second index = $(range[2])\")"
   ]
  },
  {
   "cell_type": "code",
   "execution_count": 94,
   "id": "32780348",
   "metadata": {},
   "outputs": [
    {
     "name": "stdout",
     "output_type": "stream",
     "text": [
      "5:5\n",
      "7:7\n",
      "12:12\n",
      "15:15\n",
      "20:20\n",
      "26:26\n",
      "35:35\n",
      "43:43\n",
      "46:46\n",
      "56:56\n",
      "nothing\n"
     ]
    }
   ],
   "source": [
    "# lets mess with findnext now  (findprev works similarly, but searches backwards)\n",
    "\n",
    "i = 1\n",
    "while i != nothing \n",
    "    next_occurrence = findnext(\" \", string1, i)\n",
    "    println(next_occurrence)\n",
    "    if next_occurrence == nothing\n",
    "        break\n",
    "    end\n",
    "    i = next_occurrence[1] + 1\n",
    "end\n"
   ]
  },
  {
   "cell_type": "markdown",
   "id": "fda20151",
   "metadata": {},
   "source": [
    "## Quick aside: Documentation\n",
    "If you forget the parameters of a method or what the method does, you can search for it on google -or- you can run \"?<method name>\" in julia an empty notebook cell or julia in the command line  [demo in both]"
   ]
  },
  {
   "cell_type": "code",
   "execution_count": 7,
   "id": "10f509ae",
   "metadata": {},
   "outputs": [
    {
     "name": "stdout",
     "output_type": "stream",
     "text": [
      "search: \u001b[0m\u001b[1ms\u001b[22m\u001b[0m\u001b[1mp\u001b[22m\u001b[0m\u001b[1ml\u001b[22m\u001b[0m\u001b[1mi\u001b[22m\u001b[0m\u001b[1mt\u001b[22m \u001b[0m\u001b[1ms\u001b[22m\u001b[0m\u001b[1mp\u001b[22m\u001b[0m\u001b[1ml\u001b[22m\u001b[0m\u001b[1mi\u001b[22m\u001b[0m\u001b[1mt\u001b[22mext \u001b[0m\u001b[1ms\u001b[22m\u001b[0m\u001b[1mp\u001b[22m\u001b[0m\u001b[1ml\u001b[22m\u001b[0m\u001b[1mi\u001b[22m\u001b[0m\u001b[1mt\u001b[22mdir \u001b[0m\u001b[1ms\u001b[22m\u001b[0m\u001b[1mp\u001b[22m\u001b[0m\u001b[1ml\u001b[22m\u001b[0m\u001b[1mi\u001b[22m\u001b[0m\u001b[1mt\u001b[22mpath \u001b[0m\u001b[1ms\u001b[22m\u001b[0m\u001b[1mp\u001b[22m\u001b[0m\u001b[1ml\u001b[22m\u001b[0m\u001b[1mi\u001b[22m\u001b[0m\u001b[1mt\u001b[22mdrive r\u001b[0m\u001b[1ms\u001b[22m\u001b[0m\u001b[1mp\u001b[22m\u001b[0m\u001b[1ml\u001b[22m\u001b[0m\u001b[1mi\u001b[22m\u001b[0m\u001b[1mt\u001b[22m each\u001b[0m\u001b[1ms\u001b[22m\u001b[0m\u001b[1mp\u001b[22m\u001b[0m\u001b[1ml\u001b[22m\u001b[0m\u001b[1mi\u001b[22m\u001b[0m\u001b[1mt\u001b[22m\n",
      "\n"
     ]
    },
    {
     "data": {
      "text/latex": [
       "\\begin{verbatim}\n",
       "split(str::AbstractString, dlm; limit::Integer=0, keepempty::Bool=true)\n",
       "split(str::AbstractString; limit::Integer=0, keepempty::Bool=false)\n",
       "\\end{verbatim}\n",
       "Split \\texttt{str} into an array of substrings on occurrences of the delimiter(s) \\texttt{dlm}.  \\texttt{dlm} can be any of the formats allowed by \\href{@ref}{\\texttt{findnext}}'s first argument (i.e. as a string, regular expression or a function), or as a single character or collection of characters.\n",
       "\n",
       "If \\texttt{dlm} is omitted, it defaults to \\href{@ref}{\\texttt{isspace}}.\n",
       "\n",
       "The optional keyword arguments are:\n",
       "\n",
       "\\begin{itemize}\n",
       "\\item \\texttt{limit}: the maximum size of the result. \\texttt{limit=0} implies no maximum (default)\n",
       "\n",
       "\n",
       "\\item \\texttt{keepempty}: whether empty fields should be kept in the result. Default is \\texttt{false} without a \\texttt{dlm} argument, \\texttt{true} with a \\texttt{dlm} argument.\n",
       "\n",
       "\\end{itemize}\n",
       "See also \\href{@ref}{\\texttt{rsplit}}, \\href{@ref}{\\texttt{eachsplit}}.\n",
       "\n",
       "\\section{Examples}\n",
       "\\begin{verbatim}\n",
       "julia> a = \"Ma.rch\"\n",
       "\"Ma.rch\"\n",
       "\n",
       "julia> split(a, \".\")\n",
       "2-element Vector{SubString{String}}:\n",
       " \"Ma\"\n",
       " \"rch\"\n",
       "\\end{verbatim}\n"
      ],
      "text/markdown": [
       "```\n",
       "split(str::AbstractString, dlm; limit::Integer=0, keepempty::Bool=true)\n",
       "split(str::AbstractString; limit::Integer=0, keepempty::Bool=false)\n",
       "```\n",
       "\n",
       "Split `str` into an array of substrings on occurrences of the delimiter(s) `dlm`.  `dlm` can be any of the formats allowed by [`findnext`](@ref)'s first argument (i.e. as a string, regular expression or a function), or as a single character or collection of characters.\n",
       "\n",
       "If `dlm` is omitted, it defaults to [`isspace`](@ref).\n",
       "\n",
       "The optional keyword arguments are:\n",
       "\n",
       "  * `limit`: the maximum size of the result. `limit=0` implies no maximum (default)\n",
       "  * `keepempty`: whether empty fields should be kept in the result. Default is `false` without a `dlm` argument, `true` with a `dlm` argument.\n",
       "\n",
       "See also [`rsplit`](@ref), [`eachsplit`](@ref).\n",
       "\n",
       "# Examples\n",
       "\n",
       "```jldoctest\n",
       "julia> a = \"Ma.rch\"\n",
       "\"Ma.rch\"\n",
       "\n",
       "julia> split(a, \".\")\n",
       "2-element Vector{SubString{String}}:\n",
       " \"Ma\"\n",
       " \"rch\"\n",
       "```\n"
      ],
      "text/plain": [
       "\u001b[36m  split(str::AbstractString, dlm; limit::Integer=0, keepempty::Bool=true)\u001b[39m\n",
       "\u001b[36m  split(str::AbstractString; limit::Integer=0, keepempty::Bool=false)\u001b[39m\n",
       "\n",
       "  Split \u001b[36mstr\u001b[39m into an array of substrings on occurrences of the delimiter(s)\n",
       "  \u001b[36mdlm\u001b[39m. \u001b[36mdlm\u001b[39m can be any of the formats allowed by \u001b[36mfindnext\u001b[39m's first argument\n",
       "  (i.e. as a string, regular expression or a function), or as a single\n",
       "  character or collection of characters.\n",
       "\n",
       "  If \u001b[36mdlm\u001b[39m is omitted, it defaults to \u001b[36misspace\u001b[39m.\n",
       "\n",
       "  The optional keyword arguments are:\n",
       "\n",
       "    •  \u001b[36mlimit\u001b[39m: the maximum size of the result. \u001b[36mlimit=0\u001b[39m implies no maximum\n",
       "       (default)\n",
       "\n",
       "    •  \u001b[36mkeepempty\u001b[39m: whether empty fields should be kept in the result.\n",
       "       Default is \u001b[36mfalse\u001b[39m without a \u001b[36mdlm\u001b[39m argument, \u001b[36mtrue\u001b[39m with a \u001b[36mdlm\u001b[39m argument.\n",
       "\n",
       "  See also \u001b[36mrsplit\u001b[39m, \u001b[36meachsplit\u001b[39m.\n",
       "\n",
       "\u001b[1m  Examples\u001b[22m\n",
       "\u001b[1m  ≡≡≡≡≡≡≡≡≡≡\u001b[22m\n",
       "\n",
       "\u001b[36m  julia> a = \"Ma.rch\"\u001b[39m\n",
       "\u001b[36m  \"Ma.rch\"\u001b[39m\n",
       "\u001b[36m  \u001b[39m\n",
       "\u001b[36m  julia> split(a, \".\")\u001b[39m\n",
       "\u001b[36m  2-element Vector{SubString{String}}:\u001b[39m\n",
       "\u001b[36m   \"Ma\"\u001b[39m\n",
       "\u001b[36m   \"rch\"\u001b[39m"
      ]
     },
     "execution_count": 7,
     "metadata": {},
     "output_type": "execute_result"
    }
   ],
   "source": [
    "?split"
   ]
  },
  {
   "cell_type": "markdown",
   "id": "2b5090f9",
   "metadata": {},
   "source": [
    "## Intro to Regex\n",
    "There's way more you can do with it than just this, but this should serve as an intro\n",
    "Regex is all about matching patterns quickly and easily. We can use it in many of the string methods listed above.\n"
   ]
  },
  {
   "cell_type": "code",
   "execution_count": 8,
   "id": "b64228d3",
   "metadata": {},
   "outputs": [
    {
     "data": {
      "text/plain": [
       "\"Here's some numbers: 483 4318 1593 053 4942 120 503 294. That sure is a lot of numbers\""
      ]
     },
     "execution_count": 8,
     "metadata": {},
     "output_type": "execute_result"
    }
   ],
   "source": [
    "string2 = \"Here's some numbers: 483 4318 1593 053 4942 120 503 294. That sure is a lot of numbers\"\n"
   ]
  },
  {
   "cell_type": "code",
   "execution_count": 9,
   "id": "9b4ba1fb",
   "metadata": {},
   "outputs": [
    {
     "name": "stdout",
     "output_type": "stream",
     "text": [
      "type = Regex\n",
      "first instance of e, y, or z in string is 2:2\n"
     ]
    }
   ],
   "source": [
    "# We can specify a regex by using the 'r' character before a string\n",
    "# Brackets in a regex search for any of the characters in the brackets\n",
    "regex = r\"[eyz]\"\n",
    "\n",
    "println(\"type = $(typeof(regex))\")\n",
    "println(\"first instance of e, y, or z in string is $(findfirst(regex, string2))\")\n",
    "\n"
   ]
  }
 ],
 "metadata": {
  "kernelspec": {
   "display_name": "Julia 1.8.5",
   "language": "julia",
   "name": "julia-1.8"
  },
  "language_info": {
   "file_extension": ".jl",
   "mimetype": "application/julia",
   "name": "julia",
   "version": "1.8.5"
  }
 },
 "nbformat": 4,
 "nbformat_minor": 5
}
