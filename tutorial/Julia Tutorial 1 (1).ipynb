{
 "cells": [
  {
   "cell_type": "markdown",
   "id": "7b1b5704",
   "metadata": {},
   "source": [
    "# Julia Tutorial 1\n",
    "\n",
    "\n",
    "Let's start by importing Printf and Statistics packages and trying some simple math expressions"
   ]
  },
  {
   "cell_type": "code",
   "execution_count": null,
   "id": "6cbd1d0b",
   "metadata": {},
   "outputs": [],
   "source": [
    "# only do this the first time you use each of these packages\n",
    "import Pkg; \n",
    "Pkg.add(\"Printf\")\n",
    "Pkg.add(\"Statistics\")\n",
    "\n",
    "using Printf\n",
    "using Statistics"
   ]
  },
  {
   "cell_type": "markdown",
   "id": "6711cd51",
   "metadata": {},
   "source": [
    "## Jupyter Notebook Tips\n",
    "\n",
    "1. To run a specific cell, hold shift and hit enter while that cell is highlighted.\n",
    "2. To clear all output, go to \"Cell\" near the top of your page, then \"All Output\", then \"Clear\" \n",
    "3. To start running from scratch (clear variables, functions, and imports from memory, click the circular arrow icon near \"Run\" on the top of the page\n",
    "4. To write words instead of code like in this cell, click \"Code\" on the top, and you can change it to \"Markdown\".\n",
    "\n",
    "#####  Markdown  (not demoed)\n",
    "- Markdown has a bunch of things you can do to make it look nice. \"## Your header\" can be used to make a nice header.\n",
    "- Double click a markdown cell to see how it's formatted in plain text\n",
    "- Use two blank lines to add a line of whitespace in your markdown\n",
    "- Numbered lists and bullet points can be nice too (both are used here in this cell; try double clicking to see how)"
   ]
  },
  {
   "cell_type": "markdown",
   "id": "51098469",
   "metadata": {},
   "source": [
    "## Data types\n",
    "\n",
    "Julia has a bunch of different primitive types, and you can even make your own! Here's what's built in:\n",
    "\n",
    "The basic integer and float types (signed and unsigned): \n",
    "Int64 and Float64 are the main ones we'll use. There's a bunch of different other sizes too (Int8 etc.)\n",
    "\n",
    "Boolean and character types: \n",
    "Bool and Char\n",
    "\n",
    "Text string types: \n",
    "String"
   ]
  },
  {
   "cell_type": "code",
   "execution_count": 4,
   "id": "27d69062",
   "metadata": {},
   "outputs": [
    {
     "name": "stdout",
     "output_type": "stream",
     "text": [
      "hello world"
     ]
    }
   ],
   "source": [
    "# We don't need to specify types in Julia! It's like Python in that regard \n",
    "x = 5\n",
    "x = \"hello world\"\n",
    "print(x)"
   ]
  },
  {
   "cell_type": "code",
   "execution_count": 5,
   "id": "03cd2c50",
   "metadata": {},
   "outputs": [
    {
     "ename": "LoadError",
     "evalue": "InexactError: Int64(3.14)",
     "output_type": "error",
     "traceback": [
      "InexactError: Int64(3.14)",
      "",
      "Stacktrace:",
      " [1] Int64(x::Float64)",
      "   @ Base .\\float.jl:788",
      " [2] top-level scope",
      "   @ In[5]:3"
     ]
    }
   ],
   "source": [
    "# This is bad because it loses information! \n",
    "# Julia throws an error because it wants you to to explicitly truncate your own variable\n",
    "println(Int64(3.14))"
   ]
  },
  {
   "cell_type": "code",
   "execution_count": 6,
   "id": "787a3f3f",
   "metadata": {},
   "outputs": [
    {
     "name": "stdout",
     "output_type": "stream",
     "text": [
      "3\n"
     ]
    }
   ],
   "source": [
    "# Example of casting float to int\n",
    "x = Int64(trunc(3.14))\n",
    "println(x)"
   ]
  },
  {
   "cell_type": "code",
   "execution_count": 7,
   "id": "afb1954f",
   "metadata": {},
   "outputs": [
    {
     "name": "stdout",
     "output_type": "stream",
     "text": [
      "62"
     ]
    }
   ],
   "source": [
    "# How to cast strings into numbers\n",
    "mister_string = \"62\"\n",
    "x = parse(Int64, mister_string)\n",
    "print(x)"
   ]
  },
  {
   "cell_type": "code",
   "execution_count": 8,
   "id": "7c05d37b",
   "metadata": {},
   "outputs": [
    {
     "ename": "LoadError",
     "evalue": "MethodError: \u001b[0mCannot `convert` an object of type \u001b[92mString\u001b[39m\u001b[0m to an object of type \u001b[91mInt32\u001b[39m\n\u001b[0mClosest candidates are:\n\u001b[0m  convert(::Type{T}, \u001b[91m::T\u001b[39m) where T<:Number at number.jl:6\n\u001b[0m  convert(::Type{T}, \u001b[91m::Number\u001b[39m) where T<:Number at number.jl:7\n\u001b[0m  convert(::Type{T}, \u001b[91m::Base.TwicePrecision\u001b[39m) where T<:Number at twiceprecision.jl:273\n\u001b[0m  ...",
     "output_type": "error",
     "traceback": [
      "MethodError: \u001b[0mCannot `convert` an object of type \u001b[92mString\u001b[39m\u001b[0m to an object of type \u001b[91mInt32\u001b[39m\n\u001b[0mClosest candidates are:\n\u001b[0m  convert(::Type{T}, \u001b[91m::T\u001b[39m) where T<:Number at number.jl:6\n\u001b[0m  convert(::Type{T}, \u001b[91m::Number\u001b[39m) where T<:Number at number.jl:7\n\u001b[0m  convert(::Type{T}, \u001b[91m::Base.TwicePrecision\u001b[39m) where T<:Number at twiceprecision.jl:273\n\u001b[0m  ...",
      "",
      "Stacktrace:",
      " [1] top-level scope",
      "   @ In[8]:6"
     ]
    }
   ],
   "source": [
    "#= \n",
    "We *can* specify types if we want to though! This helps with:\n",
    "- correctness:  errors relating to thinking something is a different type than it is are less likely.\n",
    "=#\n",
    "y::Int32 = 5\n",
    "y = \"hi (～￣▽￣)～\"\n",
    "print(y)"
   ]
  },
  {
   "cell_type": "markdown",
   "id": "e253e8d2",
   "metadata": {},
   "source": [
    "## Reading CSV files (Homework 1 Helpful Tips)"
   ]
  },
  {
   "cell_type": "code",
   "execution_count": 9,
   "id": "cc25b6ac",
   "metadata": {},
   "outputs": [],
   "source": [
    "# only do this the first time you use each of these packages\n",
    "# import Pkg; \n",
    "# Pkg.add(\"CSV\")\n",
    "# Pkg.add(\"DataFrames\")\n",
    "# Pkg.add(\"LinearAlgebra\")\n",
    "# Pkg.add(\"Dates\")\n",
    "# Pkg.add(\"Statistics\")\n",
    "\n",
    "using CSV\n",
    "using DataFrames\n",
    "using Statistics\n",
    "using LinearAlgebra\n",
    "using Dates"
   ]
  },
  {
   "cell_type": "code",
   "execution_count": 10,
   "id": "3e298bd4",
   "metadata": {
    "scrolled": true
   },
   "outputs": [
    {
     "data": {
      "text/plain": [
       "\"C:/Users/Cameron/Downloads/4.5_month.csv\""
      ]
     },
     "execution_count": 10,
     "metadata": {},
     "output_type": "execute_result"
    }
   ],
   "source": [
    "filepath = \"C:/Users/Cameron/Downloads/4.5_month.csv\""
   ]
  },
  {
   "cell_type": "code",
   "execution_count": 11,
   "id": "e7762098",
   "metadata": {},
   "outputs": [
    {
     "data": {
      "text/html": [
       "<div><div style = \"float: left;\"><span>552×22 DataFrame</span></div><div style = \"float: right;\"><span style = \"font-style: italic;\">527 rows omitted</span></div><div style = \"clear: both;\"></div></div><div class = \"data-frame\" style = \"overflow-x: scroll;\"><table class = \"data-frame\" style = \"margin-bottom: 6px;\"><thead><tr class = \"header\"><th class = \"rowNumber\" style = \"font-weight: bold; text-align: right;\">Row</th><th style = \"text-align: left;\">time</th><th style = \"text-align: left;\">latitude</th><th style = \"text-align: left;\">longitude</th><th style = \"text-align: left;\">depth</th><th style = \"text-align: left;\">mag</th><th style = \"text-align: left;\">magType</th><th style = \"text-align: left;\">nst</th><th style = \"text-align: left;\">gap</th><th style = \"text-align: left;\">dmin</th><th style = \"text-align: left;\">rms</th><th style = \"text-align: left;\">net</th><th style = \"text-align: left;\">id</th><th style = \"text-align: left;\">updated</th><th style = \"text-align: left;\">place</th><th style = \"text-align: left;\">type</th><th style = \"text-align: left;\">horizontalError</th><th style = \"text-align: left;\">depthError</th><th style = \"text-align: left;\">magError</th><th style = \"text-align: left;\">magNst</th><th style = \"text-align: left;\">status</th><th style = \"text-align: left;\">locationSource</th><th style = \"text-align: left;\">magSource</th></tr><tr class = \"subheader headerLastRow\"><th class = \"rowNumber\" style = \"font-weight: bold; text-align: right;\"></th><th title = \"String31\" style = \"text-align: left;\">String31</th><th title = \"Float64\" style = \"text-align: left;\">Float64</th><th title = \"Float64\" style = \"text-align: left;\">Float64</th><th title = \"Float64\" style = \"text-align: left;\">Float64</th><th title = \"Float64\" style = \"text-align: left;\">Float64</th><th title = \"String3\" style = \"text-align: left;\">String3</th><th title = \"Union{Missing, Int64}\" style = \"text-align: left;\">Int64?</th><th title = \"Union{Missing, Int64}\" style = \"text-align: left;\">Int64?</th><th title = \"Union{Missing, Float64}\" style = \"text-align: left;\">Float64?</th><th title = \"Float64\" style = \"text-align: left;\">Float64</th><th title = \"String3\" style = \"text-align: left;\">String3</th><th title = \"String15\" style = \"text-align: left;\">String15</th><th title = \"String31\" style = \"text-align: left;\">String31</th><th title = \"String\" style = \"text-align: left;\">String</th><th title = \"String15\" style = \"text-align: left;\">String15</th><th title = \"Union{Missing, Float64}\" style = \"text-align: left;\">Float64?</th><th title = \"Float64\" style = \"text-align: left;\">Float64</th><th title = \"Union{Missing, Float64}\" style = \"text-align: left;\">Float64?</th><th title = \"Union{Missing, Int64}\" style = \"text-align: left;\">Int64?</th><th title = \"String15\" style = \"text-align: left;\">String15</th><th title = \"String3\" style = \"text-align: left;\">String3</th><th title = \"String3\" style = \"text-align: left;\">String3</th></tr></thead><tbody><tr><td class = \"rowNumber\" style = \"font-weight: bold; text-align: right;\">1</td><td style = \"text-align: left;\">2023-01-28T20:09:58.816Z</td><td style = \"text-align: right;\">38.5084</td><td style = \"text-align: right;\">44.8234</td><td style = \"text-align: right;\">10.0</td><td style = \"text-align: right;\">4.5</td><td style = \"text-align: left;\">mb</td><td style = \"text-align: right;\">29</td><td style = \"text-align: right;\">83</td><td style = \"text-align: right;\">1.4</td><td style = \"text-align: right;\">0.91</td><td style = \"text-align: left;\">us</td><td style = \"text-align: left;\">us6000jk1j</td><td style = \"text-align: left;\">2023-01-28T22:32:40.040Z</td><td style = \"text-align: left;\">12 km WSW of Khowy, Iran</td><td style = \"text-align: left;\">earthquake</td><td style = \"text-align: right;\">8.0</td><td style = \"text-align: right;\">1.922</td><td style = \"text-align: right;\">0.096</td><td style = \"text-align: right;\">32</td><td style = \"text-align: left;\">reviewed</td><td style = \"text-align: left;\">us</td><td style = \"text-align: left;\">us</td></tr><tr><td class = \"rowNumber\" style = \"font-weight: bold; text-align: right;\">2</td><td style = \"text-align: left;\">2023-01-28T19:15:18.301Z</td><td style = \"text-align: right;\">1.9422</td><td style = \"text-align: right;\">128.227</td><td style = \"text-align: right;\">146.268</td><td style = \"text-align: right;\">5.3</td><td style = \"text-align: left;\">mww</td><td style = \"text-align: right;\">162</td><td style = \"text-align: right;\">24</td><td style = \"text-align: right;\">1.446</td><td style = \"text-align: right;\">0.86</td><td style = \"text-align: left;\">us</td><td style = \"text-align: left;\">us6000jk18</td><td style = \"text-align: left;\">2023-01-28T19:34:58.040Z</td><td style = \"text-align: left;\">33 km NE of Tobelo, Indonesia</td><td style = \"text-align: left;\">earthquake</td><td style = \"text-align: right;\">6.56</td><td style = \"text-align: right;\">4.915</td><td style = \"text-align: right;\">0.059</td><td style = \"text-align: right;\">28</td><td style = \"text-align: left;\">reviewed</td><td style = \"text-align: left;\">us</td><td style = \"text-align: left;\">us</td></tr><tr><td class = \"rowNumber\" style = \"font-weight: bold; text-align: right;\">3</td><td style = \"text-align: left;\">2023-01-28T18:14:44.998Z</td><td style = \"text-align: right;\">38.4246</td><td style = \"text-align: right;\">44.8991</td><td style = \"text-align: right;\">10.0</td><td style = \"text-align: right;\">5.9</td><td style = \"text-align: left;\">mww</td><td style = \"text-align: right;\">184</td><td style = \"text-align: right;\">31</td><td style = \"text-align: right;\">1.451</td><td style = \"text-align: right;\">0.81</td><td style = \"text-align: left;\">us</td><td style = \"text-align: left;\">us6000jk0t</td><td style = \"text-align: left;\">2023-01-28T21:45:50.178Z</td><td style = \"text-align: left;\">14 km SSW of Khowy, Iran</td><td style = \"text-align: left;\">earthquake</td><td style = \"text-align: right;\">5.19</td><td style = \"text-align: right;\">1.781</td><td style = \"text-align: right;\">0.045</td><td style = \"text-align: right;\">48</td><td style = \"text-align: left;\">reviewed</td><td style = \"text-align: left;\">us</td><td style = \"text-align: left;\">us</td></tr><tr><td class = \"rowNumber\" style = \"font-weight: bold; text-align: right;\">4</td><td style = \"text-align: left;\">2023-01-28T17:35:55.248Z</td><td style = \"text-align: right;\">52.2371</td><td style = \"text-align: right;\">157.381</td><td style = \"text-align: right;\">140.436</td><td style = \"text-align: right;\">4.7</td><td style = \"text-align: left;\">mb</td><td style = \"text-align: right;\">46</td><td style = \"text-align: right;\">137</td><td style = \"text-align: right;\">0.894</td><td style = \"text-align: right;\">0.75</td><td style = \"text-align: left;\">us</td><td style = \"text-align: left;\">us6000jk0q</td><td style = \"text-align: left;\">2023-01-28T18:05:42.040Z</td><td style = \"text-align: left;\">100 km SW of Paratunka, Russia</td><td style = \"text-align: left;\">earthquake</td><td style = \"text-align: right;\">9.72</td><td style = \"text-align: right;\">6.219</td><td style = \"text-align: right;\">0.037</td><td style = \"text-align: right;\">223</td><td style = \"text-align: left;\">reviewed</td><td style = \"text-align: left;\">us</td><td style = \"text-align: left;\">us</td></tr><tr><td class = \"rowNumber\" style = \"font-weight: bold; text-align: right;\">5</td><td style = \"text-align: left;\">2023-01-28T15:47:55.183Z</td><td style = \"text-align: right;\">-6.5211</td><td style = \"text-align: right;\">129.837</td><td style = \"text-align: right;\">160.853</td><td style = \"text-align: right;\">5.1</td><td style = \"text-align: left;\">mb</td><td style = \"text-align: right;\">34</td><td style = \"text-align: right;\">51</td><td style = \"text-align: right;\">2.052</td><td style = \"text-align: right;\">0.93</td><td style = \"text-align: left;\">us</td><td style = \"text-align: left;\">us6000jk04</td><td style = \"text-align: left;\">2023-01-28T16:01:46.040Z</td><td style = \"text-align: left;\">Banda Sea</td><td style = \"text-align: left;\">earthquake</td><td style = \"text-align: right;\">8.48</td><td style = \"text-align: right;\">9.307</td><td style = \"text-align: right;\">0.081</td><td style = \"text-align: right;\">50</td><td style = \"text-align: left;\">reviewed</td><td style = \"text-align: left;\">us</td><td style = \"text-align: left;\">us</td></tr><tr><td class = \"rowNumber\" style = \"font-weight: bold; text-align: right;\">6</td><td style = \"text-align: left;\">2023-01-28T13:53:09.671Z</td><td style = \"text-align: right;\">33.5453</td><td style = \"text-align: right;\">45.6996</td><td style = \"text-align: right;\">10.0</td><td style = \"text-align: right;\">4.6</td><td style = \"text-align: left;\">mb</td><td style = \"text-align: right;\">40</td><td style = \"text-align: right;\">112</td><td style = \"text-align: right;\">4.04</td><td style = \"text-align: right;\">0.63</td><td style = \"text-align: left;\">us</td><td style = \"text-align: left;\">us6000jjzp</td><td style = \"text-align: left;\">2023-01-28T16:32:27.040Z</td><td style = \"text-align: left;\">26 km SSE of Mandalī, Iraq</td><td style = \"text-align: left;\">earthquake</td><td style = \"text-align: right;\">10.05</td><td style = \"text-align: right;\">1.798</td><td style = \"text-align: right;\">0.07</td><td style = \"text-align: right;\">62</td><td style = \"text-align: left;\">reviewed</td><td style = \"text-align: left;\">us</td><td style = \"text-align: left;\">us</td></tr><tr><td class = \"rowNumber\" style = \"font-weight: bold; text-align: right;\">7</td><td style = \"text-align: left;\">2023-01-28T11:58:29.480Z</td><td style = \"text-align: right;\">-3.7951</td><td style = \"text-align: right;\">-80.4995</td><td style = \"text-align: right;\">59.274</td><td style = \"text-align: right;\">4.5</td><td style = \"text-align: left;\">mb</td><td style = \"text-align: right;\">17</td><td style = \"text-align: right;\">173</td><td style = \"text-align: right;\">0.497</td><td style = \"text-align: right;\">0.73</td><td style = \"text-align: left;\">us</td><td style = \"text-align: left;\">us6000jjzg</td><td style = \"text-align: left;\">2023-01-28T12:31:09.040Z</td><td style = \"text-align: left;\">23 km NE of Cañaveral, Peru</td><td style = \"text-align: left;\">earthquake</td><td style = \"text-align: right;\">10.35</td><td style = \"text-align: right;\">8.778</td><td style = \"text-align: right;\">0.222</td><td style = \"text-align: right;\">6</td><td style = \"text-align: left;\">reviewed</td><td style = \"text-align: left;\">us</td><td style = \"text-align: left;\">us</td></tr><tr><td class = \"rowNumber\" style = \"font-weight: bold; text-align: right;\">8</td><td style = \"text-align: left;\">2023-01-28T09:13:23.160Z</td><td style = \"text-align: right;\">-34.8219</td><td style = \"text-align: right;\">54.3574</td><td style = \"text-align: right;\">10.0</td><td style = \"text-align: right;\">5.3</td><td style = \"text-align: left;\">mb</td><td style = \"text-align: right;\">69</td><td style = \"text-align: right;\">64</td><td style = \"text-align: right;\">11.749</td><td style = \"text-align: right;\">0.46</td><td style = \"text-align: left;\">us</td><td style = \"text-align: left;\">us6000jjyp</td><td style = \"text-align: left;\">2023-01-28T09:33:25.040Z</td><td style = \"text-align: left;\">Southwest Indian Ridge</td><td style = \"text-align: left;\">earthquake</td><td style = \"text-align: right;\">7.59</td><td style = \"text-align: right;\">1.825</td><td style = \"text-align: right;\">0.059</td><td style = \"text-align: right;\">96</td><td style = \"text-align: left;\">reviewed</td><td style = \"text-align: left;\">us</td><td style = \"text-align: left;\">us</td></tr><tr><td class = \"rowNumber\" style = \"font-weight: bold; text-align: right;\">9</td><td style = \"text-align: left;\">2023-01-28T05:02:34.818Z</td><td style = \"text-align: right;\">13.1645</td><td style = \"text-align: right;\">145.547</td><td style = \"text-align: right;\">10.0</td><td style = \"text-align: right;\">5.0</td><td style = \"text-align: left;\">mb</td><td style = \"text-align: right;\">29</td><td style = \"text-align: right;\">140</td><td style = \"text-align: right;\">0.784</td><td style = \"text-align: right;\">0.63</td><td style = \"text-align: left;\">us</td><td style = \"text-align: left;\">us6000jjxp</td><td style = \"text-align: left;\">2023-01-28T17:12:48.244Z</td><td style = \"text-align: left;\">82 km ESE of Yigo Village, Guam</td><td style = \"text-align: left;\">earthquake</td><td style = \"text-align: right;\">11.53</td><td style = \"text-align: right;\">1.918</td><td style = \"text-align: right;\">0.076</td><td style = \"text-align: right;\">57</td><td style = \"text-align: left;\">reviewed</td><td style = \"text-align: left;\">us</td><td style = \"text-align: left;\">us</td></tr><tr><td class = \"rowNumber\" style = \"font-weight: bold; text-align: right;\">10</td><td style = \"text-align: left;\">2023-01-28T02:51:33.287Z</td><td style = \"text-align: right;\">-24.3633</td><td style = \"text-align: right;\">-179.759</td><td style = \"text-align: right;\">506.61</td><td style = \"text-align: right;\">4.5</td><td style = \"text-align: left;\">mb</td><td style = \"text-align: right;\">21</td><td style = \"text-align: right;\">107</td><td style = \"text-align: right;\">5.148</td><td style = \"text-align: right;\">0.63</td><td style = \"text-align: left;\">us</td><td style = \"text-align: left;\">us6000jjwj</td><td style = \"text-align: left;\">2023-01-28T03:18:26.040Z</td><td style = \"text-align: left;\">south of the Fiji Islands</td><td style = \"text-align: left;\">earthquake</td><td style = \"text-align: right;\">21.36</td><td style = \"text-align: right;\">14.945</td><td style = \"text-align: right;\">0.15</td><td style = \"text-align: right;\">15</td><td style = \"text-align: left;\">reviewed</td><td style = \"text-align: left;\">us</td><td style = \"text-align: left;\">us</td></tr><tr><td class = \"rowNumber\" style = \"font-weight: bold; text-align: right;\">11</td><td style = \"text-align: left;\">2023-01-28T00:03:31.369Z</td><td style = \"text-align: right;\">3.129</td><td style = \"text-align: right;\">127.084</td><td style = \"text-align: right;\">35.104</td><td style = \"text-align: right;\">4.6</td><td style = \"text-align: left;\">mb</td><td style = \"text-align: right;\">31</td><td style = \"text-align: right;\">112</td><td style = \"text-align: right;\">2.358</td><td style = \"text-align: right;\">0.46</td><td style = \"text-align: left;\">us</td><td style = \"text-align: left;\">us6000jjvx</td><td style = \"text-align: left;\">2023-01-28T00:23:38.040Z</td><td style = \"text-align: left;\">Kepulauan Talaud, Indonesia</td><td style = \"text-align: left;\">earthquake</td><td style = \"text-align: right;\">6.26</td><td style = \"text-align: right;\">8.655</td><td style = \"text-align: right;\">0.119</td><td style = \"text-align: right;\">21</td><td style = \"text-align: left;\">reviewed</td><td style = \"text-align: left;\">us</td><td style = \"text-align: left;\">us</td></tr><tr><td class = \"rowNumber\" style = \"font-weight: bold; text-align: right;\">12</td><td style = \"text-align: left;\">2023-01-27T20:25:29.172Z</td><td style = \"text-align: right;\">10.6669</td><td style = \"text-align: right;\">125.454</td><td style = \"text-align: right;\">90.822</td><td style = \"text-align: right;\">5.4</td><td style = \"text-align: left;\">mww</td><td style = \"text-align: right;\">227</td><td style = \"text-align: right;\">24</td><td style = \"text-align: right;\">3.576</td><td style = \"text-align: right;\">0.72</td><td style = \"text-align: left;\">us</td><td style = \"text-align: left;\">us6000jjtj</td><td style = \"text-align: left;\">2023-01-28T20:29:11.261Z</td><td style = \"text-align: left;\">Leyte, Philippines</td><td style = \"text-align: left;\">earthquake</td><td style = \"text-align: right;\">8.55</td><td style = \"text-align: right;\">4.005</td><td style = \"text-align: right;\">0.066</td><td style = \"text-align: right;\">22</td><td style = \"text-align: left;\">reviewed</td><td style = \"text-align: left;\">us</td><td style = \"text-align: left;\">us</td></tr><tr><td class = \"rowNumber\" style = \"font-weight: bold; text-align: right;\">13</td><td style = \"text-align: left;\">2023-01-27T18:18:00.454Z</td><td style = \"text-align: right;\">-2.8446</td><td style = \"text-align: right;\">129.618</td><td style = \"text-align: right;\">20.664</td><td style = \"text-align: right;\">4.7</td><td style = \"text-align: left;\">mb</td><td style = \"text-align: right;\">92</td><td style = \"text-align: right;\">62</td><td style = \"text-align: right;\">2.628</td><td style = \"text-align: right;\">0.6</td><td style = \"text-align: left;\">us</td><td style = \"text-align: left;\">us6000jjsz</td><td style = \"text-align: left;\">2023-01-27T20:31:54.040Z</td><td style = \"text-align: left;\">95 km NE of Amahai, Indonesia</td><td style = \"text-align: left;\">earthquake</td><td style = \"text-align: right;\">4.25</td><td style = \"text-align: right;\">4.631</td><td style = \"text-align: right;\">0.066</td><td style = \"text-align: right;\">78</td><td style = \"text-align: left;\">reviewed</td><td style = \"text-align: left;\">us</td><td style = \"text-align: left;\">us</td></tr><tr><td style = \"text-align: right;\">&vellip;</td><td style = \"text-align: right;\">&vellip;</td><td style = \"text-align: right;\">&vellip;</td><td style = \"text-align: right;\">&vellip;</td><td style = \"text-align: right;\">&vellip;</td><td style = \"text-align: right;\">&vellip;</td><td style = \"text-align: right;\">&vellip;</td><td style = \"text-align: right;\">&vellip;</td><td style = \"text-align: right;\">&vellip;</td><td style = \"text-align: right;\">&vellip;</td><td style = \"text-align: right;\">&vellip;</td><td style = \"text-align: right;\">&vellip;</td><td style = \"text-align: right;\">&vellip;</td><td style = \"text-align: right;\">&vellip;</td><td style = \"text-align: right;\">&vellip;</td><td style = \"text-align: right;\">&vellip;</td><td style = \"text-align: right;\">&vellip;</td><td style = \"text-align: right;\">&vellip;</td><td style = \"text-align: right;\">&vellip;</td><td style = \"text-align: right;\">&vellip;</td><td style = \"text-align: right;\">&vellip;</td><td style = \"text-align: right;\">&vellip;</td><td style = \"text-align: right;\">&vellip;</td></tr><tr><td class = \"rowNumber\" style = \"font-weight: bold; text-align: right;\">541</td><td style = \"text-align: left;\">2022-12-30T15:35:13.580Z</td><td style = \"text-align: right;\">-23.1339</td><td style = \"text-align: right;\">-175.272</td><td style = \"text-align: right;\">10.0</td><td style = \"text-align: right;\">4.8</td><td style = \"text-align: left;\">mb</td><td style = \"text-align: right;\">31</td><td style = \"text-align: right;\">76</td><td style = \"text-align: right;\">1.956</td><td style = \"text-align: right;\">0.95</td><td style = \"text-align: left;\">us</td><td style = \"text-align: left;\">us7000j12q</td><td style = \"text-align: left;\">2023-01-22T20:19:37.040Z</td><td style = \"text-align: left;\">Tonga region</td><td style = \"text-align: left;\">earthquake</td><td style = \"text-align: right;\">12.44</td><td style = \"text-align: right;\">1.856</td><td style = \"text-align: right;\">0.087</td><td style = \"text-align: right;\">41</td><td style = \"text-align: left;\">reviewed</td><td style = \"text-align: left;\">us</td><td style = \"text-align: left;\">us</td></tr><tr><td class = \"rowNumber\" style = \"font-weight: bold; text-align: right;\">542</td><td style = \"text-align: left;\">2022-12-30T12:10:45.211Z</td><td style = \"text-align: right;\">-7.9548</td><td style = \"text-align: right;\">128.88</td><td style = \"text-align: right;\">35.0</td><td style = \"text-align: right;\">5.0</td><td style = \"text-align: left;\">mb</td><td style = \"text-align: right;\">62</td><td style = \"text-align: right;\">56</td><td style = \"text-align: right;\">2.396</td><td style = \"text-align: right;\">0.54</td><td style = \"text-align: left;\">us</td><td style = \"text-align: left;\">us7000j11x</td><td style = \"text-align: left;\">2023-01-14T10:36:17.040Z</td><td style = \"text-align: left;\">216 km ENE of Lospalos, Timor Leste</td><td style = \"text-align: left;\">earthquake</td><td style = \"text-align: right;\">3.41</td><td style = \"text-align: right;\">1.898</td><td style = \"text-align: right;\">0.067</td><td style = \"text-align: right;\">71</td><td style = \"text-align: left;\">reviewed</td><td style = \"text-align: left;\">us</td><td style = \"text-align: left;\">us</td></tr><tr><td class = \"rowNumber\" style = \"font-weight: bold; text-align: right;\">543</td><td style = \"text-align: left;\">2022-12-30T09:42:09.278Z</td><td style = \"text-align: right;\">-21.8971</td><td style = \"text-align: right;\">-174.761</td><td style = \"text-align: right;\">22.64</td><td style = \"text-align: right;\">5.4</td><td style = \"text-align: left;\">mww</td><td style = \"text-align: right;\">82</td><td style = \"text-align: right;\">45</td><td style = \"text-align: right;\">0.833</td><td style = \"text-align: right;\">0.67</td><td style = \"text-align: left;\">us</td><td style = \"text-align: left;\">us7000j11e</td><td style = \"text-align: left;\">2023-01-26T12:04:30.322Z</td><td style = \"text-align: left;\">65 km SSE of ‘Ohonua, Tonga</td><td style = \"text-align: left;\">earthquake</td><td style = \"text-align: right;\">7.45</td><td style = \"text-align: right;\">4.744</td><td style = \"text-align: right;\">0.083</td><td style = \"text-align: right;\">14</td><td style = \"text-align: left;\">reviewed</td><td style = \"text-align: left;\">us</td><td style = \"text-align: left;\">us</td></tr><tr><td class = \"rowNumber\" style = \"font-weight: bold; text-align: right;\">544</td><td style = \"text-align: left;\">2022-12-30T06:47:45.290Z</td><td style = \"text-align: right;\">-0.1964</td><td style = \"text-align: right;\">97.2636</td><td style = \"text-align: right;\">16.955</td><td style = \"text-align: right;\">4.6</td><td style = \"text-align: left;\">mb</td><td style = \"text-align: right;\">42</td><td style = \"text-align: right;\">190</td><td style = \"text-align: right;\">1.523</td><td style = \"text-align: right;\">0.81</td><td style = \"text-align: left;\">us</td><td style = \"text-align: left;\">us7000j10t</td><td style = \"text-align: left;\">2023-01-12T13:15:19.040Z</td><td style = \"text-align: left;\">272 km SW of Sibolga, Indonesia</td><td style = \"text-align: left;\">earthquake</td><td style = \"text-align: right;\">9.02</td><td style = \"text-align: right;\">5.639</td><td style = \"text-align: right;\">0.114</td><td style = \"text-align: right;\">26</td><td style = \"text-align: left;\">reviewed</td><td style = \"text-align: left;\">us</td><td style = \"text-align: left;\">us</td></tr><tr><td class = \"rowNumber\" style = \"font-weight: bold; text-align: right;\">545</td><td style = \"text-align: left;\">2022-12-30T06:04:31.525Z</td><td style = \"text-align: right;\">-34.0651</td><td style = \"text-align: right;\">77.7691</td><td style = \"text-align: right;\">10.0</td><td style = \"text-align: right;\">4.8</td><td style = \"text-align: left;\">mb</td><td style = \"text-align: right;\">28</td><td style = \"text-align: right;\">71</td><td style = \"text-align: right;\">3.727</td><td style = \"text-align: right;\">0.59</td><td style = \"text-align: left;\">us</td><td style = \"text-align: left;\">us7000j3nw</td><td style = \"text-align: left;\">2023-01-12T12:56:49.040Z</td><td style = \"text-align: left;\">Mid-Indian Ridge</td><td style = \"text-align: left;\">earthquake</td><td style = \"text-align: right;\">5.89</td><td style = \"text-align: right;\">1.857</td><td style = \"text-align: right;\">0.127</td><td style = \"text-align: right;\">19</td><td style = \"text-align: left;\">reviewed</td><td style = \"text-align: left;\">us</td><td style = \"text-align: left;\">us</td></tr><tr><td class = \"rowNumber\" style = \"font-weight: bold; text-align: right;\">546</td><td style = \"text-align: left;\">2022-12-30T05:19:18.616Z</td><td style = \"text-align: right;\">-45.8405</td><td style = \"text-align: right;\">-76.402</td><td style = \"text-align: right;\">12.929</td><td style = \"text-align: right;\">5.3</td><td style = \"text-align: left;\">mww</td><td style = \"text-align: right;\">72</td><td style = \"text-align: right;\">141</td><td style = \"text-align: right;\">2.146</td><td style = \"text-align: right;\">0.58</td><td style = \"text-align: left;\">us</td><td style = \"text-align: left;\">us7000j10i</td><td style = \"text-align: left;\">2023-01-12T12:28:19.040Z</td><td style = \"text-align: left;\">Off the coast of Aisen, Chile</td><td style = \"text-align: left;\">earthquake</td><td style = \"text-align: right;\">8.82</td><td style = \"text-align: right;\">4.482</td><td style = \"text-align: right;\">0.05</td><td style = \"text-align: right;\">39</td><td style = \"text-align: left;\">reviewed</td><td style = \"text-align: left;\">us</td><td style = \"text-align: left;\">us</td></tr><tr><td class = \"rowNumber\" style = \"font-weight: bold; text-align: right;\">547</td><td style = \"text-align: left;\">2022-12-30T04:57:20.274Z</td><td style = \"text-align: right;\">60.6937</td><td style = \"text-align: right;\">-43.9886</td><td style = \"text-align: right;\">10.0</td><td style = \"text-align: right;\">4.6</td><td style = \"text-align: left;\">mb</td><td style = \"text-align: right;\">69</td><td style = \"text-align: right;\">49</td><td style = \"text-align: right;\">0.84</td><td style = \"text-align: right;\">0.68</td><td style = \"text-align: left;\">us</td><td style = \"text-align: left;\">us7000j103</td><td style = \"text-align: left;\">2023-01-22T05:30:41.040Z</td><td style = \"text-align: left;\">92 km NE of Nanortalik, Greenland</td><td style = \"text-align: left;\">earthquake</td><td style = \"text-align: right;\">5.43</td><td style = \"text-align: right;\">1.863</td><td style = \"text-align: right;\">0.042</td><td style = \"text-align: right;\">168</td><td style = \"text-align: left;\">reviewed</td><td style = \"text-align: left;\">us</td><td style = \"text-align: left;\">us</td></tr><tr><td class = \"rowNumber\" style = \"font-weight: bold; text-align: right;\">548</td><td style = \"text-align: left;\">2022-12-30T04:33:52.652Z</td><td style = \"text-align: right;\">-7.0561</td><td style = \"text-align: right;\">102.806</td><td style = \"text-align: right;\">10.0</td><td style = \"text-align: right;\">5.0</td><td style = \"text-align: left;\">mb</td><td style = \"text-align: right;\">49</td><td style = \"text-align: right;\">48</td><td style = \"text-align: right;\">4.537</td><td style = \"text-align: right;\">0.6</td><td style = \"text-align: left;\">us</td><td style = \"text-align: left;\">us7000j0zy</td><td style = \"text-align: left;\">2023-01-22T05:26:40.040Z</td><td style = \"text-align: left;\">southwest of Sumatra, Indonesia</td><td style = \"text-align: left;\">earthquake</td><td style = \"text-align: right;\">7.32</td><td style = \"text-align: right;\">1.595</td><td style = \"text-align: right;\">0.097</td><td style = \"text-align: right;\">38</td><td style = \"text-align: left;\">reviewed</td><td style = \"text-align: left;\">us</td><td style = \"text-align: left;\">us</td></tr><tr><td class = \"rowNumber\" style = \"font-weight: bold; text-align: right;\">549</td><td style = \"text-align: left;\">2022-12-30T04:16:55.929Z</td><td style = \"text-align: right;\">-0.2207</td><td style = \"text-align: right;\">97.3016</td><td style = \"text-align: right;\">10.0</td><td style = \"text-align: right;\">5.0</td><td style = \"text-align: left;\">mb</td><td style = \"text-align: right;\">69</td><td style = \"text-align: right;\">71</td><td style = \"text-align: right;\">1.539</td><td style = \"text-align: right;\">0.67</td><td style = \"text-align: left;\">us</td><td style = \"text-align: left;\">us7000j0zu</td><td style = \"text-align: left;\">2023-01-22T04:59:55.040Z</td><td style = \"text-align: left;\">Kepulauan Batu, Indonesia</td><td style = \"text-align: left;\">earthquake</td><td style = \"text-align: right;\">7.92</td><td style = \"text-align: right;\">1.808</td><td style = \"text-align: right;\">0.07</td><td style = \"text-align: right;\">67</td><td style = \"text-align: left;\">reviewed</td><td style = \"text-align: left;\">us</td><td style = \"text-align: left;\">us</td></tr><tr><td class = \"rowNumber\" style = \"font-weight: bold; text-align: right;\">550</td><td style = \"text-align: left;\">2022-12-30T03:53:27.720Z</td><td style = \"text-align: right;\">3.7982</td><td style = \"text-align: right;\">97.7095</td><td style = \"text-align: right;\">56.501</td><td style = \"text-align: right;\">4.6</td><td style = \"text-align: left;\">mb</td><td style = \"text-align: right;\">16</td><td style = \"text-align: right;\">128</td><td style = \"text-align: right;\">1.612</td><td style = \"text-align: right;\">0.98</td><td style = \"text-align: left;\">us</td><td style = \"text-align: left;\">us7000j3ns</td><td style = \"text-align: left;\">2023-01-11T23:29:20.040Z</td><td style = \"text-align: left;\">northern Sumatra, Indonesia</td><td style = \"text-align: left;\">earthquake</td><td style = \"text-align: right;\">7.35</td><td style = \"text-align: right;\">8.291</td><td style = \"text-align: right;\">0.245</td><td style = \"text-align: right;\">6</td><td style = \"text-align: left;\">reviewed</td><td style = \"text-align: left;\">us</td><td style = \"text-align: left;\">us</td></tr><tr><td class = \"rowNumber\" style = \"font-weight: bold; text-align: right;\">551</td><td style = \"text-align: left;\">2022-12-30T01:49:19.108Z</td><td style = \"text-align: right;\">-27.6295</td><td style = \"text-align: right;\">-70.1708</td><td style = \"text-align: right;\">91.899</td><td style = \"text-align: right;\">4.5</td><td style = \"text-align: left;\">mwr</td><td style = \"text-align: right;\">47</td><td style = \"text-align: right;\">67</td><td style = \"text-align: right;\">0.067</td><td style = \"text-align: right;\">0.67</td><td style = \"text-align: left;\">us</td><td style = \"text-align: left;\">us7000j0zf</td><td style = \"text-align: left;\">2023-01-22T04:55:00.040Z</td><td style = \"text-align: left;\">33 km SSE of Copiapó, Chile</td><td style = \"text-align: left;\">earthquake</td><td style = \"text-align: right;\">5.62</td><td style = \"text-align: right;\">3.64</td><td style = \"text-align: right;\">missing</td><td style = \"text-align: right;\">missing</td><td style = \"text-align: left;\">reviewed</td><td style = \"text-align: left;\">us</td><td style = \"text-align: left;\">guc</td></tr><tr><td class = \"rowNumber\" style = \"font-weight: bold; text-align: right;\">552</td><td style = \"text-align: left;\">2022-12-29T23:26:47.453Z</td><td style = \"text-align: right;\">-0.2127</td><td style = \"text-align: right;\">97.3082</td><td style = \"text-align: right;\">10.0</td><td style = \"text-align: right;\">5.3</td><td style = \"text-align: left;\">mb</td><td style = \"text-align: right;\">165</td><td style = \"text-align: right;\">40</td><td style = \"text-align: right;\">1.53</td><td style = \"text-align: right;\">0.57</td><td style = \"text-align: left;\">us</td><td style = \"text-align: left;\">us7000j0y6</td><td style = \"text-align: left;\">2023-01-15T03:22:52.040Z</td><td style = \"text-align: left;\">271 km SW of Sibolga, Indonesia</td><td style = \"text-align: left;\">earthquake</td><td style = \"text-align: right;\">3.61</td><td style = \"text-align: right;\">1.779</td><td style = \"text-align: right;\">0.051</td><td style = \"text-align: right;\">129</td><td style = \"text-align: left;\">reviewed</td><td style = \"text-align: left;\">us</td><td style = \"text-align: left;\">us</td></tr></tbody></table></div>"
      ],
      "text/latex": [
       "\\begin{tabular}{r|cccccccc}\n",
       "\t& time & latitude & longitude & depth & mag & magType & nst & \\\\\n",
       "\t\\hline\n",
       "\t& String31 & Float64 & Float64 & Float64 & Float64 & String3 & Int64? & \\\\\n",
       "\t\\hline\n",
       "\t1 & 2023-01-28T20:09:58.816Z & 38.5084 & 44.8234 & 10.0 & 4.5 & mb & 29 & $\\dots$ \\\\\n",
       "\t2 & 2023-01-28T19:15:18.301Z & 1.9422 & 128.227 & 146.268 & 5.3 & mww & 162 & $\\dots$ \\\\\n",
       "\t3 & 2023-01-28T18:14:44.998Z & 38.4246 & 44.8991 & 10.0 & 5.9 & mww & 184 & $\\dots$ \\\\\n",
       "\t4 & 2023-01-28T17:35:55.248Z & 52.2371 & 157.381 & 140.436 & 4.7 & mb & 46 & $\\dots$ \\\\\n",
       "\t5 & 2023-01-28T15:47:55.183Z & -6.5211 & 129.837 & 160.853 & 5.1 & mb & 34 & $\\dots$ \\\\\n",
       "\t6 & 2023-01-28T13:53:09.671Z & 33.5453 & 45.6996 & 10.0 & 4.6 & mb & 40 & $\\dots$ \\\\\n",
       "\t7 & 2023-01-28T11:58:29.480Z & -3.7951 & -80.4995 & 59.274 & 4.5 & mb & 17 & $\\dots$ \\\\\n",
       "\t8 & 2023-01-28T09:13:23.160Z & -34.8219 & 54.3574 & 10.0 & 5.3 & mb & 69 & $\\dots$ \\\\\n",
       "\t9 & 2023-01-28T05:02:34.818Z & 13.1645 & 145.547 & 10.0 & 5.0 & mb & 29 & $\\dots$ \\\\\n",
       "\t10 & 2023-01-28T02:51:33.287Z & -24.3633 & -179.759 & 506.61 & 4.5 & mb & 21 & $\\dots$ \\\\\n",
       "\t11 & 2023-01-28T00:03:31.369Z & 3.129 & 127.084 & 35.104 & 4.6 & mb & 31 & $\\dots$ \\\\\n",
       "\t12 & 2023-01-27T20:25:29.172Z & 10.6669 & 125.454 & 90.822 & 5.4 & mww & 227 & $\\dots$ \\\\\n",
       "\t13 & 2023-01-27T18:18:00.454Z & -2.8446 & 129.618 & 20.664 & 4.7 & mb & 92 & $\\dots$ \\\\\n",
       "\t14 & 2023-01-27T16:37:39.419Z & -23.7222 & -179.46 & 525.778 & 4.6 & mb & 33 & $\\dots$ \\\\\n",
       "\t15 & 2023-01-27T16:33:28.276Z & -23.3301 & -179.886 & 528.172 & 4.5 & mb & 28 & $\\dots$ \\\\\n",
       "\t16 & 2023-01-27T11:06:54.630Z & 18.7795 & -64.3253 & 33.0 & 4.6 & ml & 21 & $\\dots$ \\\\\n",
       "\t17 & 2023-01-27T10:51:18.438Z & -16.5691 & -69.7504 & 195.543 & 4.5 & mb & 69 & $\\dots$ \\\\\n",
       "\t18 & 2023-01-27T05:29:21.314Z & -49.5504 & 117.454 & 10.0 & 5.0 & mb & 32 & $\\dots$ \\\\\n",
       "\t19 & 2023-01-27T04:34:38.938Z & 5.0199 & -76.2029 & 103.42 & 4.5 & mb & 40 & $\\dots$ \\\\\n",
       "\t20 & 2023-01-27T03:21:35.761Z & 13.7912 & 120.548 & 110.676 & 4.5 & mb & 34 & $\\dots$ \\\\\n",
       "\t21 & 2023-01-27T00:10:43.268Z & 41.4478 & 77.4532 & 10.0 & 4.6 & mb & 33 & $\\dots$ \\\\\n",
       "\t22 & 2023-01-26T19:30:46.687Z & 57.338 & -33.2601 & 10.0 & 5.3 & mww & 62 & $\\dots$ \\\\\n",
       "\t23 & 2023-01-26T19:17:03.712Z & 57.3763 & -33.374 & 10.0 & 5.2 & mww & 103 & $\\dots$ \\\\\n",
       "\t24 & 2023-01-26T17:55:29.330Z & -12.4691 & 166.963 & 212.274 & 4.9 & mb & 63 & $\\dots$ \\\\\n",
       "\t25 & 2023-01-26T17:25:59.107Z & 2.8087 & 126.852 & 40.28 & 4.6 & mb & 49 & $\\dots$ \\\\\n",
       "\t26 & 2023-01-26T16:41:36.896Z & 50.6252 & -172.635 & 13.384 & 5.1 & mww & 167 & $\\dots$ \\\\\n",
       "\t27 & 2023-01-26T16:04:56.294Z & 30.5315 & 137.548 & 480.991 & 4.5 & mb & 141 & $\\dots$ \\\\\n",
       "\t28 & 2023-01-26T15:57:01.678Z & -5.6296 & 154.256 & 128.292 & 4.5 & mb & 110 & $\\dots$ \\\\\n",
       "\t29 & 2023-01-26T14:19:02.828Z & -17.8522 & -173.403 & 35.0 & 4.8 & mb & 16 & $\\dots$ \\\\\n",
       "\t30 & 2023-01-26T13:56:50.123Z & 23.2115 & 123.386 & 10.0 & 4.9 & mb & 47 & $\\dots$ \\\\\n",
       "\t$\\dots$ & $\\dots$ & $\\dots$ & $\\dots$ & $\\dots$ & $\\dots$ & $\\dots$ & $\\dots$ &  \\\\\n",
       "\\end{tabular}\n"
      ],
      "text/plain": [
       "\u001b[1m552×22 DataFrame\u001b[0m\n",
       "\u001b[1m Row \u001b[0m│\u001b[1m time                     \u001b[0m\u001b[1m latitude \u001b[0m\u001b[1m longitude \u001b[0m\u001b[1m depth   \u001b[0m\u001b[1m mag     \u001b[0m\u001b[1m magTyp\u001b[0m ⋯\n",
       "     │\u001b[90m String31                 \u001b[0m\u001b[90m Float64  \u001b[0m\u001b[90m Float64   \u001b[0m\u001b[90m Float64 \u001b[0m\u001b[90m Float64 \u001b[0m\u001b[90m String\u001b[0m ⋯\n",
       "─────┼──────────────────────────────────────────────────────────────────────────\n",
       "   1 │ 2023-01-28T20:09:58.816Z   38.5084    44.8234   10.0        4.5  mb     ⋯\n",
       "   2 │ 2023-01-28T19:15:18.301Z    1.9422   128.227   146.268      5.3  mww\n",
       "   3 │ 2023-01-28T18:14:44.998Z   38.4246    44.8991   10.0        5.9  mww\n",
       "   4 │ 2023-01-28T17:35:55.248Z   52.2371   157.381   140.436      4.7  mb\n",
       "   5 │ 2023-01-28T15:47:55.183Z   -6.5211   129.837   160.853      5.1  mb     ⋯\n",
       "   6 │ 2023-01-28T13:53:09.671Z   33.5453    45.6996   10.0        4.6  mb\n",
       "   7 │ 2023-01-28T11:58:29.480Z   -3.7951   -80.4995   59.274      4.5  mb\n",
       "   8 │ 2023-01-28T09:13:23.160Z  -34.8219    54.3574   10.0        5.3  mb\n",
       "   9 │ 2023-01-28T05:02:34.818Z   13.1645   145.547    10.0        5.0  mb     ⋯\n",
       "  10 │ 2023-01-28T02:51:33.287Z  -24.3633  -179.759   506.61       4.5  mb\n",
       "  11 │ 2023-01-28T00:03:31.369Z    3.129    127.084    35.104      4.6  mb\n",
       "  ⋮  │            ⋮                 ⋮          ⋮         ⋮        ⋮        ⋮   ⋱\n",
       " 543 │ 2022-12-30T09:42:09.278Z  -21.8971  -174.761    22.64       5.4  mww\n",
       " 544 │ 2022-12-30T06:47:45.290Z   -0.1964    97.2636   16.955      4.6  mb     ⋯\n",
       " 545 │ 2022-12-30T06:04:31.525Z  -34.0651    77.7691   10.0        4.8  mb\n",
       " 546 │ 2022-12-30T05:19:18.616Z  -45.8405   -76.402    12.929      5.3  mww\n",
       " 547 │ 2022-12-30T04:57:20.274Z   60.6937   -43.9886   10.0        4.6  mb\n",
       " 548 │ 2022-12-30T04:33:52.652Z   -7.0561   102.806    10.0        5.0  mb     ⋯\n",
       " 549 │ 2022-12-30T04:16:55.929Z   -0.2207    97.3016   10.0        5.0  mb\n",
       " 550 │ 2022-12-30T03:53:27.720Z    3.7982    97.7095   56.501      4.6  mb\n",
       " 551 │ 2022-12-30T01:49:19.108Z  -27.6295   -70.1708   91.899      4.5  mwr\n",
       " 552 │ 2022-12-29T23:26:47.453Z   -0.2127    97.3082   10.0        5.3  mb     ⋯\n",
       "\u001b[36m                                                 17 columns and 531 rows omitted\u001b[0m"
      ]
     },
     "execution_count": 11,
     "metadata": {},
     "output_type": "execute_result"
    }
   ],
   "source": [
    "df = CSV.read(filepath, DataFrame, dateformat=\"dd-mm-yyyy\")"
   ]
  },
  {
   "cell_type": "code",
   "execution_count": null,
   "id": "fb051055",
   "metadata": {},
   "outputs": [],
   "source": [
    "println(names(df))  # print the column names of the DataFrame object"
   ]
  },
  {
   "cell_type": "code",
   "execution_count": null,
   "id": "6b78c1a7",
   "metadata": {
    "scrolled": true
   },
   "outputs": [],
   "source": [
    "magnitudes = df.mag\n",
    "println(\"min magnitude = $(minimum(magnitudes))\")\n",
    "println(\"max magnitude = $(maximum(magnitudes))\")\n",
    "println(\"avg magnitude = $(sum(magnitudes) / length(magnitudes))\")"
   ]
  },
  {
   "cell_type": "markdown",
   "id": "681519c7",
   "metadata": {},
   "source": [
    "## Strings"
   ]
  },
  {
   "cell_type": "code",
   "execution_count": null,
   "id": "16644095",
   "metadata": {},
   "outputs": [],
   "source": [
    "# declare string:\n",
    "myString = \"Help, I'm stuck in a Julia String!\"\n",
    "\n",
    "stringLength = length(myString)\n",
    "println(\"string length = \", stringLength)\n",
    "\n",
    "# Arrays start at 1 in Julia\n",
    "firstChar = myString[1]\n",
    "println(\"First character = \" * firstChar)\n",
    "\n",
    "lastChar = myString[end]\n",
    "println(\"Last character = \", lastChar)\n",
    "\n",
    "# Grab a sequence of charaters: \n",
    "firstFour = myString[1:4]\n",
    "println(\"First four characters = \", firstFour)\n",
    "\n",
    "# String formatting is really nice, do it with $\n",
    "one = 1\n",
    "println(\"All but $one character = $(myString[2:end])\")\n"
   ]
  },
  {
   "cell_type": "code",
   "execution_count": null,
   "id": "e289600b",
   "metadata": {},
   "outputs": [],
   "source": [
    "# Comparison:\n",
    "println(\"one\" == \"a different string\")\n",
    "\n",
    "# Checking if string contains substring:\n",
    "println(occursin(\"ITEM\", \"this is a bunch of ITEMs\"))\n"
   ]
  },
  {
   "cell_type": "markdown",
   "id": "2021268e",
   "metadata": {},
   "source": [
    "## Conditionals (boolean logic)\n",
    "\n",
    "Here's a list of operators: < <= > >= && || !\n",
    "\n",
    "- && is and\n",
    "- || is or\n",
    "- ! is not\n",
    "\n",
    "(There's also \"?\" for ternary operators. These aren't super common, but they're good to know.)"
   ]
  },
  {
   "cell_type": "code",
   "execution_count": null,
   "id": "6ed27eae",
   "metadata": {},
   "outputs": [],
   "source": [
    "age = 10\n",
    "if age > 16\n",
    "    println(\"You can learn to drive\")\n",
    "elseif !(age > 16)\n",
    "    println(\"You can't learn how to drive\")\n",
    "else\n",
    "    println(\"You just started being able to learn how to drive\")\n",
    "end\n",
    "\n",
    "\n",
    "# This is called a ternary operator\n",
    "result = (age == 10) ? \"return me if true\" : \"return me if false\"\n",
    "println(\"\\n\", result)"
   ]
  },
  {
   "cell_type": "markdown",
   "id": "50b09d7b",
   "metadata": {},
   "source": [
    "## Loops\n",
    "\n",
    "Keywords: while, for, in, break, continue\n"
   ]
  },
  {
   "cell_type": "code",
   "execution_count": 16,
   "id": "4e596ae6",
   "metadata": {},
   "outputs": [
    {
     "name": "stdout",
     "output_type": "stream",
     "text": [
      "1 2 3 4 5 6 7 8 9 10 11 12 13 14 15 16 17 18 19 20 "
     ]
    }
   ],
   "source": [
    "# lets print numbers 1 through 20  (follow along)\n",
    "i = 1\n",
    "while i <= 20\n",
    "    print(\"$i \")\n",
    "    i += 1\n",
    "end"
   ]
  },
  {
   "cell_type": "code",
   "execution_count": 17,
   "id": "eeb59e9e",
   "metadata": {},
   "outputs": [
    {
     "name": "stdout",
     "output_type": "stream",
     "text": [
      "1 3 5 7 9 11 13 15 17 "
     ]
    }
   ],
   "source": [
    "# While loop: ask audience\n",
    "i = 0\n",
    "while i < 20\n",
    "    i += 1\n",
    "\n",
    "    if i % 2 == 0\n",
    "        continue\n",
    "    end\n",
    "    \n",
    "    print(\"$i \")\n",
    "    \n",
    "    if i > 15\n",
    "        break\n",
    "    end\n",
    "end"
   ]
  },
  {
   "cell_type": "code",
   "execution_count": 18,
   "id": "bae1d455",
   "metadata": {},
   "outputs": [
    {
     "name": "stdout",
     "output_type": "stream",
     "text": [
      "1\n",
      "8\n",
      "2\n",
      "cat\n"
     ]
    }
   ],
   "source": [
    "# this is the equivalent of a for each loop in java. It generates an iterator!\n",
    "for element in [1, 8, 2, \"cat\"]\n",
    "    println(element)\n",
    "end"
   ]
  },
  {
   "cell_type": "code",
   "execution_count": 22,
   "id": "be283bef",
   "metadata": {},
   "outputs": [
    {
     "name": "stdout",
     "output_type": "stream",
     "text": [
      "1 2 3 4 5 \n",
      "\n",
      "(a,3)\n",
      "(a,2)\n",
      "(a,1)\n",
      "(a,0)\n",
      "(b,3)\n",
      "(b,2)\n",
      "(b,1)\n",
      "(b,0)\n",
      "(c,3)\n",
      "(c,2)\n",
      "(c,1)\n",
      "(c,0)\n"
     ]
    }
   ],
   "source": [
    "# Here's the syntax for a plain ole' for loop. \n",
    "# The syntax is start:step:end  (Like matlab!)\n",
    "# step is 1 by default\n",
    "for i in 1:5\n",
    "    print(\"$i \")\n",
    "end\n",
    "\n",
    "println(\"\\n\")\n",
    "\n",
    "# We can even do two at once! \n",
    "for x in [\"a\", \"b\", \"c\"], y in 3:-1:0\n",
    "    println(\"($x,$y)\")\n",
    "end"
   ]
  },
  {
   "cell_type": "markdown",
   "id": "c3a2b792",
   "metadata": {},
   "source": [
    "## Functions"
   ]
  },
  {
   "cell_type": "code",
   "execution_count": 23,
   "id": "80b6c5ea",
   "metadata": {},
   "outputs": [
    {
     "data": {
      "text/plain": [
       "addTwoNumbers (generic function with 1 method)"
      ]
     },
     "execution_count": 23,
     "metadata": {},
     "output_type": "execute_result"
    }
   ],
   "source": [
    "# functions may have inputs and outputs, here's the basic syntax\n",
    "function addTwoNumbers(num1, num2)\n",
    "    return num1 + num2\n",
    "end"
   ]
  },
  {
   "cell_type": "code",
   "execution_count": 24,
   "id": "9111295b",
   "metadata": {},
   "outputs": [
    {
     "name": "stdout",
     "output_type": "stream",
     "text": [
      "5\n"
     ]
    }
   ],
   "source": [
    "# Here's how to call a function:\n",
    "result = addTwoNumbers(2, 3)\n",
    "println(result)"
   ]
  },
  {
   "cell_type": "code",
   "execution_count": 26,
   "id": "596ca241",
   "metadata": {},
   "outputs": [
    {
     "data": {
      "text/html": [
       "<div><div style = \"float: left;\"><span>244×22 DataFrame</span></div><div style = \"float: right;\"><span style = \"font-style: italic;\">219 rows omitted</span></div><div style = \"clear: both;\"></div></div><div class = \"data-frame\" style = \"overflow-x: scroll;\"><table class = \"data-frame\" style = \"margin-bottom: 6px;\"><thead><tr class = \"header\"><th class = \"rowNumber\" style = \"font-weight: bold; text-align: right;\">Row</th><th style = \"text-align: left;\">time</th><th style = \"text-align: left;\">latitude</th><th style = \"text-align: left;\">longitude</th><th style = \"text-align: left;\">depth</th><th style = \"text-align: left;\">mag</th><th style = \"text-align: left;\">magType</th><th style = \"text-align: left;\">nst</th><th style = \"text-align: left;\">gap</th><th style = \"text-align: left;\">dmin</th><th style = \"text-align: left;\">rms</th><th style = \"text-align: left;\">net</th><th style = \"text-align: left;\">id</th><th style = \"text-align: left;\">updated</th><th style = \"text-align: left;\">place</th><th style = \"text-align: left;\">type</th><th style = \"text-align: left;\">horizontalError</th><th style = \"text-align: left;\">depthError</th><th style = \"text-align: left;\">magError</th><th style = \"text-align: left;\">magNst</th><th style = \"text-align: left;\">status</th><th style = \"text-align: left;\">locationSource</th><th style = \"text-align: left;\">magSource</th></tr><tr class = \"subheader headerLastRow\"><th class = \"rowNumber\" style = \"font-weight: bold; text-align: right;\"></th><th title = \"String31\" style = \"text-align: left;\">String31</th><th title = \"Float64\" style = \"text-align: left;\">Float64</th><th title = \"Float64\" style = \"text-align: left;\">Float64</th><th title = \"Float64\" style = \"text-align: left;\">Float64</th><th title = \"Float64\" style = \"text-align: left;\">Float64</th><th title = \"String3\" style = \"text-align: left;\">String3</th><th title = \"Union{Missing, Int64}\" style = \"text-align: left;\">Int64?</th><th title = \"Union{Missing, Int64}\" style = \"text-align: left;\">Int64?</th><th title = \"Union{Missing, Float64}\" style = \"text-align: left;\">Float64?</th><th title = \"Float64\" style = \"text-align: left;\">Float64</th><th title = \"String3\" style = \"text-align: left;\">String3</th><th title = \"String15\" style = \"text-align: left;\">String15</th><th title = \"String31\" style = \"text-align: left;\">String31</th><th title = \"String\" style = \"text-align: left;\">String</th><th title = \"String15\" style = \"text-align: left;\">String15</th><th title = \"Union{Missing, Float64}\" style = \"text-align: left;\">Float64?</th><th title = \"Float64\" style = \"text-align: left;\">Float64</th><th title = \"Union{Missing, Float64}\" style = \"text-align: left;\">Float64?</th><th title = \"Union{Missing, Int64}\" style = \"text-align: left;\">Int64?</th><th title = \"String15\" style = \"text-align: left;\">String15</th><th title = \"String3\" style = \"text-align: left;\">String3</th><th title = \"String3\" style = \"text-align: left;\">String3</th></tr></thead><tbody><tr><td class = \"rowNumber\" style = \"font-weight: bold; text-align: right;\">1</td><td style = \"text-align: left;\">2023-01-28T20:09:58.816Z</td><td style = \"text-align: right;\">38.5084</td><td style = \"text-align: right;\">44.8234</td><td style = \"text-align: right;\">10.0</td><td style = \"text-align: right;\">4.5</td><td style = \"text-align: left;\">mb</td><td style = \"text-align: right;\">29</td><td style = \"text-align: right;\">83</td><td style = \"text-align: right;\">1.4</td><td style = \"text-align: right;\">0.91</td><td style = \"text-align: left;\">us</td><td style = \"text-align: left;\">us6000jk1j</td><td style = \"text-align: left;\">2023-01-28T22:32:40.040Z</td><td style = \"text-align: left;\">12 km WSW of Khowy, Iran</td><td style = \"text-align: left;\">earthquake</td><td style = \"text-align: right;\">8.0</td><td style = \"text-align: right;\">1.922</td><td style = \"text-align: right;\">0.096</td><td style = \"text-align: right;\">32</td><td style = \"text-align: left;\">reviewed</td><td style = \"text-align: left;\">us</td><td style = \"text-align: left;\">us</td></tr><tr><td class = \"rowNumber\" style = \"font-weight: bold; text-align: right;\">2</td><td style = \"text-align: left;\">2023-01-28T13:53:09.671Z</td><td style = \"text-align: right;\">33.5453</td><td style = \"text-align: right;\">45.6996</td><td style = \"text-align: right;\">10.0</td><td style = \"text-align: right;\">4.6</td><td style = \"text-align: left;\">mb</td><td style = \"text-align: right;\">40</td><td style = \"text-align: right;\">112</td><td style = \"text-align: right;\">4.04</td><td style = \"text-align: right;\">0.63</td><td style = \"text-align: left;\">us</td><td style = \"text-align: left;\">us6000jjzp</td><td style = \"text-align: left;\">2023-01-28T16:32:27.040Z</td><td style = \"text-align: left;\">26 km SSE of Mandalī, Iraq</td><td style = \"text-align: left;\">earthquake</td><td style = \"text-align: right;\">10.05</td><td style = \"text-align: right;\">1.798</td><td style = \"text-align: right;\">0.07</td><td style = \"text-align: right;\">62</td><td style = \"text-align: left;\">reviewed</td><td style = \"text-align: left;\">us</td><td style = \"text-align: left;\">us</td></tr><tr><td class = \"rowNumber\" style = \"font-weight: bold; text-align: right;\">3</td><td style = \"text-align: left;\">2023-01-28T11:58:29.480Z</td><td style = \"text-align: right;\">-3.7951</td><td style = \"text-align: right;\">-80.4995</td><td style = \"text-align: right;\">59.274</td><td style = \"text-align: right;\">4.5</td><td style = \"text-align: left;\">mb</td><td style = \"text-align: right;\">17</td><td style = \"text-align: right;\">173</td><td style = \"text-align: right;\">0.497</td><td style = \"text-align: right;\">0.73</td><td style = \"text-align: left;\">us</td><td style = \"text-align: left;\">us6000jjzg</td><td style = \"text-align: left;\">2023-01-28T12:31:09.040Z</td><td style = \"text-align: left;\">23 km NE of Cañaveral, Peru</td><td style = \"text-align: left;\">earthquake</td><td style = \"text-align: right;\">10.35</td><td style = \"text-align: right;\">8.778</td><td style = \"text-align: right;\">0.222</td><td style = \"text-align: right;\">6</td><td style = \"text-align: left;\">reviewed</td><td style = \"text-align: left;\">us</td><td style = \"text-align: left;\">us</td></tr><tr><td class = \"rowNumber\" style = \"font-weight: bold; text-align: right;\">4</td><td style = \"text-align: left;\">2023-01-28T02:51:33.287Z</td><td style = \"text-align: right;\">-24.3633</td><td style = \"text-align: right;\">-179.759</td><td style = \"text-align: right;\">506.61</td><td style = \"text-align: right;\">4.5</td><td style = \"text-align: left;\">mb</td><td style = \"text-align: right;\">21</td><td style = \"text-align: right;\">107</td><td style = \"text-align: right;\">5.148</td><td style = \"text-align: right;\">0.63</td><td style = \"text-align: left;\">us</td><td style = \"text-align: left;\">us6000jjwj</td><td style = \"text-align: left;\">2023-01-28T03:18:26.040Z</td><td style = \"text-align: left;\">south of the Fiji Islands</td><td style = \"text-align: left;\">earthquake</td><td style = \"text-align: right;\">21.36</td><td style = \"text-align: right;\">14.945</td><td style = \"text-align: right;\">0.15</td><td style = \"text-align: right;\">15</td><td style = \"text-align: left;\">reviewed</td><td style = \"text-align: left;\">us</td><td style = \"text-align: left;\">us</td></tr><tr><td class = \"rowNumber\" style = \"font-weight: bold; text-align: right;\">5</td><td style = \"text-align: left;\">2023-01-28T00:03:31.369Z</td><td style = \"text-align: right;\">3.129</td><td style = \"text-align: right;\">127.084</td><td style = \"text-align: right;\">35.104</td><td style = \"text-align: right;\">4.6</td><td style = \"text-align: left;\">mb</td><td style = \"text-align: right;\">31</td><td style = \"text-align: right;\">112</td><td style = \"text-align: right;\">2.358</td><td style = \"text-align: right;\">0.46</td><td style = \"text-align: left;\">us</td><td style = \"text-align: left;\">us6000jjvx</td><td style = \"text-align: left;\">2023-01-28T00:23:38.040Z</td><td style = \"text-align: left;\">Kepulauan Talaud, Indonesia</td><td style = \"text-align: left;\">earthquake</td><td style = \"text-align: right;\">6.26</td><td style = \"text-align: right;\">8.655</td><td style = \"text-align: right;\">0.119</td><td style = \"text-align: right;\">21</td><td style = \"text-align: left;\">reviewed</td><td style = \"text-align: left;\">us</td><td style = \"text-align: left;\">us</td></tr><tr><td class = \"rowNumber\" style = \"font-weight: bold; text-align: right;\">6</td><td style = \"text-align: left;\">2023-01-27T16:37:39.419Z</td><td style = \"text-align: right;\">-23.7222</td><td style = \"text-align: right;\">-179.46</td><td style = \"text-align: right;\">525.778</td><td style = \"text-align: right;\">4.6</td><td style = \"text-align: left;\">mb</td><td style = \"text-align: right;\">33</td><td style = \"text-align: right;\">122</td><td style = \"text-align: right;\">4.686</td><td style = \"text-align: right;\">0.53</td><td style = \"text-align: left;\">us</td><td style = \"text-align: left;\">us6000jjsa</td><td style = \"text-align: left;\">2023-01-27T17:00:08.040Z</td><td style = \"text-align: left;\">south of the Fiji Islands</td><td style = \"text-align: left;\">earthquake</td><td style = \"text-align: right;\">16.53</td><td style = \"text-align: right;\">18.134</td><td style = \"text-align: right;\">0.1</td><td style = \"text-align: right;\">30</td><td style = \"text-align: left;\">reviewed</td><td style = \"text-align: left;\">us</td><td style = \"text-align: left;\">us</td></tr><tr><td class = \"rowNumber\" style = \"font-weight: bold; text-align: right;\">7</td><td style = \"text-align: left;\">2023-01-27T16:33:28.276Z</td><td style = \"text-align: right;\">-23.3301</td><td style = \"text-align: right;\">-179.886</td><td style = \"text-align: right;\">528.172</td><td style = \"text-align: right;\">4.5</td><td style = \"text-align: left;\">mb</td><td style = \"text-align: right;\">28</td><td style = \"text-align: right;\">115</td><td style = \"text-align: right;\">4.841</td><td style = \"text-align: right;\">0.64</td><td style = \"text-align: left;\">us</td><td style = \"text-align: left;\">us6000jjs9</td><td style = \"text-align: left;\">2023-01-27T17:14:45.040Z</td><td style = \"text-align: left;\">south of the Fiji Islands</td><td style = \"text-align: left;\">earthquake</td><td style = \"text-align: right;\">14.76</td><td style = \"text-align: right;\">10.621</td><td style = \"text-align: right;\">0.118</td><td style = \"text-align: right;\">21</td><td style = \"text-align: left;\">reviewed</td><td style = \"text-align: left;\">us</td><td style = \"text-align: left;\">us</td></tr><tr><td class = \"rowNumber\" style = \"font-weight: bold; text-align: right;\">8</td><td style = \"text-align: left;\">2023-01-27T11:06:54.630Z</td><td style = \"text-align: right;\">18.7795</td><td style = \"text-align: right;\">-64.3253</td><td style = \"text-align: right;\">33.0</td><td style = \"text-align: right;\">4.6</td><td style = \"text-align: left;\">ml</td><td style = \"text-align: right;\">21</td><td style = \"text-align: right;\">217</td><td style = \"text-align: right;\">0.7621</td><td style = \"text-align: right;\">0.46</td><td style = \"text-align: left;\">pr</td><td style = \"text-align: left;\">pr2023027001</td><td style = \"text-align: left;\">2023-01-27T18:56:35.897Z</td><td style = \"text-align: left;\">70 km NE of Cruz Bay, U.S. Virgin Islands</td><td style = \"text-align: left;\">earthquake</td><td style = \"text-align: right;\">2.76</td><td style = \"text-align: right;\">9.97</td><td style = \"text-align: right;\">0.08</td><td style = \"text-align: right;\">13</td><td style = \"text-align: left;\">reviewed</td><td style = \"text-align: left;\">pr</td><td style = \"text-align: left;\">pr</td></tr><tr><td class = \"rowNumber\" style = \"font-weight: bold; text-align: right;\">9</td><td style = \"text-align: left;\">2023-01-27T10:51:18.438Z</td><td style = \"text-align: right;\">-16.5691</td><td style = \"text-align: right;\">-69.7504</td><td style = \"text-align: right;\">195.543</td><td style = \"text-align: right;\">4.5</td><td style = \"text-align: left;\">mb</td><td style = \"text-align: right;\">69</td><td style = \"text-align: right;\">105</td><td style = \"text-align: right;\">1.047</td><td style = \"text-align: right;\">0.82</td><td style = \"text-align: left;\">us</td><td style = \"text-align: left;\">us6000jjn6</td><td style = \"text-align: left;\">2023-01-27T14:03:57.040Z</td><td style = \"text-align: left;\">19 km N of Mazo Cruz, Peru</td><td style = \"text-align: left;\">earthquake</td><td style = \"text-align: right;\">7.09</td><td style = \"text-align: right;\">4.387</td><td style = \"text-align: right;\">0.078</td><td style = \"text-align: right;\">48</td><td style = \"text-align: left;\">reviewed</td><td style = \"text-align: left;\">us</td><td style = \"text-align: left;\">us</td></tr><tr><td class = \"rowNumber\" style = \"font-weight: bold; text-align: right;\">10</td><td style = \"text-align: left;\">2023-01-27T04:34:38.938Z</td><td style = \"text-align: right;\">5.0199</td><td style = \"text-align: right;\">-76.2029</td><td style = \"text-align: right;\">103.42</td><td style = \"text-align: right;\">4.5</td><td style = \"text-align: left;\">mb</td><td style = \"text-align: right;\">40</td><td style = \"text-align: right;\">95</td><td style = \"text-align: right;\">1.343</td><td style = \"text-align: right;\">0.7</td><td style = \"text-align: left;\">us</td><td style = \"text-align: left;\">us6000jjlq</td><td style = \"text-align: left;\">2023-01-27T12:24:35.798Z</td><td style = \"text-align: left;\">14 km NNE of San José del Palmar, Colombia</td><td style = \"text-align: left;\">earthquake</td><td style = \"text-align: right;\">7.06</td><td style = \"text-align: right;\">8.868</td><td style = \"text-align: right;\">0.085</td><td style = \"text-align: right;\">40</td><td style = \"text-align: left;\">reviewed</td><td style = \"text-align: left;\">us</td><td style = \"text-align: left;\">us</td></tr><tr><td class = \"rowNumber\" style = \"font-weight: bold; text-align: right;\">11</td><td style = \"text-align: left;\">2023-01-27T03:21:35.761Z</td><td style = \"text-align: right;\">13.7912</td><td style = \"text-align: right;\">120.548</td><td style = \"text-align: right;\">110.676</td><td style = \"text-align: right;\">4.5</td><td style = \"text-align: left;\">mb</td><td style = \"text-align: right;\">34</td><td style = \"text-align: right;\">111</td><td style = \"text-align: right;\">8.312</td><td style = \"text-align: right;\">0.5</td><td style = \"text-align: left;\">us</td><td style = \"text-align: left;\">us6000jjlk</td><td style = \"text-align: left;\">2023-01-27T04:14:12.040Z</td><td style = \"text-align: left;\">10 km WSW of Calatagan, Philippines</td><td style = \"text-align: left;\">earthquake</td><td style = \"text-align: right;\">8.0</td><td style = \"text-align: right;\">8.337</td><td style = \"text-align: right;\">0.08</td><td style = \"text-align: right;\">46</td><td style = \"text-align: left;\">reviewed</td><td style = \"text-align: left;\">us</td><td style = \"text-align: left;\">us</td></tr><tr><td class = \"rowNumber\" style = \"font-weight: bold; text-align: right;\">12</td><td style = \"text-align: left;\">2023-01-27T00:10:43.268Z</td><td style = \"text-align: right;\">41.4478</td><td style = \"text-align: right;\">77.4532</td><td style = \"text-align: right;\">10.0</td><td style = \"text-align: right;\">4.6</td><td style = \"text-align: left;\">mb</td><td style = \"text-align: right;\">33</td><td style = \"text-align: right;\">76</td><td style = \"text-align: right;\">0.385</td><td style = \"text-align: right;\">0.37</td><td style = \"text-align: left;\">us</td><td style = \"text-align: left;\">us6000jjkp</td><td style = \"text-align: left;\">2023-01-27T03:13:34.784Z</td><td style = \"text-align: left;\">80 km SSE of Kadzhi-Say, Kyrgyzstan</td><td style = \"text-align: left;\">earthquake</td><td style = \"text-align: right;\">5.1</td><td style = \"text-align: right;\">1.913</td><td style = \"text-align: right;\">0.114</td><td style = \"text-align: right;\">23</td><td style = \"text-align: left;\">reviewed</td><td style = \"text-align: left;\">us</td><td style = \"text-align: left;\">us</td></tr><tr><td class = \"rowNumber\" style = \"font-weight: bold; text-align: right;\">13</td><td style = \"text-align: left;\">2023-01-26T17:25:59.107Z</td><td style = \"text-align: right;\">2.8087</td><td style = \"text-align: right;\">126.852</td><td style = \"text-align: right;\">40.28</td><td style = \"text-align: right;\">4.6</td><td style = \"text-align: left;\">mb</td><td style = \"text-align: right;\">49</td><td style = \"text-align: right;\">118</td><td style = \"text-align: right;\">2.088</td><td style = \"text-align: right;\">0.94</td><td style = \"text-align: left;\">us</td><td style = \"text-align: left;\">us6000jjik</td><td style = \"text-align: left;\">2023-01-27T14:50:25.040Z</td><td style = \"text-align: left;\">175 km NW of Tobelo, Indonesia</td><td style = \"text-align: left;\">earthquake</td><td style = \"text-align: right;\">12.92</td><td style = \"text-align: right;\">7.382</td><td style = \"text-align: right;\">0.084</td><td style = \"text-align: right;\">42</td><td style = \"text-align: left;\">reviewed</td><td style = \"text-align: left;\">us</td><td style = \"text-align: left;\">us</td></tr><tr><td style = \"text-align: right;\">&vellip;</td><td style = \"text-align: right;\">&vellip;</td><td style = \"text-align: right;\">&vellip;</td><td style = \"text-align: right;\">&vellip;</td><td style = \"text-align: right;\">&vellip;</td><td style = \"text-align: right;\">&vellip;</td><td style = \"text-align: right;\">&vellip;</td><td style = \"text-align: right;\">&vellip;</td><td style = \"text-align: right;\">&vellip;</td><td style = \"text-align: right;\">&vellip;</td><td style = \"text-align: right;\">&vellip;</td><td style = \"text-align: right;\">&vellip;</td><td style = \"text-align: right;\">&vellip;</td><td style = \"text-align: right;\">&vellip;</td><td style = \"text-align: right;\">&vellip;</td><td style = \"text-align: right;\">&vellip;</td><td style = \"text-align: right;\">&vellip;</td><td style = \"text-align: right;\">&vellip;</td><td style = \"text-align: right;\">&vellip;</td><td style = \"text-align: right;\">&vellip;</td><td style = \"text-align: right;\">&vellip;</td><td style = \"text-align: right;\">&vellip;</td><td style = \"text-align: right;\">&vellip;</td></tr><tr><td class = \"rowNumber\" style = \"font-weight: bold; text-align: right;\">233</td><td style = \"text-align: left;\">2022-12-31T12:50:12.454Z</td><td style = \"text-align: right;\">-58.013</td><td style = \"text-align: right;\">-25.6511</td><td style = \"text-align: right;\">63.867</td><td style = \"text-align: right;\">4.6</td><td style = \"text-align: left;\">mb</td><td style = \"text-align: right;\">32</td><td style = \"text-align: right;\">82</td><td style = \"text-align: right;\">7.112</td><td style = \"text-align: right;\">0.36</td><td style = \"text-align: left;\">us</td><td style = \"text-align: left;\">us7000j18u</td><td style = \"text-align: left;\">2023-01-26T08:48:35.040Z</td><td style = \"text-align: left;\">South Sandwich Islands region</td><td style = \"text-align: left;\">earthquake</td><td style = \"text-align: right;\">9.41</td><td style = \"text-align: right;\">8.109</td><td style = \"text-align: right;\">0.11</td><td style = \"text-align: right;\">31</td><td style = \"text-align: left;\">reviewed</td><td style = \"text-align: left;\">us</td><td style = \"text-align: left;\">us</td></tr><tr><td class = \"rowNumber\" style = \"font-weight: bold; text-align: right;\">234</td><td style = \"text-align: left;\">2022-12-31T12:47:57.842Z</td><td style = \"text-align: right;\">-32.2686</td><td style = \"text-align: right;\">-71.5625</td><td style = \"text-align: right;\">48.3</td><td style = \"text-align: right;\">4.5</td><td style = \"text-align: left;\">mwr</td><td style = \"text-align: right;\">64</td><td style = \"text-align: right;\">69</td><td style = \"text-align: right;\">0.547</td><td style = \"text-align: right;\">0.77</td><td style = \"text-align: left;\">us</td><td style = \"text-align: left;\">us7000j18l</td><td style = \"text-align: left;\">2023-01-26T08:41:36.908Z</td><td style = \"text-align: left;\">37 km WNW of La Ligua, Chile</td><td style = \"text-align: left;\">earthquake</td><td style = \"text-align: right;\">4.09</td><td style = \"text-align: right;\">5.959</td><td style = \"text-align: right;\">0.04</td><td style = \"text-align: right;\">59</td><td style = \"text-align: left;\">reviewed</td><td style = \"text-align: left;\">us</td><td style = \"text-align: left;\">us</td></tr><tr><td class = \"rowNumber\" style = \"font-weight: bold; text-align: right;\">235</td><td style = \"text-align: left;\">2022-12-31T10:17:46.581Z</td><td style = \"text-align: right;\">-5.7675</td><td style = \"text-align: right;\">148.019</td><td style = \"text-align: right;\">10.453</td><td style = \"text-align: right;\">4.5</td><td style = \"text-align: left;\">mb</td><td style = \"text-align: right;\">36</td><td style = \"text-align: right;\">103</td><td style = \"text-align: right;\">3.713</td><td style = \"text-align: right;\">0.57</td><td style = \"text-align: left;\">us</td><td style = \"text-align: left;\">us7000j3vn</td><td style = \"text-align: left;\">2023-01-25T12:37:50.040Z</td><td style = \"text-align: left;\">89 km NNE of Finschhafen, Papua New Guinea</td><td style = \"text-align: left;\">earthquake</td><td style = \"text-align: right;\">9.82</td><td style = \"text-align: right;\">4.569</td><td style = \"text-align: right;\">0.113</td><td style = \"text-align: right;\">26</td><td style = \"text-align: left;\">reviewed</td><td style = \"text-align: left;\">us</td><td style = \"text-align: left;\">us</td></tr><tr><td class = \"rowNumber\" style = \"font-weight: bold; text-align: right;\">236</td><td style = \"text-align: left;\">2022-12-31T06:13:27.075Z</td><td style = \"text-align: right;\">54.8937</td><td style = \"text-align: right;\">-160.295</td><td style = \"text-align: right;\">39.134</td><td style = \"text-align: right;\">4.6</td><td style = \"text-align: left;\">mwr</td><td style = \"text-align: right;\">289</td><td style = \"text-align: right;\">129</td><td style = \"text-align: right;\">0.413</td><td style = \"text-align: right;\">0.89</td><td style = \"text-align: left;\">us</td><td style = \"text-align: left;\">us7000j16q</td><td style = \"text-align: left;\">2023-01-23T02:45:56.427Z</td><td style = \"text-align: left;\">50 km SSE of Sand Point, Alaska</td><td style = \"text-align: left;\">earthquake</td><td style = \"text-align: right;\">2.64</td><td style = \"text-align: right;\">4.917</td><td style = \"text-align: right;\">0.045</td><td style = \"text-align: right;\">48</td><td style = \"text-align: left;\">reviewed</td><td style = \"text-align: left;\">us</td><td style = \"text-align: left;\">us</td></tr><tr><td class = \"rowNumber\" style = \"font-weight: bold; text-align: right;\">237</td><td style = \"text-align: left;\">2022-12-31T03:01:44.529Z</td><td style = \"text-align: right;\">29.2989</td><td style = \"text-align: right;\">130.475</td><td style = \"text-align: right;\">35.861</td><td style = \"text-align: right;\">4.5</td><td style = \"text-align: left;\">mb</td><td style = \"text-align: right;\">39</td><td style = \"text-align: right;\">127</td><td style = \"text-align: right;\">2.203</td><td style = \"text-align: right;\">0.85</td><td style = \"text-align: left;\">us</td><td style = \"text-align: left;\">us7000j15x</td><td style = \"text-align: left;\">2023-01-22T05:34:43.040Z</td><td style = \"text-align: left;\">Ryukyu Islands, Japan</td><td style = \"text-align: left;\">earthquake</td><td style = \"text-align: right;\">6.89</td><td style = \"text-align: right;\">5.813</td><td style = \"text-align: right;\">0.111</td><td style = \"text-align: right;\">24</td><td style = \"text-align: left;\">reviewed</td><td style = \"text-align: left;\">us</td><td style = \"text-align: left;\">us</td></tr><tr><td class = \"rowNumber\" style = \"font-weight: bold; text-align: right;\">238</td><td style = \"text-align: left;\">2022-12-31T00:32:51.895Z</td><td style = \"text-align: right;\">-26.5056</td><td style = \"text-align: right;\">-114.854</td><td style = \"text-align: right;\">10.0</td><td style = \"text-align: right;\">4.6</td><td style = \"text-align: left;\">mb</td><td style = \"text-align: right;\">37</td><td style = \"text-align: right;\">82</td><td style = \"text-align: right;\">37.036</td><td style = \"text-align: right;\">0.48</td><td style = \"text-align: left;\">us</td><td style = \"text-align: left;\">us7000j3vc</td><td style = \"text-align: left;\">2023-01-27T01:56:33.040Z</td><td style = \"text-align: left;\">Easter Island region</td><td style = \"text-align: left;\">earthquake</td><td style = \"text-align: right;\">7.07</td><td style = \"text-align: right;\">1.9</td><td style = \"text-align: right;\">0.102</td><td style = \"text-align: right;\">29</td><td style = \"text-align: left;\">reviewed</td><td style = \"text-align: left;\">us</td><td style = \"text-align: left;\">us</td></tr><tr><td class = \"rowNumber\" style = \"font-weight: bold; text-align: right;\">239</td><td style = \"text-align: left;\">2022-12-30T22:45:46.147Z</td><td style = \"text-align: right;\">-52.9992</td><td style = \"text-align: right;\">28.4258</td><td style = \"text-align: right;\">10.0</td><td style = \"text-align: right;\">4.5</td><td style = \"text-align: left;\">mb</td><td style = \"text-align: right;\">11</td><td style = \"text-align: right;\">123</td><td style = \"text-align: right;\">21.33</td><td style = \"text-align: right;\">0.4</td><td style = \"text-align: left;\">us</td><td style = \"text-align: left;\">us7000j3pd</td><td style = \"text-align: left;\">2023-01-14T04:00:08.040Z</td><td style = \"text-align: left;\">south of Africa</td><td style = \"text-align: left;\">earthquake</td><td style = \"text-align: right;\">8.56</td><td style = \"text-align: right;\">1.954</td><td style = \"text-align: right;\">0.192</td><td style = \"text-align: right;\">8</td><td style = \"text-align: left;\">reviewed</td><td style = \"text-align: left;\">us</td><td style = \"text-align: left;\">us</td></tr><tr><td class = \"rowNumber\" style = \"font-weight: bold; text-align: right;\">240</td><td style = \"text-align: left;\">2022-12-30T22:35:25.866Z</td><td style = \"text-align: right;\">-24.0267</td><td style = \"text-align: right;\">-67.1397</td><td style = \"text-align: right;\">232.941</td><td style = \"text-align: right;\">4.5</td><td style = \"text-align: left;\">mb</td><td style = \"text-align: right;\">20</td><td style = \"text-align: right;\">197</td><td style = \"text-align: right;\">1.433</td><td style = \"text-align: right;\">0.48</td><td style = \"text-align: left;\">us</td><td style = \"text-align: left;\">us7000j152</td><td style = \"text-align: left;\">2022-12-30T23:15:42.040Z</td><td style = \"text-align: left;\">86 km WNW of San Antonio de los Cobres, Argentina</td><td style = \"text-align: left;\">earthquake</td><td style = \"text-align: right;\">9.88</td><td style = \"text-align: right;\">5.816</td><td style = \"text-align: right;\">0.191</td><td style = \"text-align: right;\">8</td><td style = \"text-align: left;\">reviewed</td><td style = \"text-align: left;\">us</td><td style = \"text-align: left;\">us</td></tr><tr><td class = \"rowNumber\" style = \"font-weight: bold; text-align: right;\">241</td><td style = \"text-align: left;\">2022-12-30T06:47:45.290Z</td><td style = \"text-align: right;\">-0.1964</td><td style = \"text-align: right;\">97.2636</td><td style = \"text-align: right;\">16.955</td><td style = \"text-align: right;\">4.6</td><td style = \"text-align: left;\">mb</td><td style = \"text-align: right;\">42</td><td style = \"text-align: right;\">190</td><td style = \"text-align: right;\">1.523</td><td style = \"text-align: right;\">0.81</td><td style = \"text-align: left;\">us</td><td style = \"text-align: left;\">us7000j10t</td><td style = \"text-align: left;\">2023-01-12T13:15:19.040Z</td><td style = \"text-align: left;\">272 km SW of Sibolga, Indonesia</td><td style = \"text-align: left;\">earthquake</td><td style = \"text-align: right;\">9.02</td><td style = \"text-align: right;\">5.639</td><td style = \"text-align: right;\">0.114</td><td style = \"text-align: right;\">26</td><td style = \"text-align: left;\">reviewed</td><td style = \"text-align: left;\">us</td><td style = \"text-align: left;\">us</td></tr><tr><td class = \"rowNumber\" style = \"font-weight: bold; text-align: right;\">242</td><td style = \"text-align: left;\">2022-12-30T04:57:20.274Z</td><td style = \"text-align: right;\">60.6937</td><td style = \"text-align: right;\">-43.9886</td><td style = \"text-align: right;\">10.0</td><td style = \"text-align: right;\">4.6</td><td style = \"text-align: left;\">mb</td><td style = \"text-align: right;\">69</td><td style = \"text-align: right;\">49</td><td style = \"text-align: right;\">0.84</td><td style = \"text-align: right;\">0.68</td><td style = \"text-align: left;\">us</td><td style = \"text-align: left;\">us7000j103</td><td style = \"text-align: left;\">2023-01-22T05:30:41.040Z</td><td style = \"text-align: left;\">92 km NE of Nanortalik, Greenland</td><td style = \"text-align: left;\">earthquake</td><td style = \"text-align: right;\">5.43</td><td style = \"text-align: right;\">1.863</td><td style = \"text-align: right;\">0.042</td><td style = \"text-align: right;\">168</td><td style = \"text-align: left;\">reviewed</td><td style = \"text-align: left;\">us</td><td style = \"text-align: left;\">us</td></tr><tr><td class = \"rowNumber\" style = \"font-weight: bold; text-align: right;\">243</td><td style = \"text-align: left;\">2022-12-30T03:53:27.720Z</td><td style = \"text-align: right;\">3.7982</td><td style = \"text-align: right;\">97.7095</td><td style = \"text-align: right;\">56.501</td><td style = \"text-align: right;\">4.6</td><td style = \"text-align: left;\">mb</td><td style = \"text-align: right;\">16</td><td style = \"text-align: right;\">128</td><td style = \"text-align: right;\">1.612</td><td style = \"text-align: right;\">0.98</td><td style = \"text-align: left;\">us</td><td style = \"text-align: left;\">us7000j3ns</td><td style = \"text-align: left;\">2023-01-11T23:29:20.040Z</td><td style = \"text-align: left;\">northern Sumatra, Indonesia</td><td style = \"text-align: left;\">earthquake</td><td style = \"text-align: right;\">7.35</td><td style = \"text-align: right;\">8.291</td><td style = \"text-align: right;\">0.245</td><td style = \"text-align: right;\">6</td><td style = \"text-align: left;\">reviewed</td><td style = \"text-align: left;\">us</td><td style = \"text-align: left;\">us</td></tr><tr><td class = \"rowNumber\" style = \"font-weight: bold; text-align: right;\">244</td><td style = \"text-align: left;\">2022-12-30T01:49:19.108Z</td><td style = \"text-align: right;\">-27.6295</td><td style = \"text-align: right;\">-70.1708</td><td style = \"text-align: right;\">91.899</td><td style = \"text-align: right;\">4.5</td><td style = \"text-align: left;\">mwr</td><td style = \"text-align: right;\">47</td><td style = \"text-align: right;\">67</td><td style = \"text-align: right;\">0.067</td><td style = \"text-align: right;\">0.67</td><td style = \"text-align: left;\">us</td><td style = \"text-align: left;\">us7000j0zf</td><td style = \"text-align: left;\">2023-01-22T04:55:00.040Z</td><td style = \"text-align: left;\">33 km SSE of Copiapó, Chile</td><td style = \"text-align: left;\">earthquake</td><td style = \"text-align: right;\">5.62</td><td style = \"text-align: right;\">3.64</td><td style = \"text-align: right;\">missing</td><td style = \"text-align: right;\">missing</td><td style = \"text-align: left;\">reviewed</td><td style = \"text-align: left;\">us</td><td style = \"text-align: left;\">guc</td></tr></tbody></table></div>"
      ],
      "text/latex": [
       "\\begin{tabular}{r|cccccccc}\n",
       "\t& time & latitude & longitude & depth & mag & magType & nst & \\\\\n",
       "\t\\hline\n",
       "\t& String31 & Float64 & Float64 & Float64 & Float64 & String3 & Int64? & \\\\\n",
       "\t\\hline\n",
       "\t1 & 2023-01-28T20:09:58.816Z & 38.5084 & 44.8234 & 10.0 & 4.5 & mb & 29 & $\\dots$ \\\\\n",
       "\t2 & 2023-01-28T13:53:09.671Z & 33.5453 & 45.6996 & 10.0 & 4.6 & mb & 40 & $\\dots$ \\\\\n",
       "\t3 & 2023-01-28T11:58:29.480Z & -3.7951 & -80.4995 & 59.274 & 4.5 & mb & 17 & $\\dots$ \\\\\n",
       "\t4 & 2023-01-28T02:51:33.287Z & -24.3633 & -179.759 & 506.61 & 4.5 & mb & 21 & $\\dots$ \\\\\n",
       "\t5 & 2023-01-28T00:03:31.369Z & 3.129 & 127.084 & 35.104 & 4.6 & mb & 31 & $\\dots$ \\\\\n",
       "\t6 & 2023-01-27T16:37:39.419Z & -23.7222 & -179.46 & 525.778 & 4.6 & mb & 33 & $\\dots$ \\\\\n",
       "\t7 & 2023-01-27T16:33:28.276Z & -23.3301 & -179.886 & 528.172 & 4.5 & mb & 28 & $\\dots$ \\\\\n",
       "\t8 & 2023-01-27T11:06:54.630Z & 18.7795 & -64.3253 & 33.0 & 4.6 & ml & 21 & $\\dots$ \\\\\n",
       "\t9 & 2023-01-27T10:51:18.438Z & -16.5691 & -69.7504 & 195.543 & 4.5 & mb & 69 & $\\dots$ \\\\\n",
       "\t10 & 2023-01-27T04:34:38.938Z & 5.0199 & -76.2029 & 103.42 & 4.5 & mb & 40 & $\\dots$ \\\\\n",
       "\t11 & 2023-01-27T03:21:35.761Z & 13.7912 & 120.548 & 110.676 & 4.5 & mb & 34 & $\\dots$ \\\\\n",
       "\t12 & 2023-01-27T00:10:43.268Z & 41.4478 & 77.4532 & 10.0 & 4.6 & mb & 33 & $\\dots$ \\\\\n",
       "\t13 & 2023-01-26T17:25:59.107Z & 2.8087 & 126.852 & 40.28 & 4.6 & mb & 49 & $\\dots$ \\\\\n",
       "\t14 & 2023-01-26T16:04:56.294Z & 30.5315 & 137.548 & 480.991 & 4.5 & mb & 141 & $\\dots$ \\\\\n",
       "\t15 & 2023-01-26T15:57:01.678Z & -5.6296 & 154.256 & 128.292 & 4.5 & mb & 110 & $\\dots$ \\\\\n",
       "\t16 & 2023-01-26T04:07:54.913Z & -30.4621 & -178.541 & 35.0 & 4.5 & mb & 13 & $\\dots$ \\\\\n",
       "\t17 & 2023-01-26T03:16:21.963Z & -1.9745 & -79.9816 & 77.663 & 4.6 & mb & 26 & $\\dots$ \\\\\n",
       "\t18 & 2023-01-25T23:14:42.540Z & -24.019 & 179.983 & 514.333 & 4.5 & mb & 64 & $\\dots$ \\\\\n",
       "\t19 & 2023-01-25T20:30:44.433Z & 29.7128 & 102.076 & 10.0 & 4.5 & mb & 23 & $\\dots$ \\\\\n",
       "\t20 & 2023-01-25T19:31:08.670Z & 2.8058 & 127.305 & 50.39 & 4.5 & mb & 48 & $\\dots$ \\\\\n",
       "\t21 & 2023-01-25T15:51:50.966Z & 2.8851 & 126.993 & 45.547 & 4.6 & mb & 24 & $\\dots$ \\\\\n",
       "\t22 & 2023-01-25T13:13:38.222Z & 41.2102 & 84.2142 & 10.0 & 4.6 & mb & 33 & $\\dots$ \\\\\n",
       "\t23 & 2023-01-25T12:46:17.709Z & -5.5069 & 153.663 & 42.747 & 4.6 & mb & 30 & $\\dots$ \\\\\n",
       "\t24 & 2023-01-25T05:15:30.147Z & 12.9459 & -88.7273 & 67.408 & 4.6 & mwr & 119 & $\\dots$ \\\\\n",
       "\t25 & 2023-01-25T03:35:20.562Z & 9.2148 & 126.55 & 35.0 & 4.6 & mb & 50 & $\\dots$ \\\\\n",
       "\t26 & 2023-01-24T22:54:58.121Z & 27.9123 & 139.453 & 507.551 & 4.6 & mb & 79 & $\\dots$ \\\\\n",
       "\t27 & 2023-01-24T20:12:55.847Z & 2.9579 & 127.287 & 40.251 & 4.5 & mb & 46 & $\\dots$ \\\\\n",
       "\t28 & 2023-01-24T19:08:29.504Z & -21.6237 & -68.4797 & 121.452 & 4.5 & mb & 52 & $\\dots$ \\\\\n",
       "\t29 & 2023-01-24T15:57:08.550Z & 50.0876 & 142.526 & 10.0 & 4.5 & mb & 78 & $\\dots$ \\\\\n",
       "\t30 & 2023-01-24T12:06:34.119Z & 2.8233 & 127.013 & 35.0 & 4.5 & mb & 49 & $\\dots$ \\\\\n",
       "\t$\\dots$ & $\\dots$ & $\\dots$ & $\\dots$ & $\\dots$ & $\\dots$ & $\\dots$ & $\\dots$ &  \\\\\n",
       "\\end{tabular}\n"
      ],
      "text/plain": [
       "\u001b[1m244×22 DataFrame\u001b[0m\n",
       "\u001b[1m Row \u001b[0m│\u001b[1m time                     \u001b[0m\u001b[1m latitude \u001b[0m\u001b[1m longitude \u001b[0m\u001b[1m depth   \u001b[0m\u001b[1m mag     \u001b[0m\u001b[1m magTyp\u001b[0m ⋯\n",
       "     │\u001b[90m String31                 \u001b[0m\u001b[90m Float64  \u001b[0m\u001b[90m Float64   \u001b[0m\u001b[90m Float64 \u001b[0m\u001b[90m Float64 \u001b[0m\u001b[90m String\u001b[0m ⋯\n",
       "─────┼──────────────────────────────────────────────────────────────────────────\n",
       "   1 │ 2023-01-28T20:09:58.816Z   38.5084    44.8234   10.0        4.5  mb     ⋯\n",
       "   2 │ 2023-01-28T13:53:09.671Z   33.5453    45.6996   10.0        4.6  mb\n",
       "   3 │ 2023-01-28T11:58:29.480Z   -3.7951   -80.4995   59.274      4.5  mb\n",
       "   4 │ 2023-01-28T02:51:33.287Z  -24.3633  -179.759   506.61       4.5  mb\n",
       "   5 │ 2023-01-28T00:03:31.369Z    3.129    127.084    35.104      4.6  mb     ⋯\n",
       "   6 │ 2023-01-27T16:37:39.419Z  -23.7222  -179.46    525.778      4.6  mb\n",
       "   7 │ 2023-01-27T16:33:28.276Z  -23.3301  -179.886   528.172      4.5  mb\n",
       "   8 │ 2023-01-27T11:06:54.630Z   18.7795   -64.3253   33.0        4.6  ml\n",
       "   9 │ 2023-01-27T10:51:18.438Z  -16.5691   -69.7504  195.543      4.5  mb     ⋯\n",
       "  10 │ 2023-01-27T04:34:38.938Z    5.0199   -76.2029  103.42       4.5  mb\n",
       "  11 │ 2023-01-27T03:21:35.761Z   13.7912   120.548   110.676      4.5  mb\n",
       "  ⋮  │            ⋮                 ⋮          ⋮         ⋮        ⋮        ⋮   ⋱\n",
       " 235 │ 2022-12-31T10:17:46.581Z   -5.7675   148.019    10.453      4.5  mb\n",
       " 236 │ 2022-12-31T06:13:27.075Z   54.8937  -160.295    39.134      4.6  mwr    ⋯\n",
       " 237 │ 2022-12-31T03:01:44.529Z   29.2989   130.475    35.861      4.5  mb\n",
       " 238 │ 2022-12-31T00:32:51.895Z  -26.5056  -114.854    10.0        4.6  mb\n",
       " 239 │ 2022-12-30T22:45:46.147Z  -52.9992    28.4258   10.0        4.5  mb\n",
       " 240 │ 2022-12-30T22:35:25.866Z  -24.0267   -67.1397  232.941      4.5  mb     ⋯\n",
       " 241 │ 2022-12-30T06:47:45.290Z   -0.1964    97.2636   16.955      4.6  mb\n",
       " 242 │ 2022-12-30T04:57:20.274Z   60.6937   -43.9886   10.0        4.6  mb\n",
       " 243 │ 2022-12-30T03:53:27.720Z    3.7982    97.7095   56.501      4.6  mb\n",
       " 244 │ 2022-12-30T01:49:19.108Z  -27.6295   -70.1708   91.899      4.5  mwr    ⋯\n",
       "\u001b[36m                                                 17 columns and 223 rows omitted\u001b[0m"
      ]
     },
     "execution_count": 26,
     "metadata": {},
     "output_type": "execute_result"
    }
   ],
   "source": [
    "# Some functions take other functions as paramters: The filter function for DataFrame processing\n",
    "function isLowMagnitude(row)\n",
    "    return row.mag < 4.7\n",
    "end\n",
    "\n",
    "# filter takes every row in the DataFrame and passes it into the specified boolean function\n",
    "# only keeps rows that result in true in the above function \n",
    "modified_df = filter(isLowMagnitude, df)"
   ]
  },
  {
   "cell_type": "markdown",
   "id": "7b813da0",
   "metadata": {},
   "source": [
    "## DateTime Object"
   ]
  },
  {
   "cell_type": "code",
   "execution_count": null,
   "id": "156cb732",
   "metadata": {},
   "outputs": [],
   "source": [
    "# now() grabs the current DateTime, and you can also \n",
    "first_time = now()\n",
    "\n",
    "sleep(1)\n",
    "\n",
    "second_time = now()\n",
    "\n",
    "# this is a milliseconds object\n",
    "println(second_time - first_time)\n",
    "\n",
    "# turn it to an integer by saying\n",
    "println(Dates.value(second_time - first_time))\n"
   ]
  },
  {
   "cell_type": "code",
   "execution_count": null,
   "id": "c42e7f64",
   "metadata": {},
   "outputs": [],
   "source": [
    "# We can also get a DateTime from a string by casting\n",
    "another_time = DateTime(\"2022-12-30T01:49:19.108\")\n",
    "\n",
    "# Note that this requires a slight modification from the string in the table"
   ]
  }
 ],
 "metadata": {
  "kernelspec": {
   "display_name": "Julia 1.8.5",
   "language": "julia",
   "name": "julia-1.8"
  },
  "language_info": {
   "file_extension": ".jl",
   "mimetype": "application/julia",
   "name": "julia",
   "version": "1.8.5"
  }
 },
 "nbformat": 4,
 "nbformat_minor": 5
}
