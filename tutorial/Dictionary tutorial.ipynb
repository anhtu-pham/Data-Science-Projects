{
 "cells": [
  {
   "cell_type": "markdown",
   "id": "f1177262",
   "metadata": {},
   "source": [
    "# Dictionary tutorial"
   ]
  },
  {
   "cell_type": "markdown",
   "id": "18fc4117",
   "metadata": {},
   "source": [
    "Dictionary is a Julia supported collection data structure that allows storing pair of key values of arbitrary types. With this data type, you can store and access data quickly and easily through multiple different type of keys such as `string`, `char`, or `float`. This data type will be very helpful for your second programming assignment. "
   ]
  },
  {
   "cell_type": "markdown",
   "id": "e4ae097e",
   "metadata": {},
   "source": [
    "## Creating a dictionary"
   ]
  },
  {
   "cell_type": "markdown",
   "id": "7ae3b997",
   "metadata": {},
   "source": [
    "You can create an empty dictionary as follow"
   ]
  },
  {
   "cell_type": "code",
   "execution_count": 1,
   "id": "c8fb7f07",
   "metadata": {},
   "outputs": [
    {
     "data": {
      "text/plain": [
       "Dict{Any, Any}()"
      ]
     },
     "execution_count": 1,
     "metadata": {},
     "output_type": "execute_result"
    }
   ],
   "source": [
    "dict_a = Dict()"
   ]
  },
  {
   "cell_type": "markdown",
   "id": "7aad3527",
   "metadata": {},
   "source": [
    "You can create a dictionary with some initial values as follow"
   ]
  },
  {
   "cell_type": "code",
   "execution_count": 2,
   "id": "cbcfa580",
   "metadata": {},
   "outputs": [
    {
     "data": {
      "text/plain": [
       "Dict{Any, Any} with 5 entries:\n",
       "  \"c\" => 1\n",
       "  2   => \"b\"\n",
       "  \"C\" => 2\n",
       "  \"b\" => \"c\"\n",
       "  1   => \"a\""
      ]
     },
     "execution_count": 2,
     "metadata": {},
     "output_type": "execute_result"
    }
   ],
   "source": [
    "dict_b = Dict([(1,\"a\"), (2, \"b\"), (\"b\", \"c\"), (\"c\", 1), (\"C\", 2)])"
   ]
  },
  {
   "cell_type": "markdown",
   "id": "d88b9545",
   "metadata": {},
   "source": [
    "You can also use `zip` to create a dictionary with a list of keys and a list of values"
   ]
  },
  {
   "cell_type": "code",
   "execution_count": 3,
   "id": "bc6af31c",
   "metadata": {},
   "outputs": [
    {
     "data": {
      "text/plain": [
       "Dict{Any, Any} with 4 entries:\n",
       "  \"c\" => 1\n",
       "  2   => \"b\"\n",
       "  \"b\" => \"c\"\n",
       "  1   => \"a\""
      ]
     },
     "execution_count": 3,
     "metadata": {},
     "output_type": "execute_result"
    }
   ],
   "source": [
    "dict_b = Dict(zip([1,2,\"b\",\"c\"], [\"a\",\"b\",\"c\", 1]))"
   ]
  },
  {
   "cell_type": "markdown",
   "id": "1e27c4af",
   "metadata": {},
   "source": [
    "## Dictionary operations"
   ]
  },
  {
   "cell_type": "markdown",
   "id": "a6cbd135",
   "metadata": {},
   "source": [
    "### Add data to dictionary"
   ]
  },
  {
   "cell_type": "markdown",
   "id": "7eba9881",
   "metadata": {},
   "source": [
    "New elements can be added to dictionary through assignment."
   ]
  },
  {
   "cell_type": "code",
   "execution_count": 4,
   "id": "f10d6da6",
   "metadata": {},
   "outputs": [
    {
     "data": {
      "text/plain": [
       "\"x\""
      ]
     },
     "execution_count": 4,
     "metadata": {},
     "output_type": "execute_result"
    }
   ],
   "source": [
    "dict_b[3] = \"x\""
   ]
  },
  {
   "cell_type": "code",
   "execution_count": 5,
   "id": "90ff2ca4",
   "metadata": {},
   "outputs": [
    {
     "data": {
      "text/plain": [
       "\"y\""
      ]
     },
     "execution_count": 5,
     "metadata": {},
     "output_type": "execute_result"
    }
   ],
   "source": [
    "dict_b[\"new\"] = \"y\""
   ]
  },
  {
   "cell_type": "markdown",
   "id": "da390e36",
   "metadata": {},
   "source": [
    "Each key in a dictionary is unique. Therefore, when you try to add a new value to an existing key, you will overwrite the stored value with the new ones."
   ]
  },
  {
   "cell_type": "code",
   "execution_count": 41,
   "id": "1dbeedb5",
   "metadata": {},
   "outputs": [
    {
     "data": {
      "text/plain": [
       "1"
      ]
     },
     "execution_count": 41,
     "metadata": {},
     "output_type": "execute_result"
    }
   ],
   "source": [
    "dict_b[3] = 1"
   ]
  },
  {
   "cell_type": "markdown",
   "id": "4432bc7c",
   "metadata": {},
   "source": [
    "You can also having arrays as dictionary key or value."
   ]
  },
  {
   "cell_type": "code",
   "execution_count": 6,
   "id": "1647b9ff",
   "metadata": {},
   "outputs": [
    {
     "data": {
      "text/plain": [
       "\"a\""
      ]
     },
     "execution_count": 6,
     "metadata": {},
     "output_type": "execute_result"
    }
   ],
   "source": [
    "dict_b[[1]] = \"a\""
   ]
  },
  {
   "cell_type": "code",
   "execution_count": 7,
   "id": "100fd056",
   "metadata": {},
   "outputs": [
    {
     "data": {
      "text/plain": [
       "2-element Vector{Int64}:\n",
       " 1\n",
       " 2"
      ]
     },
     "execution_count": 7,
     "metadata": {},
     "output_type": "execute_result"
    }
   ],
   "source": [
    "dict_b[\"d\"] = [1,2]"
   ]
  },
  {
   "cell_type": "code",
   "execution_count": 8,
   "id": "d3a34722",
   "metadata": {},
   "outputs": [
    {
     "data": {
      "text/plain": [
       "Dict{Any, Any} with 8 entries:\n",
       "  \"new\" => \"y\"\n",
       "  \"c\"   => 1\n",
       "  2     => \"b\"\n",
       "  [1]   => \"a\"\n",
       "  \"b\"   => \"c\"\n",
       "  3     => \"x\"\n",
       "  1     => \"a\"\n",
       "  \"d\"   => [1, 2]"
      ]
     },
     "execution_count": 8,
     "metadata": {},
     "output_type": "execute_result"
    }
   ],
   "source": [
    "dict_b"
   ]
  },
  {
   "cell_type": "markdown",
   "id": "71eae27a",
   "metadata": {},
   "source": [
    "### Access data in dictionary"
   ]
  },
  {
   "cell_type": "markdown",
   "id": "1f4123f4",
   "metadata": {},
   "source": [
    "#### Direct access"
   ]
  },
  {
   "cell_type": "markdown",
   "id": "59ec8a97",
   "metadata": {},
   "source": [
    "Dictionary values can be accessed through keys"
   ]
  },
  {
   "cell_type": "code",
   "execution_count": 9,
   "id": "f018e85e",
   "metadata": {
    "scrolled": true
   },
   "outputs": [
    {
     "data": {
      "text/plain": [
       "\"a\""
      ]
     },
     "execution_count": 9,
     "metadata": {},
     "output_type": "execute_result"
    }
   ],
   "source": [
    "dict_b[1]"
   ]
  },
  {
   "cell_type": "markdown",
   "id": "aab5c033",
   "metadata": {},
   "source": [
    "If the key is not inside the dictionary then an error is return"
   ]
  },
  {
   "cell_type": "code",
   "execution_count": 10,
   "id": "212980e2",
   "metadata": {},
   "outputs": [
    {
     "ename": "LoadError",
     "evalue": "KeyError: key \"a\" not found",
     "output_type": "error",
     "traceback": [
      "KeyError: key \"a\" not found",
      "",
      "Stacktrace:",
      " [1] getindex(h::Dict{Any, Any}, key::String)",
      "   @ Base .\\dict.jl:498",
      " [2] top-level scope",
      "   @ In[10]:1"
     ]
    }
   ],
   "source": [
    "dict_b[\"a\"]"
   ]
  },
  {
   "cell_type": "markdown",
   "id": "88546e22",
   "metadata": {},
   "source": [
    "Keys are case sensitive."
   ]
  },
  {
   "cell_type": "code",
   "execution_count": 11,
   "id": "9c06fea0",
   "metadata": {},
   "outputs": [
    {
     "data": {
      "text/plain": [
       "\"c\""
      ]
     },
     "execution_count": 11,
     "metadata": {},
     "output_type": "execute_result"
    }
   ],
   "source": [
    "dict_b[\"b\"]"
   ]
  },
  {
   "cell_type": "markdown",
   "id": "be6807d8",
   "metadata": {},
   "source": [
    "Strings as dictionary keys are case sensitive."
   ]
  },
  {
   "cell_type": "code",
   "execution_count": 12,
   "id": "cedf6cac",
   "metadata": {},
   "outputs": [
    {
     "ename": "LoadError",
     "evalue": "KeyError: key \"B\" not found",
     "output_type": "error",
     "traceback": [
      "KeyError: key \"B\" not found",
      "",
      "Stacktrace:",
      " [1] getindex(h::Dict{Any, Any}, key::String)",
      "   @ Base .\\dict.jl:498",
      " [2] top-level scope",
      "   @ In[12]:1"
     ]
    }
   ],
   "source": [
    "dict_b[\"B\"]"
   ]
  },
  {
   "cell_type": "markdown",
   "id": "6cf7c4a5",
   "metadata": {},
   "source": [
    "You can use the `haskey` function to check if there is a key inside a dictionary."
   ]
  },
  {
   "cell_type": "code",
   "execution_count": 13,
   "id": "c18ffa9b",
   "metadata": {},
   "outputs": [
    {
     "data": {
      "text/plain": [
       "true"
      ]
     },
     "execution_count": 13,
     "metadata": {},
     "output_type": "execute_result"
    }
   ],
   "source": [
    "haskey(dict_b,1)"
   ]
  },
  {
   "cell_type": "code",
   "execution_count": 14,
   "id": "e915a3c7",
   "metadata": {},
   "outputs": [
    {
     "data": {
      "text/plain": [
       "false"
      ]
     },
     "execution_count": 14,
     "metadata": {},
     "output_type": "execute_result"
    }
   ],
   "source": [
    "haskey(dict_b,4)"
   ]
  },
  {
   "cell_type": "markdown",
   "id": "0294c764",
   "metadata": {},
   "source": [
    "#### Access with get"
   ]
  },
  {
   "cell_type": "markdown",
   "id": "a257f023",
   "metadata": {},
   "source": [
    "Dictionary elements can be accessed with get method which can allow returning a default value if the key is not inside the dictionary"
   ]
  },
  {
   "cell_type": "code",
   "execution_count": 15,
   "id": "75510f36",
   "metadata": {
    "scrolled": false
   },
   "outputs": [
    {
     "data": {
      "text/plain": [
       "1"
      ]
     },
     "execution_count": 15,
     "metadata": {},
     "output_type": "execute_result"
    }
   ],
   "source": [
    "get(dict_b, \"c\", 2)"
   ]
  },
  {
   "cell_type": "code",
   "execution_count": 16,
   "id": "9465810d",
   "metadata": {
    "scrolled": true
   },
   "outputs": [
    {
     "data": {
      "text/plain": [
       "2"
      ]
     },
     "execution_count": 16,
     "metadata": {},
     "output_type": "execute_result"
    }
   ],
   "source": [
    "get(dict_b, \"a\", 2)"
   ]
  },
  {
   "cell_type": "markdown",
   "id": "1a8157f6",
   "metadata": {},
   "source": [
    "The get method will not add the non-existed key to the dict"
   ]
  },
  {
   "cell_type": "code",
   "execution_count": 17,
   "id": "cb06cd0d",
   "metadata": {
    "scrolled": true
   },
   "outputs": [
    {
     "data": {
      "text/plain": [
       "Dict{Any, Any} with 8 entries:\n",
       "  \"new\" => \"y\"\n",
       "  \"c\"   => 1\n",
       "  2     => \"b\"\n",
       "  [1]   => \"a\"\n",
       "  \"b\"   => \"c\"\n",
       "  3     => \"x\"\n",
       "  1     => \"a\"\n",
       "  \"d\"   => [1, 2]"
      ]
     },
     "execution_count": 17,
     "metadata": {},
     "output_type": "execute_result"
    }
   ],
   "source": [
    "dict_b"
   ]
  },
  {
   "cell_type": "code",
   "execution_count": 18,
   "id": "b7e669e0",
   "metadata": {},
   "outputs": [
    {
     "data": {
      "text/plain": [
       "2"
      ]
     },
     "execution_count": 18,
     "metadata": {},
     "output_type": "execute_result"
    }
   ],
   "source": [
    "get!(dict_b, \"a\", 2)"
   ]
  },
  {
   "cell_type": "markdown",
   "id": "7932d746",
   "metadata": {},
   "source": [
    "The get! will add the non-existed key to the dict with the default value as its value"
   ]
  },
  {
   "cell_type": "code",
   "execution_count": 44,
   "id": "85f26277",
   "metadata": {},
   "outputs": [
    {
     "data": {
      "text/plain": [
       "Dict{Any, Any} with 7 entries:\n",
       "  \"new\" => \"y\"\n",
       "  2     => \"b\"\n",
       "  [1]   => \"a\"\n",
       "  \"b\"   => \"c\"\n",
       "  3     => 1\n",
       "  1     => \"a\"\n",
       "  \"d\"   => [1, 2]"
      ]
     },
     "execution_count": 44,
     "metadata": {},
     "output_type": "execute_result"
    }
   ],
   "source": [
    "dict_b"
   ]
  },
  {
   "cell_type": "markdown",
   "id": "a517b07c",
   "metadata": {},
   "source": [
    "### Modify dictionary values"
   ]
  },
  {
   "cell_type": "markdown",
   "id": "11bce022",
   "metadata": {},
   "source": [
    "Dictionary value can be modify by accessing the value then doing modification just like how you do with variables. This holds true for most value types including string, number, and arrays."
   ]
  },
  {
   "cell_type": "code",
   "execution_count": 45,
   "id": "dabbb6f8",
   "metadata": {},
   "outputs": [
    {
     "data": {
      "text/plain": [
       "2"
      ]
     },
     "execution_count": 45,
     "metadata": {},
     "output_type": "execute_result"
    }
   ],
   "source": [
    "dict_b[3] +=1"
   ]
  },
  {
   "cell_type": "code",
   "execution_count": 46,
   "id": "7db92cff",
   "metadata": {
    "scrolled": true
   },
   "outputs": [
    {
     "data": {
      "text/plain": [
       "2"
      ]
     },
     "execution_count": 46,
     "metadata": {},
     "output_type": "execute_result"
    }
   ],
   "source": [
    "dict_b[3]"
   ]
  },
  {
   "cell_type": "code",
   "execution_count": 48,
   "id": "18e4c693",
   "metadata": {},
   "outputs": [
    {
     "data": {
      "text/plain": [
       "3-element Vector{Int64}:\n",
       " 1\n",
       " 2\n",
       " 1"
      ]
     },
     "execution_count": 48,
     "metadata": {},
     "output_type": "execute_result"
    }
   ],
   "source": [
    "push!(dict_b[\"d\"], 1)"
   ]
  },
  {
   "cell_type": "code",
   "execution_count": 49,
   "id": "0da8cd1c",
   "metadata": {},
   "outputs": [
    {
     "data": {
      "text/plain": [
       "3-element Vector{Int64}:\n",
       " 1\n",
       " 2\n",
       " 1"
      ]
     },
     "execution_count": 49,
     "metadata": {},
     "output_type": "execute_result"
    }
   ],
   "source": [
    "dict_b[\"d\"]"
   ]
  },
  {
   "cell_type": "markdown",
   "id": "8f5d1f8e",
   "metadata": {},
   "source": [
    "### Delete value from dictionary"
   ]
  },
  {
   "cell_type": "markdown",
   "id": "c6524e09",
   "metadata": {},
   "source": [
    "The `delete!` method will remove a key,value pair inside a dictionary that associated with the key and return the new dictionary."
   ]
  },
  {
   "cell_type": "code",
   "execution_count": 20,
   "id": "b0dd0be7",
   "metadata": {
    "scrolled": true
   },
   "outputs": [
    {
     "data": {
      "text/plain": [
       "Dict{Any, Any} with 8 entries:\n",
       "  \"new\" => \"y\"\n",
       "  \"c\"   => 1\n",
       "  2     => \"b\"\n",
       "  [1]   => \"a\"\n",
       "  \"b\"   => \"c\"\n",
       "  3     => \"x\"\n",
       "  1     => \"a\"\n",
       "  \"d\"   => [1, 2]"
      ]
     },
     "execution_count": 20,
     "metadata": {},
     "output_type": "execute_result"
    }
   ],
   "source": [
    "delete!(dict_b, \"a\")"
   ]
  },
  {
   "cell_type": "markdown",
   "id": "f9b005ee",
   "metadata": {},
   "source": [
    "The `delete!` function will still run even if there is no key inside."
   ]
  },
  {
   "cell_type": "code",
   "execution_count": 21,
   "id": "7784e5fe",
   "metadata": {
    "scrolled": true
   },
   "outputs": [
    {
     "data": {
      "text/plain": [
       "Dict{Any, Any} with 8 entries:\n",
       "  \"new\" => \"y\"\n",
       "  \"c\"   => 1\n",
       "  2     => \"b\"\n",
       "  [1]   => \"a\"\n",
       "  \"b\"   => \"c\"\n",
       "  3     => \"x\"\n",
       "  1     => \"a\"\n",
       "  \"d\"   => [1, 2]"
      ]
     },
     "execution_count": 21,
     "metadata": {},
     "output_type": "execute_result"
    }
   ],
   "source": [
    "delete!(dict_b, \"a\")"
   ]
  },
  {
   "cell_type": "markdown",
   "id": "634029e2",
   "metadata": {},
   "source": [
    "The `pop!` method will remove a key,value pair inside a dictionary that associated with the key and return the value associated with the deleted key."
   ]
  },
  {
   "cell_type": "code",
   "execution_count": 22,
   "id": "a46f3969",
   "metadata": {},
   "outputs": [
    {
     "data": {
      "text/plain": [
       "1"
      ]
     },
     "execution_count": 22,
     "metadata": {},
     "output_type": "execute_result"
    }
   ],
   "source": [
    "pop!(dict_b, \"c\")"
   ]
  },
  {
   "cell_type": "markdown",
   "id": "b174503f",
   "metadata": {},
   "source": [
    "The `pop!` function will not run if there is no key inside."
   ]
  },
  {
   "cell_type": "code",
   "execution_count": 23,
   "id": "0baa8a8b",
   "metadata": {},
   "outputs": [
    {
     "ename": "LoadError",
     "evalue": "KeyError: key \"c\" not found",
     "output_type": "error",
     "traceback": [
      "KeyError: key \"c\" not found",
      "",
      "Stacktrace:",
      " [1] pop!(h::Dict{Any, Any}, key::String)",
      "   @ Base .\\dict.jl:604",
      " [2] top-level scope",
      "   @ In[23]:1"
     ]
    }
   ],
   "source": [
    "pop!(dict_b, \"c\")"
   ]
  },
  {
   "cell_type": "markdown",
   "id": "4ca1da91",
   "metadata": {},
   "source": [
    "If you give a default value to the `pop!` method, the default value will be return if the key is not inside the dictionary."
   ]
  },
  {
   "cell_type": "code",
   "execution_count": 24,
   "id": "77e8ff9b",
   "metadata": {},
   "outputs": [
    {
     "data": {
      "text/plain": [
       "4"
      ]
     },
     "execution_count": 24,
     "metadata": {},
     "output_type": "execute_result"
    }
   ],
   "source": [
    "pop!(dict_b, \"c\",4)"
   ]
  },
  {
   "cell_type": "code",
   "execution_count": 25,
   "id": "f2b04b3a",
   "metadata": {
    "scrolled": true
   },
   "outputs": [
    {
     "data": {
      "text/plain": [
       "Dict{Any, Any} with 7 entries:\n",
       "  \"new\" => \"y\"\n",
       "  2     => \"b\"\n",
       "  [1]   => \"a\"\n",
       "  \"b\"   => \"c\"\n",
       "  3     => \"x\"\n",
       "  1     => \"a\"\n",
       "  \"d\"   => [1, 2]"
      ]
     },
     "execution_count": 25,
     "metadata": {},
     "output_type": "execute_result"
    }
   ],
   "source": [
    "dict_b"
   ]
  },
  {
   "cell_type": "markdown",
   "id": "74d60415",
   "metadata": {},
   "source": [
    "### Dictionaries element"
   ]
  },
  {
   "cell_type": "markdown",
   "id": "e446c3ae",
   "metadata": {},
   "source": [
    "You can get all the keys inside a dictionary using the `keys` function."
   ]
  },
  {
   "cell_type": "markdown",
   "id": "f4100429",
   "metadata": {},
   "source": [
    "You can get all the keys inside a dictionary using the `keys` function."
   ]
  },
  {
   "cell_type": "code",
   "execution_count": 26,
   "id": "fe2547f5",
   "metadata": {
    "scrolled": true
   },
   "outputs": [
    {
     "data": {
      "text/plain": [
       "KeySet for a Dict{Any, Any} with 7 entries. Keys:\n",
       "  \"new\"\n",
       "  2\n",
       "  [1]\n",
       "  \"b\"\n",
       "  3\n",
       "  1\n",
       "  \"d\""
      ]
     },
     "execution_count": 26,
     "metadata": {},
     "output_type": "execute_result"
    }
   ],
   "source": [
    "keys(dict_b)"
   ]
  },
  {
   "cell_type": "code",
   "execution_count": 27,
   "id": "4754de23",
   "metadata": {},
   "outputs": [
    {
     "name": "stdout",
     "output_type": "stream",
     "text": [
      "new\n",
      "2\n",
      "[1]\n",
      "b\n",
      "3\n",
      "1\n",
      "d\n"
     ]
    }
   ],
   "source": [
    "for key in keys(dict_b)\n",
    "    println(key)\n",
    "end"
   ]
  },
  {
   "cell_type": "markdown",
   "id": "d173a9de",
   "metadata": {},
   "source": [
    "You can get all the values inside a dictionary using the `values` function."
   ]
  },
  {
   "cell_type": "code",
   "execution_count": 28,
   "id": "764679bb",
   "metadata": {
    "scrolled": true
   },
   "outputs": [
    {
     "data": {
      "text/plain": [
       "ValueIterator for a Dict{Any, Any} with 7 entries. Values:\n",
       "  \"y\"\n",
       "  \"b\"\n",
       "  \"a\"\n",
       "  \"c\"\n",
       "  \"x\"\n",
       "  \"a\"\n",
       "  [1, 2]"
      ]
     },
     "execution_count": 28,
     "metadata": {},
     "output_type": "execute_result"
    }
   ],
   "source": [
    "values(dict_b)"
   ]
  },
  {
   "cell_type": "code",
   "execution_count": 29,
   "id": "5f119fe1",
   "metadata": {},
   "outputs": [
    {
     "name": "stdout",
     "output_type": "stream",
     "text": [
      "y\n",
      "b\n",
      "a\n",
      "c\n",
      "x\n",
      "a\n",
      "[1, 2]\n"
     ]
    }
   ],
   "source": [
    "for value in values(dict_b)\n",
    "    println(value)\n",
    "end"
   ]
  },
  {
   "cell_type": "markdown",
   "id": "c91973db",
   "metadata": {},
   "source": [
    "You can get all the key, value pairs inside a dictionary using the `pairs` function."
   ]
  },
  {
   "cell_type": "code",
   "execution_count": 30,
   "id": "feab4e6b",
   "metadata": {},
   "outputs": [
    {
     "data": {
      "text/plain": [
       "Dict{Any, Any} with 7 entries:\n",
       "  \"new\" => \"y\"\n",
       "  2     => \"b\"\n",
       "  [1]   => \"a\"\n",
       "  \"b\"   => \"c\"\n",
       "  3     => \"x\"\n",
       "  1     => \"a\"\n",
       "  \"d\"   => [1, 2]"
      ]
     },
     "execution_count": 30,
     "metadata": {},
     "output_type": "execute_result"
    }
   ],
   "source": [
    "pairs(dict_b)"
   ]
  },
  {
   "cell_type": "markdown",
   "id": "cacfdf78",
   "metadata": {},
   "source": [
    "### Iterating through dictionary"
   ]
  },
  {
   "cell_type": "code",
   "execution_count": 31,
   "id": "9bcc76c6",
   "metadata": {},
   "outputs": [
    {
     "name": "stdout",
     "output_type": "stream",
     "text": [
      "new y\n",
      "2 b\n",
      "[1] a\n",
      "b c\n",
      "3 x\n",
      "1 a\n",
      "d [1, 2]\n"
     ]
    }
   ],
   "source": [
    "for (key, value) in dict_b\n",
    "    print(key)\n",
    "    print(\" \")\n",
    "    println(value)\n",
    "end"
   ]
  },
  {
   "cell_type": "markdown",
   "id": "dd6f0d96",
   "metadata": {},
   "source": [
    "### Merge dictionaries"
   ]
  },
  {
   "cell_type": "code",
   "execution_count": 32,
   "id": "c72027a4",
   "metadata": {
    "scrolled": true
   },
   "outputs": [
    {
     "data": {
      "text/plain": [
       "Dict{Any, Int64} with 2 entries:\n",
       "  \"a\" => 1\n",
       "  1   => 3"
      ]
     },
     "execution_count": 32,
     "metadata": {},
     "output_type": "execute_result"
    }
   ],
   "source": [
    "dict_c = Dict([(1,3),(\"a\", 1)])"
   ]
  },
  {
   "cell_type": "markdown",
   "id": "b9dfba44",
   "metadata": {},
   "source": [
    "You can use the merge method to merge multiple dictionaries. If one key exists in multiple dictionaries, the values associated with the last time that key appears will be recorded in the merged dictionary."
   ]
  },
  {
   "cell_type": "code",
   "execution_count": 33,
   "id": "160e9276",
   "metadata": {},
   "outputs": [
    {
     "data": {
      "text/plain": [
       "Dict{Any, Any} with 8 entries:\n",
       "  \"a\"   => 1\n",
       "  \"new\" => \"y\"\n",
       "  2     => \"b\"\n",
       "  [1]   => \"a\"\n",
       "  \"b\"   => \"c\"\n",
       "  3     => \"x\"\n",
       "  1     => 3\n",
       "  \"d\"   => [1, 2]"
      ]
     },
     "execution_count": 33,
     "metadata": {},
     "output_type": "execute_result"
    }
   ],
   "source": [
    "merge(dict_b,dict_c)"
   ]
  },
  {
   "cell_type": "code",
   "execution_count": 34,
   "id": "439eaba7",
   "metadata": {},
   "outputs": [
    {
     "data": {
      "text/plain": [
       "Dict{Int64, Int64} with 1 entry:\n",
       "  1 => 2"
      ]
     },
     "execution_count": 34,
     "metadata": {},
     "output_type": "execute_result"
    }
   ],
   "source": [
    "dict_d = Dict([(1,2)])"
   ]
  },
  {
   "cell_type": "code",
   "execution_count": 35,
   "id": "c72a9067",
   "metadata": {
    "scrolled": true
   },
   "outputs": [
    {
     "data": {
      "text/plain": [
       "Dict{Any, Any} with 8 entries:\n",
       "  \"a\"   => 1\n",
       "  \"new\" => \"y\"\n",
       "  2     => \"b\"\n",
       "  [1]   => \"a\"\n",
       "  \"b\"   => \"c\"\n",
       "  3     => \"x\"\n",
       "  1     => 2\n",
       "  \"d\"   => [1, 2]"
      ]
     },
     "execution_count": 35,
     "metadata": {},
     "output_type": "execute_result"
    }
   ],
   "source": [
    "merge(dict_b,dict_c,dict_d)"
   ]
  },
  {
   "cell_type": "code",
   "execution_count": 36,
   "id": "9a9d911b",
   "metadata": {},
   "outputs": [
    {
     "data": {
      "text/plain": [
       "Dict{Any, Any} with 8 entries:\n",
       "  \"a\"   => 1\n",
       "  \"new\" => \"y\"\n",
       "  2     => \"b\"\n",
       "  [1]   => \"a\"\n",
       "  \"b\"   => \"c\"\n",
       "  3     => \"x\"\n",
       "  1     => 2\n",
       "  \"d\"   => [1, 2]"
      ]
     },
     "execution_count": 36,
     "metadata": {},
     "output_type": "execute_result"
    }
   ],
   "source": [
    "merge(dict_b,dict_c,dict_d)"
   ]
  },
  {
   "cell_type": "markdown",
   "id": "10fe5573",
   "metadata": {},
   "source": [
    "You can use `mergewith` function to merge dictionaries with some functions. If there are multiple values associated with one key, the value will be the value of the given functon applying to all the values"
   ]
  },
  {
   "cell_type": "code",
   "execution_count": 37,
   "id": "e0029e8d",
   "metadata": {
    "scrolled": true
   },
   "outputs": [
    {
     "data": {
      "text/plain": [
       "Dict{Any, Int64} with 2 entries:\n",
       "  \"a\" => 1\n",
       "  1   => 5"
      ]
     },
     "execution_count": 37,
     "metadata": {},
     "output_type": "execute_result"
    }
   ],
   "source": [
    "mergewith(+,dict_c, dict_d)"
   ]
  },
  {
   "cell_type": "markdown",
   "id": "34680e3f",
   "metadata": {},
   "source": [
    "If the merging method cannot be apply to the values, an error will occur"
   ]
  },
  {
   "cell_type": "code",
   "execution_count": 38,
   "id": "137188ec",
   "metadata": {},
   "outputs": [
    {
     "ename": "LoadError",
     "evalue": "MethodError: no method matching +(::String, ::Int64)\n\u001b[0mClosest candidates are:\n\u001b[0m  +(::Any, ::Any, \u001b[91m::Any\u001b[39m, \u001b[91m::Any...\u001b[39m) at operators.jl:591\n\u001b[0m  +(\u001b[91m::T\u001b[39m, ::T) where T<:Union{Int128, Int16, Int32, Int64, Int8, UInt128, UInt16, UInt32, UInt64, UInt8} at int.jl:87\n\u001b[0m  +(\u001b[91m::Rational\u001b[39m, ::Integer) at rational.jl:313\n\u001b[0m  ...",
     "output_type": "error",
     "traceback": [
      "MethodError: no method matching +(::String, ::Int64)\n\u001b[0mClosest candidates are:\n\u001b[0m  +(::Any, ::Any, \u001b[91m::Any\u001b[39m, \u001b[91m::Any...\u001b[39m) at operators.jl:591\n\u001b[0m  +(\u001b[91m::T\u001b[39m, ::T) where T<:Union{Int128, Int16, Int32, Int64, Int8, UInt128, UInt16, UInt32, UInt64, UInt8} at int.jl:87\n\u001b[0m  +(\u001b[91m::Rational\u001b[39m, ::Integer) at rational.jl:313\n\u001b[0m  ...",
      "",
      "Stacktrace:",
      " [1] mergewith!(combine::typeof(+), d1::Dict{Any, Any}, d2::Dict{Any, Int64})",
      "   @ Base .\\dict.jl:752",
      " [2] mergewith(combine::Function, d::Dict{Any, Any}, others::Dict{Any, Int64})",
      "   @ Base .\\abstractdict.jl:392",
      " [3] top-level scope",
      "   @ In[38]:1"
     ]
    }
   ],
   "source": [
    "mergewith(+,dict_b, dict_c)"
   ]
  },
  {
   "cell_type": "markdown",
   "id": "80db9939",
   "metadata": {},
   "source": [
    "## Sorting dictionary elements"
   ]
  },
  {
   "cell_type": "markdown",
   "id": "93dcbf1e",
   "metadata": {},
   "source": [
    "By default, dictionary is unordered. Therefore, we need to convert dictionary to an arrays of key, value pairs to sort them."
   ]
  },
  {
   "cell_type": "code",
   "execution_count": 39,
   "id": "f1e84c15",
   "metadata": {},
   "outputs": [
    {
     "data": {
      "text/plain": [
       "Dict{String, Int64} with 3 entries:\n",
       "  \"new\" => 2\n",
       "  \"the\" => 4\n",
       "  \"a\"   => 3"
      ]
     },
     "execution_count": 39,
     "metadata": {},
     "output_type": "execute_result"
    }
   ],
   "source": [
    "my_dict = Dict([(\"new\",2),(\"a\", 3), (\"the\", 4)])"
   ]
  },
  {
   "cell_type": "code",
   "execution_count": 40,
   "id": "1e9a1bf5",
   "metadata": {},
   "outputs": [
    {
     "data": {
      "text/plain": [
       "3-element Vector{Pair{String, Int64}}:\n",
       " \"the\" => 4\n",
       "   \"a\" => 3\n",
       " \"new\" => 2"
      ]
     },
     "execution_count": 40,
     "metadata": {},
     "output_type": "execute_result"
    }
   ],
   "source": [
    "sort(collect(pairs(my_dict)), by = x -> x[2], rev = true)"
   ]
  },
  {
   "cell_type": "markdown",
   "id": "52106098",
   "metadata": {},
   "source": [
    "Another approach to this is using the OrderedDictionary. However, you will need the `OrderedCollections` package to use this data type."
   ]
  },
  {
   "cell_type": "code",
   "execution_count": 52,
   "id": "2af322b6",
   "metadata": {},
   "outputs": [],
   "source": [
    "using OrderedCollections"
   ]
  },
  {
   "cell_type": "code",
   "execution_count": 54,
   "id": "ce7c3c27",
   "metadata": {},
   "outputs": [
    {
     "data": {
      "text/plain": [
       "OrderedDict{String, Int64} with 3 entries:\n",
       "  \"new\" => 2\n",
       "  \"the\" => 4\n",
       "  \"a\"   => 3"
      ]
     },
     "execution_count": 54,
     "metadata": {},
     "output_type": "execute_result"
    }
   ],
   "source": [
    "my_sorted_dict=OrderedDict(my_dict)\n"
   ]
  },
  {
   "cell_type": "code",
   "execution_count": 61,
   "id": "89d40493",
   "metadata": {},
   "outputs": [
    {
     "data": {
      "text/plain": [
       "OrderedDict{String, Int64} with 3 entries:\n",
       "  \"the\" => 4\n",
       "  \"a\"   => 3\n",
       "  \"new\" => 2"
      ]
     },
     "execution_count": 61,
     "metadata": {},
     "output_type": "execute_result"
    }
   ],
   "source": [
    "sort(my_sorted_dict, byvalue = true, rev =true)"
   ]
  }
 ],
 "metadata": {
  "@webio": {
   "lastCommId": null,
   "lastKernelId": null
  },
  "kernelspec": {
   "display_name": "Julia 1.8.5",
   "language": "julia",
   "name": "julia-1.8"
  },
  "language_info": {
   "file_extension": ".jl",
   "mimetype": "application/julia",
   "name": "julia",
   "version": "1.8.5"
  }
 },
 "nbformat": 4,
 "nbformat_minor": 5
}
