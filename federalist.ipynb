{
 "cells": [
  {
   "cell_type": "code",
   "execution_count": null,
   "id": "74c32b87",
   "metadata": {},
   "outputs": [],
   "source": [
    "open(\"D:/federalistpapers.txt\")\n"
   ]
  },
  {
   "cell_type": "code",
   "execution_count": null,
   "id": "2bf28f75",
   "metadata": {},
   "outputs": [],
   "source": []
  },
  {
   "cell_type": "code",
   "execution_count": null,
   "id": "277002a1",
   "metadata": {},
   "outputs": [],
   "source": [
    "text = read(\"C:/Users/ADMIN/OneDrive/Documents/GitHub/csds133-s23-2/federalistpapers.txt\", String)\n",
    "essays = split(text, \"Federalist No.\")\n",
    "println(essays)"
   ]
  }
 ],
 "metadata": {
  "kernelspec": {
   "display_name": "Julia 1.8.5",
   "language": "julia",
   "name": "julia-1.8"
  },
  "language_info": {
   "file_extension": ".jl",
   "mimetype": "application/julia",
   "name": "julia",
   "version": "1.8.5"
  }
 },
 "nbformat": 4,
 "nbformat_minor": 5
}
