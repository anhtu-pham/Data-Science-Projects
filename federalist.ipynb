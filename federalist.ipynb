{
 "cells": [
  {
   "cell_type": "code",
   "execution_count": null,
   "id": "74c32b87",
   "metadata": {},
   "outputs": [],
   "source": [
    "open(\"D:/federalistpapers.txt\")\n"
   ]
  },
  {
   "cell_type": "code",
   "execution_count": null,
   "id": "2bf28f75",
   "metadata": {},
   "outputs": [],
   "source": []
  },
  {
   "cell_type": "code",
   "execution_count": 2,
   "id": "277002a1",
   "metadata": {},
   "outputs": [
    {
     "ename": "BoundsError",
     "evalue": "BoundsError: attempt to access 0-element Vector{SubString{String}} at index [0]",
     "output_type": "error",
     "traceback": [
      "BoundsError: attempt to access 0-element Vector{SubString{String}} at index [0]\n",
      "\n",
      "Stacktrace:\n",
      " [1] getindex(A::Vector{SubString{String}}, i1::Int64)\n",
      "   @ Base .\\array.jl:924\n",
      " [2] top-level scope\n",
      "   @ c:\\Users\\ADMIN\\OneDrive\\Documents\\GitHub\\csds133-s23-2\\federalist.ipynb:4"
     ]
    }
   ],
   "source": [
    "text = read(\"C:/Users/ADMIN/OneDrive/Documents/GitHub/csds133-s23-2/federalistpapers.txt\", String)\n",
    "essays = split(text, \"Federalist No. \")\n",
    "essays = essays[2:end]\n",
    "ending = split(essays[end], \"PUBLIUS.\")\n",
    "essays[end] = ending[2]\n",
    "print(essays)"
   ]
  }
 ],
 "metadata": {
  "kernelspec": {
   "display_name": "Julia 1.8.5",
   "language": "julia",
   "name": "julia-1.8"
  },
  "language_info": {
   "file_extension": ".jl",
   "mimetype": "application/julia",
   "name": "julia",
   "version": "1.8.5"
  }
 },
 "nbformat": 4,
 "nbformat_minor": 5
}
