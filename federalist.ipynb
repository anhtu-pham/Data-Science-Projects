{
 "cells": [
  {
   "cell_type": "code",
   "execution_count": null,
   "id": "74c32b87",
   "metadata": {},
   "outputs": [],
   "source": [
    "f= read(\"federalistpapers.txt\", String)\n",
    "\n",
    "subEssay = String[]\n",
    "\n",
    "i = 1\n",
    "while i != nothing \n",
    "    next_occurrence_start = findnext(\"FEDERALIST No.\", f, i)\n",
    "    next_occurrence_end = findnext(\"PUBLIUS\", f, i)\n",
    "    println(SubString(f, next_occurrence_start[1], next_occurrence_end[2]))\n",
    "    if next_occurrence_start == nothing\n",
    "        break\n",
    "    end\n",
    "    i = next_occurrence_end[1] + 1\n",
    "end\n"
   ]
  },
  {
   "cell_type": "code",
   "execution_count": 27,
   "id": "277002a1",
   "metadata": {},
   "outputs": [
    {
     "data": {
      "text/plain": [
       "\"Number of words per essay by Hamilton: 2179.823529411765\""
      ]
     },
     "metadata": {},
     "output_type": "display_data"
    },
    {
     "data": {
      "text/plain": [
       "\"Number of words per essay by Madison: 2768.6428571428573\""
      ]
     },
     "metadata": {},
     "output_type": "display_data"
    },
    {
     "data": {
      "text/plain": [
       "\"Number of words per essay by Jay: 1674.2\""
      ]
     },
     "metadata": {},
     "output_type": "display_data"
    },
    {
     "data": {
      "text/plain": [
       "\"Number of words per essay by Unknown: 1976.0\""
      ]
     },
     "metadata": {},
     "output_type": "display_data"
    },
    {
     "data": {
      "text/plain": [
       "\"Number of words per essay by All: 2211.0941176470587\""
      ]
     },
     "metadata": {},
     "output_type": "display_data"
    }
   ],
   "source": [
    "# TU PHAM\n",
    "# Questions 1, 2, 4\n",
    "text = read(\"federalistpapers.txt\", String)\n",
    "essays = split(text, r\"FEDERALIST No.\\ \\d+\")\n",
    "popfirst!(essays)\n",
    "authors = Array{String}(undef, length(essays))\n",
    "for i in eachindex(essays)\n",
    "    essayParts = split(essays[i], \"PUBLIUS\")\n",
    "    essayParts = split(essayParts[1], \"To the People of the State of New York\")\n",
    "    firstPart = split(essayParts[1], \"\\r\\n\\r\\n\")\n",
    "    if(i in 49:58 || i in 62:63)\n",
    "        authors[i] = \"Unknown\"\n",
    "    else\n",
    "        authors[i] = replace(firstPart[end - 1], \"\\r\\n\" => \"\")\n",
    "    end\n",
    "    secondPart = essayParts[2]\n",
    "    essays[i] = string(secondPart[6:end], \"PUBLIUS\")\n",
    "end\n",
    "\n",
    "# Question 3\n",
    "function separateIntoParagraphs(essays)\n",
    "    array = Array{String}[]\n",
    "    for i in eachindex(essays)\n",
    "        paragraphs = split(essays[i], \"\\r\\n\\r\\n\")\n",
    "        for j in eachindex(paragraphs)\n",
    "            paragraphs[j] = replace(paragraphs[j], \"\\r\\n\" => \" \")\n",
    "        end\n",
    "        push!(array, paragraphs)\n",
    "    end\n",
    "    return array\n",
    "end\n",
    "\n",
    "array = separateIntoParagraphs(essays)\n",
    "\n",
    "# Questions 5, 6, 7, 8\n",
    "function editText(text)\n",
    "    editedText = lowercase(text)\n",
    "    editedText = replace(editedText, r\"\\(\\d+\\)\" => \"\")\n",
    "    editedText = replace(editedText, r\"\\d+\" => \"\")\n",
    "    editedText = replace(editedText, \"\\r\\n\" => \" \")\n",
    "    editedText = replace(editedText, r\"[,:;'-]\"=> \"\")\n",
    "    return editedText\n",
    "end\n",
    "\n",
    "function editParagraphs(array)\n",
    "    for i in eachindex(array)\n",
    "        for j in eachindex(array[i])\n",
    "            array[i][j] = editText(array[i][j])\n",
    "        end\n",
    "    end\n",
    "    return array\n",
    "end\n",
    "\n",
    "array = editParagraphs(array)\n",
    "\n",
    "# Question 9\n",
    "authorSet = [\"Hamilton\", \"Madison\", \"Jay\", \"Unknown\", \"All\"]\n",
    "\n",
    "function addParagraphsByAuthor(paragraphs, authors)\n",
    "    essaysByAuthor = [Array{String}[], Array{String}[], Array{String}[], Array{String}[], Array{String}[]]\n",
    "    for i in eachindex(authors)\n",
    "        if(cmp(authors[i], \"HAMILTON\") == 0)\n",
    "            hamilton = Array{String}(undef, 0)\n",
    "            for j in eachindex(paragraphs[i])\n",
    "                push!(hamilton, paragraphs[i][j])\n",
    "            end\n",
    "            push!(essaysByAuthor[1], hamilton)\n",
    "        elseif(cmp(authors[i], \"MADISON\") == 0)\n",
    "            madison = Array{String}(undef, 0)\n",
    "            for j in eachindex(paragraphs[i])\n",
    "                push!(madison, paragraphs[i][j])\n",
    "            end\n",
    "            push!(essaysByAuthor[2], madison)\n",
    "        elseif(cmp(authors[i], \"MADISON, WITH HAMILTON\") == 0)\n",
    "            hamilton = Array{String}(undef, 0)\n",
    "            madison = Array{String}(undef, 0)\n",
    "            for j in eachindex(paragraphs[i])\n",
    "                push!(hamilton, paragraphs[i][j])\n",
    "                push!(madison, paragraphs[i][j])\n",
    "            end\n",
    "            push!(essaysByAuthor[1], hamilton)\n",
    "            push!(essaysByAuthor[2], madison)\n",
    "        elseif(cmp(authors[i], \"JAY\") == 0)\n",
    "            jay = Array{String}(undef, 0)\n",
    "            for j in eachindex(paragraphs[i])\n",
    "                push!(jay, paragraphs[i][j])\n",
    "            end\n",
    "            push!(essaysByAuthor[3], jay)\n",
    "        else\n",
    "            unknown = Array{String}(undef, 0)\n",
    "            for j in eachindex(paragraphs[i])\n",
    "                push!(unknown, paragraphs[i][j])\n",
    "            end\n",
    "            push!(essaysByAuthor[4], unknown)\n",
    "        end\n",
    "    end\n",
    "    essaysByAuthor[5] = paragraphs\n",
    "    return essaysByAuthor\n",
    "end\n",
    "\n",
    "paragraphsByAuthor = addParagraphsByAuthor(array, authors)\n",
    "\n",
    "# Question 9a\n",
    "function avgWordsPerEssay(authorParagraphs)\n",
    "    wordCount = 0\n",
    "    for i in eachindex(authorParagraphs)\n",
    "        for j in eachindex(authorParagraphs[i])\n",
    "            wordCount += (count(\" \", authorParagraphs[i][j]) + 1)\n",
    "        end\n",
    "    end\n",
    "    return wordCount / length(authorParagraphs)\n",
    "end\n",
    "\n",
    "for i in 1:5\n",
    "    display(\"Number of words per essay by $(authorSet[i]): $(avgWordsPerEssay(paragraphsByAuthor[i]))\")\n",
    "end\n",
    "\n",
    "#Incomplete\n",
    "#=\n",
    "function avgWordLength(authorEssays)\n",
    "    wordCount = avgWordsPerEssay(authorEssays) * length(authorEssays)\n",
    "end\n",
    "=#"
   ]
  }
 ],
 "metadata": {
  "kernelspec": {
   "display_name": "Julia 1.8.5",
   "language": "julia",
   "name": "julia-1.8"
  },
  "language_info": {
   "file_extension": ".jl",
   "mimetype": "application/julia",
   "name": "julia",
   "version": "1.8.5"
  }
 },
 "nbformat": 4,
 "nbformat_minor": 5
}
