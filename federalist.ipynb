{
 "cells": [
  {
   "cell_type": "code",
   "execution_count": 21,
   "id": "74c32b87",
   "metadata": {},
   "outputs": [
    {
     "ename": "SystemError",
     "evalue": "SystemError: opening file \"D:/federalistpapers.txt\": No such file or directory",
     "output_type": "error",
     "traceback": [
      "SystemError: opening file \"D:/federalistpapers.txt\": No such file or directory\n",
      "\n",
      "Stacktrace:\n",
      " [1] systemerror(p::String, errno::Int32; extrainfo::Nothing)\n",
      "   @ Base .\\error.jl:176\n",
      " [2] #systemerror#80\n",
      "   @ .\\error.jl:175 [inlined]\n",
      " [3] systemerror\n",
      "   @ .\\error.jl:175 [inlined]\n",
      " [4] open(fname::String; lock::Bool, read::Nothing, write::Nothing, create::Nothing, truncate::Nothing, append::Nothing)\n",
      "   @ Base .\\iostream.jl:293\n",
      " [5] open\n",
      "   @ .\\iostream.jl:275 [inlined]\n",
      " [6] open(f::Base.var\"#387#388\"{String}, args::String; kwargs::Base.Pairs{Symbol, Union{}, Tuple{}, NamedTuple{(), Tuple{}}})\n",
      "   @ Base .\\io.jl:382\n",
      " [7] open\n",
      "   @ .\\io.jl:381 [inlined]\n",
      " [8] read(filename::String, #unused#::Type{String})\n",
      "   @ Base .\\io.jl:462\n",
      " [9] top-level scope\n",
      "   @ c:\\Users\\ADMIN\\OneDrive\\Documents\\GitHub\\csds133-s23-2\\federalist.ipynb:1"
     ]
    }
   ],
   "source": [
    "f= read(\"D:/federalistpapers.txt\", String)\n",
    "\n",
    "subEssay = String[]\n",
    "\n",
    "i = 1\n",
    "while i != nothing \n",
    "    next_occurrence_start = findnext(\"FEDERALIST No.\", f, i)\n",
    "    next_occurrence_end = findnext(\"PUBLIUS\", f, i)\n",
    "    println(SubString(f, next_occurrence_start[1], next_occurrence_end[2]))\n",
    "    if next_occurrence_start == nothing\n",
    "        break\n",
    "    end\n",
    "    i = next_occurrence_end[1] + 1\n",
    "end\n"
   ]
  },
  {
   "cell_type": "code",
   "execution_count": 139,
   "id": "277002a1",
   "metadata": {},
   "outputs": [
    {
     "data": {
      "text/plain": [
       "85-element Vector{String}:\n",
       " \"HAMILTON\"\n",
       " \"JAY\"\n",
       " \"JAY\"\n",
       " \"JAY\"\n",
       " \"JAY\"\n",
       " \"HAMILTON\"\n",
       " \"HAMILTON\"\n",
       " \"HAMILTON\"\n",
       " \"HAMILTON\"\n",
       " \"MADISON\"\n",
       " ⋮\n",
       " \"HAMILTON\"\n",
       " \"HAMILTON\"\n",
       " \"HAMILTON\"\n",
       " \"HAMILTON\"\n",
       " \"HAMILTON\"\n",
       " \"HAMILTON\"\n",
       " \"HAMILTON\"\n",
       " \"HAMILTON\"\n",
       " \"HAMILTON\""
      ]
     },
     "metadata": {},
     "output_type": "display_data"
    }
   ],
   "source": [
    "# TU PHAM\n",
    "# Questions 1, 2, 4\n",
    "text = read(\"C:/Users/ADMIN/OneDrive/Documents/GitHub/csds133-s23-2/federalistpapers.txt\", String)\n",
    "essays = split(text, r\"FEDERALIST No.\\ \\d+\")\n",
    "popfirst!(essays)\n",
    "authors = Array{String}(undef, length(essays))\n",
    "for i in eachindex(essays)\n",
    "    essayParts = split(essays[i], \"PUBLIUS\")\n",
    "    essayParts = split(essayParts[1], \"To the People of the State of New York\")\n",
    "    firstPart = split(essayParts[1], \"\\r\\n\\r\\n\")\n",
    "    authors[i] = replace(firstPart[end - 1], \"\\r\\n\" => \"\")\n",
    "    secondPart = essayParts[2]\n",
    "    essays[i] = string(\"FEDERALIST No. \", i, secondPart[2:end], \"PUBLIUS\")\n",
    "end\n",
    "\n",
    "# Question 3\n",
    "array = Array{String}[]\n",
    "for i in eachindex(essays)\n",
    "    paragraphs = split(essays[i], \"\\r\\n\\r\\n\")\n",
    "    for j in eachindex(paragraphs)\n",
    "        paragraphs[j] = replace(paragraphs[j], \"\\r\\n\" => \" \")\n",
    "    end\n",
    "    push!(array, paragraphs)\n",
    "end\n",
    "\n",
    "# Questions 5, 6, 7\n",
    "function editEssays(array)\n",
    "    for i in eachindex(array)\n",
    "        for j in eachindex(array[i])\n",
    "            array[i][j] = lowercase(array[i][j])\n",
    "            array[i][j] = replace(array[i][j], r\"\\(\\d+\\)\" => \"\")\n",
    "            array[i][j] = replace(array[i][j], r\"\\d+\" => \"\")\n",
    "        end\n",
    "    end\n",
    "    return array\n",
    "end\n",
    "editEssays(array)\n",
    "authors"
   ]
  }
 ],
 "metadata": {
  "kernelspec": {
   "display_name": "Julia 1.6.7",
   "language": "julia",
   "name": "julia-1.6"
  },
  "language_info": {
   "file_extension": ".jl",
   "mimetype": "application/julia",
   "name": "julia",
   "version": "1.6.7"
  }
 },
 "nbformat": 4,
 "nbformat_minor": 5
}
