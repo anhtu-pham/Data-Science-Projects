{
 "cells": [
  {
   "cell_type": "code",
   "execution_count": 3,
   "id": "74c32b87",
   "metadata": {},
   "outputs": [
    {
     "data": {
      "text/plain": [
       "IOStream(<file D:/federalistpapers.txt>)"
      ]
     },
     "metadata": {},
     "output_type": "display_data"
    }
   ],
   "source": [
    "open(\"D:/federalistpapers.txt\")\n"
   ]
  },
  {
   "cell_type": "code",
   "execution_count": null,
   "id": "277002a1",
   "metadata": {},
   "outputs": [],
   "source": [
    "open(\"C:\\Users/ADMIN/OneDrive/Documents/GitHub/csds133-s23-2/federalistpapers.txt\")\n"
   ]
  }
 ],
 "metadata": {
  "kernelspec": {
   "display_name": "Julia 1.6.7",
   "display_name": "Julia 1.8.5",
   "language": "julia",
   "name": "julia-1.6"
   "name": "julia-1.8"
  },
  "language_info": {
   "file_extension": ".jl",
   "mimetype": "application/julia",
   "name": "julia",
   "version": "1.6.7"
  }
 },
 "nbformat": 4,
 "nbformat_minor": 5
}
