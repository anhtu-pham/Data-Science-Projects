{
 "cells": [
  {
   "cell_type": "code",
   "execution_count": 21,
   "id": "74c32b87",
   "metadata": {},
   "outputs": [
    {
     "ename": "SystemError",
     "evalue": "SystemError: opening file \"D:/federalistpapers.txt\": No such file or directory",
     "output_type": "error",
     "traceback": [
      "SystemError: opening file \"D:/federalistpapers.txt\": No such file or directory\n",
      "\n",
      "Stacktrace:\n",
      " [1] systemerror(p::String, errno::Int32; extrainfo::Nothing)\n",
      "   @ Base .\\error.jl:176\n",
      " [2] #systemerror#80\n",
      "   @ .\\error.jl:175 [inlined]\n",
      " [3] systemerror\n",
      "   @ .\\error.jl:175 [inlined]\n",
      " [4] open(fname::String; lock::Bool, read::Nothing, write::Nothing, create::Nothing, truncate::Nothing, append::Nothing)\n",
      "   @ Base .\\iostream.jl:293\n",
      " [5] open\n",
      "   @ .\\iostream.jl:275 [inlined]\n",
      " [6] open(f::Base.var\"#387#388\"{String}, args::String; kwargs::Base.Pairs{Symbol, Union{}, Tuple{}, NamedTuple{(), Tuple{}}})\n",
      "   @ Base .\\io.jl:382\n",
      " [7] open\n",
      "   @ .\\io.jl:381 [inlined]\n",
      " [8] read(filename::String, #unused#::Type{String})\n",
      "   @ Base .\\io.jl:462\n",
      " [9] top-level scope\n",
      "   @ c:\\Users\\ADMIN\\OneDrive\\Documents\\GitHub\\csds133-s23-2\\federalist.ipynb:1"
     ]
    }
   ],
   "source": [
    "f= read(\"D:/federalistpapers.txt\", String)\n",
    "\n",
    "subEssay = String[]\n",
    "\n",
    "i = 1\n",
    "while i != nothing \n",
    "    next_occurrence_start = findnext(\"FEDERALIST No.\", f, i)\n",
    "    next_occurrence_end = findnext(\"PUBLIUS\", f, i)\n",
    "    println(SubString(f, next_occurrence_start[1], next_occurrence_end[2]))\n",
    "    if next_occurrence_start == nothing\n",
    "        break\n",
    "    end\n",
    "    i = next_occurrence_end[1] + 1\n",
    "end\n"
   ]
  },
  {
   "cell_type": "code",
   "execution_count": 40,
   "id": "277002a1",
   "metadata": {},
   "outputs": [
    {
     "data": {
      "text/plain": [
       "85-element Vector{SubString{String}}:\n",
       " \"FEDERALIST No. 1\\r\\n\\r\\nGeneral In\" ⋯ 9552 bytes ⋯ \"of my next address.\\r\\n\\r\\nPUBLIUS\"\n",
       " \"FEDERALIST No. 2\\r\\n\\r\\nConcerning\" ⋯ 10331 bytes ⋯ \"ALL MY GREATNESS.\\\"\\r\\n\\r\\nPUBLIUS\"\n",
       " \"FEDERALIST No. 3\\r\\n\\r\\nThe Same S\" ⋯ 8995 bytes ⋯ \"er POWERFUL nation?\\r\\n\\r\\nPUBLIUS\"\n",
       " \"FEDERALIST No. 4\\r\\n\\r\\nThe Same S\" ⋯ 9977 bytes ⋯ \"against themselves.\\r\\n\\r\\nPUBLIUS\"\n",
       " \"FEDERALIST No. 5\\r\\n\\r\\nThe Same S\" ⋯ 8498 bytes ⋯ \"of foreign nations.\\r\\n\\r\\nPUBLIUS\"\n",
       " \"FEDERALIST No. 6\\r\\n\\r\\nConcerning\" ⋯ 13358 bytes ⋯ \"ggests the REMEDY.\\r\\n\\r\\nPUBLIUS\"\n",
       " \"FEDERALIST No. 7\\r\\n\\r\\nThe Same S\" ⋯ 14135 bytes ⋯ \"es or fears us.(2)\\r\\n\\r\\nPUBLIUS\"\n",
       " \"FEDERALIST No. 8\\r\\n\\r\\nThe Conseq\" ⋯ 12418 bytes ⋯ \"n, and formidable.\\r\\n\\r\\nPUBLIUS\"\n",
       " \"FEDERALIST No. 9\\r\\n\\r\\nThe Union \" ⋯ 12309 bytes ⋯ \" erroneous theory.\\r\\n\\r\\nPUBLIUS\"\n",
       " \"FEDERALIST No. 10\\r\\n\\r\\nThe Same \" ⋯ 18352 bytes ⋯ \"er of Federalists.\\r\\n\\r\\nPUBLIUS\"\n",
       " ⋮\n",
       " \"FEDERALIST No. 77\\r\\n\\r\\nThe Appoi\" ⋯ 11988 bytes ⋯ \"reasonable people?\\r\\n\\r\\nPUBLIUS\"\n",
       " \"FEDERALIST No. 78\\r\\n\\r\\nThe Judic\" ⋯ 18378 bytes ⋯ \"f the institution.\\r\\n\\r\\nPUBLIUS\"\n",
       " \"FEDERALIST No. 79\\r\\n\\r\\nThe Judic\" ⋯ 6197 bytes ⋯ \"uperannuated bench.\\r\\n\\r\\nPUBLIUS\"\n",
       " \"FEDERALIST No. 80\\r\\n\\r\\nThe Power\" ⋯ 15091 bytes ⋯ \"eneral advantages.\\r\\n\\r\\nPUBLIUS\"\n",
       " \"FEDERALIST No. 81\\r\\n\\r\\nThe Judic\" ⋯ 22581 bytes ⋯ \" from that source.\\r\\n\\r\\nPUBLIUS\"\n",
       " \"FEDERALIST No. 82\\r\\n\\r\\nThe Judic\" ⋯ 9334 bytes ⋯ \"ourts of the Union.\\r\\n\\r\\nPUBLIUS\"\n",
       " \"FEDERALIST No. 83\\r\\n\\r\\nThe Judic\" ⋯ 33975 bytes ⋯ \"vision for either.\\r\\n\\r\\nPUBLIUS\"\n",
       " \"FEDERALIST No. 84\\r\\n\\r\\nCertain G\" ⋯ 23529 bytes ⋯ \"oses of the Union.\\r\\n\\r\\nPUBLIUS\"\n",
       " \"FEDERALIST No. 85\\r\\n\\r\\nConcludin\" ⋯ 15987 bytes ⋯ \"ry possible shape.\\r\\n\\r\\nPUBLIUS\""
      ]
     },
     "metadata": {},
     "output_type": "display_data"
    }
   ],
   "source": [
    "# TU PHAM\n",
    "text = read(\"C:/Users/ADMIN/OneDrive/Documents/GitHub/csds133-s23-2/federalistpapers.txt\", String)\n",
    "essays = split(text, \"FEDERALIST No.\")\n",
    "popfirst!(essays)\n",
    "for i in eachindex(essays)\n",
    "    essays[i] = string(\"FEDERALIST No.\", essays[i])\n",
    "    essay = split(essays[i], \"PUBLIUS\")\n",
    "    essays[i] = string(essay[1], \"PUBLIUS\")\n",
    "end\n",
    "essays"
   ]
  }
 ],
 "metadata": {
  "kernelspec": {
   "display_name": "Julia 1.6.7",
   "language": "julia",
   "name": "julia-1.6"
  },
  "language_info": {
   "file_extension": ".jl",
   "mimetype": "application/julia",
   "name": "julia",
   "version": "1.6.7"
  }
 },
 "nbformat": 4,
 "nbformat_minor": 5
}
