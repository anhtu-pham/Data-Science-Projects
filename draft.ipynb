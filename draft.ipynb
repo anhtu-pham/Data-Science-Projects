{
 "cells": [
  {
   "cell_type": "code",
   "execution_count": null,
   "metadata": {
    "vscode": {
     "languageId": "julia"
    }
   },
   "outputs": [],
   "source": [
    "# linreg.jl\n",
    "# Question 1\n",
    "# IMPORT LinearAlgebra PACKAGE LATER    \n",
    "function linreg(x, y, lambda)\n",
    "    z = x' * x + lambda * I  # the regularized matrix1\n",
    "    lin_reg_param = inv(z) * x'\n",
    "    return lin_reg_param\n",
    "end\n",
    "\n",
    "\n",
    "\n"
   ]
  }
 ],
 "metadata": {
  "language_info": {
   "name": "python"
  },
  "orig_nbformat": 4
 },
 "nbformat": 4,
 "nbformat_minor": 2
}
