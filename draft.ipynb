{
 "cells": [
  {
   "cell_type": "code",
   "execution_count": null,
   "metadata": {},
   "outputs": [],
   "source": [
    "# linreg.jl\n",
    "# Question 1\n",
    "\n"
   ]
  },
  {
   "cell_type": "code",
   "execution_count": 2,
   "metadata": {},
   "outputs": [],
   "source": [
    "using CSV\n",
    "using DataFrames\n",
    "using Statistics\n",
    "using LinearAlgebra\n",
    "using Dates"
   ]
  },
  {
   "cell_type": "code",
   "execution_count": 3,
   "metadata": {},
   "outputs": [
    {
     "data": {
      "text/html": [
       "<div><div style = \"float: left;\"><span>227×6 DataFrame</span></div><div style = \"float: right;\"><span style = \"font-style: italic;\">202 rows omitted</span></div><div style = \"clear: both;\"></div></div><div class = \"data-frame\" style = \"overflow-x: scroll;\"><table class = \"data-frame\" style = \"margin-bottom: 6px;\"><thead><tr class = \"header\"><th class = \"rowNumber\" style = \"font-weight: bold; text-align: right;\">Row</th><th style = \"text-align: left;\">Quarter</th><th style = \"text-align: left;\"> Percent Change Consumption</th><th style = \"text-align: left;\">Percent Change Income</th><th style = \"text-align: left;\"> Percent Change Production</th><th style = \"text-align: left;\"> Percent Change Savings</th><th style = \"text-align: left;\"> Change Unemployment</th></tr><tr class = \"subheader headerLastRow\"><th class = \"rowNumber\" style = \"font-weight: bold; text-align: right;\"></th><th title = \"String7\" style = \"text-align: left;\">String7</th><th title = \"Float64\" style = \"text-align: left;\">Float64</th><th title = \"Float64\" style = \"text-align: left;\">Float64</th><th title = \"Float64\" style = \"text-align: left;\">Float64</th><th title = \"Float64\" style = \"text-align: left;\">Float64</th><th title = \"Float64\" style = \"text-align: left;\">Float64</th></tr></thead><tbody><tr><td class = \"rowNumber\" style = \"font-weight: bold; text-align: right;\">1</td><td style = \"text-align: left;\">1960Q1</td><td style = \"text-align: right;\">0.947824</td><td style = \"text-align: right;\">1.1825</td><td style = \"text-align: right;\">5.85456</td><td style = \"text-align: right;\">3.18329</td><td style = \"text-align: right;\">0.1</td></tr><tr><td class = \"rowNumber\" style = \"font-weight: bold; text-align: right;\">2</td><td style = \"text-align: left;\">1960Q2</td><td style = \"text-align: right;\">1.26048</td><td style = \"text-align: right;\">0.625615</td><td style = \"text-align: right;\">-2.19366</td><td style = \"text-align: right;\">-4.81376</td><td style = \"text-align: right;\">0.0</td></tr><tr><td class = \"rowNumber\" style = \"font-weight: bold; text-align: right;\">3</td><td style = \"text-align: left;\">1960Q3</td><td style = \"text-align: right;\">-0.400781</td><td style = \"text-align: right;\">0.176703</td><td style = \"text-align: right;\">-1.65811</td><td style = \"text-align: right;\">5.3346</td><td style = \"text-align: right;\">0.1</td></tr><tr><td class = \"rowNumber\" style = \"font-weight: bold; text-align: right;\">4</td><td style = \"text-align: left;\">1960Q4</td><td style = \"text-align: right;\">0.126736</td><td style = \"text-align: right;\">-0.0418225</td><td style = \"text-align: right;\">-2.44019</td><td style = \"text-align: right;\">-1.30721</td><td style = \"text-align: right;\">1.1</td></tr><tr><td class = \"rowNumber\" style = \"font-weight: bold; text-align: right;\">5</td><td style = \"text-align: left;\">1961Q1</td><td style = \"text-align: right;\">-0.0263901</td><td style = \"text-align: right;\">0.966727</td><td style = \"text-align: right;\">-1.52552</td><td style = \"text-align: right;\">9.2915</td><td style = \"text-align: right;\">0.3</td></tr><tr><td class = \"rowNumber\" style = \"font-weight: bold; text-align: right;\">6</td><td style = \"text-align: left;\">1961Q2</td><td style = \"text-align: right;\">1.47763</td><td style = \"text-align: right;\">1.51217</td><td style = \"text-align: right;\">3.88804</td><td style = \"text-align: right;\">2.13531</td><td style = \"text-align: right;\">0.0</td></tr><tr><td class = \"rowNumber\" style = \"font-weight: bold; text-align: right;\">7</td><td style = \"text-align: left;\">1961Q3</td><td style = \"text-align: right;\">0.48773</td><td style = \"text-align: right;\">1.31975</td><td style = \"text-align: right;\">3.14082</td><td style = \"text-align: right;\">8.11255</td><td style = \"text-align: right;\">-0.2</td></tr><tr><td class = \"rowNumber\" style = \"font-weight: bold; text-align: right;\">8</td><td style = \"text-align: left;\">1961Q4</td><td style = \"text-align: right;\">1.98331</td><td style = \"text-align: right;\">1.91022</td><td style = \"text-align: right;\">3.44642</td><td style = \"text-align: right;\">1.50379</td><td style = \"text-align: right;\">-0.7</td></tr><tr><td class = \"rowNumber\" style = \"font-weight: bold; text-align: right;\">9</td><td style = \"text-align: left;\">1962Q1</td><td style = \"text-align: right;\">1.05997</td><td style = \"text-align: right;\">0.952471</td><td style = \"text-align: right;\">1.48278</td><td style = \"text-align: right;\">0.637622</td><td style = \"text-align: right;\">-0.4</td></tr><tr><td class = \"rowNumber\" style = \"font-weight: bold; text-align: right;\">10</td><td style = \"text-align: left;\">1962Q2</td><td style = \"text-align: right;\">1.21764</td><td style = \"text-align: right;\">1.04681</td><td style = \"text-align: right;\">0.964361</td><td style = \"text-align: right;\">0.0</td><td style = \"text-align: right;\">-0.1</td></tr><tr><td class = \"rowNumber\" style = \"font-weight: bold; text-align: right;\">11</td><td style = \"text-align: left;\">1962Q3</td><td style = \"text-align: right;\">0.810161</td><td style = \"text-align: right;\">0.519326</td><td style = \"text-align: right;\">1.06093</td><td style = \"text-align: right;\">-1.92519</td><td style = \"text-align: right;\">0.1</td></tr><tr><td class = \"rowNumber\" style = \"font-weight: bold; text-align: right;\">12</td><td style = \"text-align: left;\">1962Q4</td><td style = \"text-align: right;\">1.40703</td><td style = \"text-align: right;\">0.877984</td><td style = \"text-align: right;\">0.840711</td><td style = \"text-align: right;\">-3.29338</td><td style = \"text-align: right;\">-0.1</td></tr><tr><td class = \"rowNumber\" style = \"font-weight: bold; text-align: right;\">13</td><td style = \"text-align: left;\">1963Q1</td><td style = \"text-align: right;\">0.672068</td><td style = \"text-align: right;\">0.853514</td><td style = \"text-align: right;\">1.8316</td><td style = \"text-align: right;\">2.2076</td><td style = \"text-align: right;\">0.2</td></tr><tr><td style = \"text-align: right;\">&vellip;</td><td style = \"text-align: right;\">&vellip;</td><td style = \"text-align: right;\">&vellip;</td><td style = \"text-align: right;\">&vellip;</td><td style = \"text-align: right;\">&vellip;</td><td style = \"text-align: right;\">&vellip;</td><td style = \"text-align: right;\">&vellip;</td></tr><tr><td class = \"rowNumber\" style = \"font-weight: bold; text-align: right;\">216</td><td style = \"text-align: left;\">2013Q4</td><td style = \"text-align: right;\">0.839174</td><td style = \"text-align: right;\">0.214949</td><td style = \"text-align: right;\">0.792087</td><td style = \"text-align: right;\">-11.2766</td><td style = \"text-align: right;\">-0.5</td></tr><tr><td class = \"rowNumber\" style = \"font-weight: bold; text-align: right;\">217</td><td style = \"text-align: left;\">2014Q1</td><td style = \"text-align: right;\">0.473451</td><td style = \"text-align: right;\">1.10369</td><td style = \"text-align: right;\">0.547092</td><td style = \"text-align: right;\">13.5202</td><td style = \"text-align: right;\">0.0</td></tr><tr><td class = \"rowNumber\" style = \"font-weight: bold; text-align: right;\">218</td><td style = \"text-align: left;\">2014Q2</td><td style = \"text-align: right;\">0.933757</td><td style = \"text-align: right;\">1.2939</td><td style = \"text-align: right;\">1.33801</td><td style = \"text-align: right;\">8.24405</td><td style = \"text-align: right;\">-0.6</td></tr><tr><td class = \"rowNumber\" style = \"font-weight: bold; text-align: right;\">219</td><td style = \"text-align: left;\">2014Q3</td><td style = \"text-align: right;\">0.916872</td><td style = \"text-align: right;\">0.998534</td><td style = \"text-align: right;\">0.623527</td><td style = \"text-align: right;\">2.46195</td><td style = \"text-align: right;\">-0.2</td></tr><tr><td class = \"rowNumber\" style = \"font-weight: bold; text-align: right;\">220</td><td style = \"text-align: left;\">2014Q4</td><td style = \"text-align: right;\">1.12533</td><td style = \"text-align: right;\">1.04642</td><td style = \"text-align: right;\">0.903554</td><td style = \"text-align: right;\">-1.51305</td><td style = \"text-align: right;\">-0.3</td></tr><tr><td class = \"rowNumber\" style = \"font-weight: bold; text-align: right;\">221</td><td style = \"text-align: left;\">2015Q1</td><td style = \"text-align: right;\">0.59624</td><td style = \"text-align: right;\">0.490407</td><td style = \"text-align: right;\">-0.467109</td><td style = \"text-align: right;\">-0.7584</td><td style = \"text-align: right;\">-0.2</td></tr><tr><td class = \"rowNumber\" style = \"font-weight: bold; text-align: right;\">222</td><td style = \"text-align: left;\">2015Q2</td><td style = \"text-align: right;\">0.708144</td><td style = \"text-align: right;\">0.954959</td><td style = \"text-align: right;\">-0.697022</td><td style = \"text-align: right;\">5.02392</td><td style = \"text-align: right;\">-0.1</td></tr><tr><td class = \"rowNumber\" style = \"font-weight: bold; text-align: right;\">223</td><td style = \"text-align: left;\">2015Q3</td><td style = \"text-align: right;\">0.66497</td><td style = \"text-align: right;\">0.801663</td><td style = \"text-align: right;\">0.380606</td><td style = \"text-align: right;\">3.18093</td><td style = \"text-align: right;\">-0.3</td></tr><tr><td class = \"rowNumber\" style = \"font-weight: bold; text-align: right;\">224</td><td style = \"text-align: left;\">2015Q4</td><td style = \"text-align: right;\">0.56168</td><td style = \"text-align: right;\">0.740063</td><td style = \"text-align: right;\">-0.845546</td><td style = \"text-align: right;\">3.48279</td><td style = \"text-align: right;\">0.0</td></tr><tr><td class = \"rowNumber\" style = \"font-weight: bold; text-align: right;\">225</td><td style = \"text-align: left;\">2016Q1</td><td style = \"text-align: right;\">0.404682</td><td style = \"text-align: right;\">0.519025</td><td style = \"text-align: right;\">-0.41793</td><td style = \"text-align: right;\">2.23653</td><td style = \"text-align: right;\">0.0</td></tr><tr><td class = \"rowNumber\" style = \"font-weight: bold; text-align: right;\">226</td><td style = \"text-align: left;\">2016Q2</td><td style = \"text-align: right;\">1.04771</td><td style = \"text-align: right;\">0.723721</td><td style = \"text-align: right;\">-0.203319</td><td style = \"text-align: right;\">-2.7215</td><td style = \"text-align: right;\">-0.1</td></tr><tr><td class = \"rowNumber\" style = \"font-weight: bold; text-align: right;\">227</td><td style = \"text-align: left;\">2016Q3</td><td style = \"text-align: right;\">0.729598</td><td style = \"text-align: right;\">0.644701</td><td style = \"text-align: right;\">0.474918</td><td style = \"text-align: right;\">-0.572858</td><td style = \"text-align: right;\">0.0</td></tr></tbody></table></div>"
      ],
      "text/latex": [
       "\\begin{tabular}{r|ccccc}\n",
       "\t& Quarter &  Percent Change Consumption & Percent Change Income &  Percent Change Production & \\\\\n",
       "\t\\hline\n",
       "\t& String7 & Float64 & Float64 & Float64 & \\\\\n",
       "\t\\hline\n",
       "\t1 & 1960Q1 & 0.947824 & 1.1825 & 5.85456 & $\\dots$ \\\\\n",
       "\t2 & 1960Q2 & 1.26048 & 0.625615 & -2.19366 & $\\dots$ \\\\\n",
       "\t3 & 1960Q3 & -0.400781 & 0.176703 & -1.65811 & $\\dots$ \\\\\n",
       "\t4 & 1960Q4 & 0.126736 & -0.0418225 & -2.44019 & $\\dots$ \\\\\n",
       "\t5 & 1961Q1 & -0.0263901 & 0.966727 & -1.52552 & $\\dots$ \\\\\n",
       "\t6 & 1961Q2 & 1.47763 & 1.51217 & 3.88804 & $\\dots$ \\\\\n",
       "\t7 & 1961Q3 & 0.48773 & 1.31975 & 3.14082 & $\\dots$ \\\\\n",
       "\t8 & 1961Q4 & 1.98331 & 1.91022 & 3.44642 & $\\dots$ \\\\\n",
       "\t9 & 1962Q1 & 1.05997 & 0.952471 & 1.48278 & $\\dots$ \\\\\n",
       "\t10 & 1962Q2 & 1.21764 & 1.04681 & 0.964361 & $\\dots$ \\\\\n",
       "\t11 & 1962Q3 & 0.810161 & 0.519326 & 1.06093 & $\\dots$ \\\\\n",
       "\t12 & 1962Q4 & 1.40703 & 0.877984 & 0.840711 & $\\dots$ \\\\\n",
       "\t13 & 1963Q1 & 0.672068 & 0.853514 & 1.8316 & $\\dots$ \\\\\n",
       "\t14 & 1963Q2 & 0.954375 & 0.925525 & 2.60275 & $\\dots$ \\\\\n",
       "\t15 & 1963Q3 & 1.35586 & 1.09862 & 0.665059 & $\\dots$ \\\\\n",
       "\t16 & 1963Q4 & 0.829997 & 1.61953 & 1.67627 & $\\dots$ \\\\\n",
       "\t17 & 1964Q1 & 1.95151 & 1.94446 & 1.35981 & $\\dots$ \\\\\n",
       "\t18 & 1964Q2 & 1.74328 & 2.65018 & 2.32029 & $\\dots$ \\\\\n",
       "\t19 & 1964Q3 & 1.81953 & 1.28199 & 1.58954 & $\\dots$ \\\\\n",
       "\t20 & 1964Q4 & 0.282436 & 1.1297 & 1.50354 & $\\dots$ \\\\\n",
       "\t21 & 1965Q1 & 2.20536 & 1.16943 & 3.70758 & $\\dots$ \\\\\n",
       "\t22 & 1965Q2 & 1.10176 & 1.12634 & 2.29213 & $\\dots$ \\\\\n",
       "\t23 & 1965Q3 & 1.70778 & 2.70582 & 2.07261 & $\\dots$ \\\\\n",
       "\t24 & 1965Q4 & 2.76946 & 1.9912 & 2.00303 & $\\dots$ \\\\\n",
       "\t$\\dots$ & $\\dots$ & $\\dots$ & $\\dots$ & $\\dots$ &  \\\\\n",
       "\\end{tabular}\n"
      ],
      "text/plain": [
       "\u001b[1m227×6 DataFrame\u001b[0m\n",
       "\u001b[1m Row \u001b[0m│\u001b[1m Quarter \u001b[0m\u001b[1m  Percent Change Consumption \u001b[0m\u001b[1m Percent Change Income \u001b[0m\u001b[1m  Percent C\u001b[0m ⋯\n",
       "     │\u001b[90m String7 \u001b[0m\u001b[90m Float64                     \u001b[0m\u001b[90m Float64               \u001b[0m\u001b[90m Float64   \u001b[0m ⋯\n",
       "─────┼──────────────────────────────────────────────────────────────────────────\n",
       "   1 │ 1960Q1                     0.947824               1.1825                ⋯\n",
       "   2 │ 1960Q2                     1.26048                0.625615\n",
       "   3 │ 1960Q3                    -0.400781               0.176703\n",
       "   4 │ 1960Q4                     0.126736              -0.0418225\n",
       "   5 │ 1961Q1                    -0.0263901              0.966727              ⋯\n",
       "   6 │ 1961Q2                     1.47763                1.51217\n",
       "   7 │ 1961Q3                     0.48773                1.31975\n",
       "   8 │ 1961Q4                     1.98331                1.91022\n",
       "  ⋮  │    ⋮                  ⋮                         ⋮                       ⋱\n",
       " 221 │ 2015Q1                     0.59624                0.490407              ⋯\n",
       " 222 │ 2015Q2                     0.708144               0.954959\n",
       " 223 │ 2015Q3                     0.66497                0.801663\n",
       " 224 │ 2015Q4                     0.56168                0.740063\n",
       " 225 │ 2016Q1                     0.404682               0.519025              ⋯\n",
       " 226 │ 2016Q2                     1.04771                0.723721\n",
       " 227 │ 2016Q3                     0.729598               0.644701\n",
       "\u001b[36m                                                  3 columns and 212 rows omitted\u001b[0m"
      ]
     },
     "metadata": {},
     "output_type": "display_data"
    }
   ],
   "source": [
    "# Part 2, q123, Minh\n",
    "filepath = \"./usconsumption.csv\"\n",
    "df = CSV.read(filepath, DataFrame, dateformat=\"dd-mm-yyyy\")"
   ]
  },
  {
   "cell_type": "code",
   "execution_count": null,
   "metadata": {},
   "outputs": [],
   "source": []
  },
  {
   "cell_type": "code",
   "execution_count": null,
   "metadata": {},
   "outputs": [],
   "source": []
  },
  {
   "cell_type": "code",
   "execution_count": null,
   "metadata": {},
   "outputs": [],
   "source": []
  }
 ],
 "metadata": {
  "kernelspec": {
   "display_name": "Julia 1.8.5",
   "language": "julia",
   "name": "julia-1.8"
  },
  "language_info": {
   "file_extension": ".jl",
   "mimetype": "application/julia",
   "name": "julia",
   "version": "1.8.5"
  },
  "orig_nbformat": 4
 },
 "nbformat": 4,
 "nbformat_minor": 2
}
