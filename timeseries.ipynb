{
 "cells": [
  {
   "cell_type": "code",
   "execution_count": null,
   "metadata": {},
   "outputs": [],
   "source": [
    "using DataFrames\n",
    "using CSV\n",
    "using LinearAlgebra\n",
    "using Plots\n",
    "using Statistics"
   ]
  },
  {
   "cell_type": "code",
   "execution_count": null,
   "metadata": {},
   "outputs": [],
   "source": [
    "#Q1, Minh\n",
    "function linreg(x, y, lambda)\n",
    "    m, n = size(x)\n",
    "    z = x' * x + lambda * Matrix(I, n, n)  # the regularized matrix1\n",
    "    lin_reg_param = inv(z) * x' * y\n",
    "    return lin_reg_param\n",
    "end\n"
   ]
  },
  {
   "cell_type": "code",
   "execution_count": null,
   "metadata": {},
   "outputs": [],
   "source": [
    "# Tu Pham\n",
    "# Questions 2, 3 (linreg)\n",
    "# Function to calculate predicted responses\n",
    "function predict(linregparam, x)\n",
    "    predicted_responses = x * linregparam\n",
    "    return predicted_responses\n",
    "end\n",
    "\n",
    "# Function to calculate R^2\n",
    "function rsq(predicted_responses, true_responses, mean_prediction)\n",
    "    predictive_model_error = 0\n",
    "    for i in eachindex(true_responses)\n",
    "        predictive_model_error += ((true_responses[i] - predicted_responses[i]) ^ 2)\n",
    "    end\n",
    "    baseline_model_error = 0\n",
    "    for i in eachindex(true_responses)\n",
    "        baseline_model_error += ((true_responses[i] - mean_prediction) ^ 2)\n",
    "    end\n",
    "    r_squared = 1 - (predictive_model_error / baseline_model_error)\n",
    "    return r_squared\n",
    "end"
   ]
  },
  {
   "cell_type": "code",
   "execution_count": null,
   "metadata": {},
   "outputs": [],
   "source": [
    "path = \"usconsumption.csv\"\n",
    "df = CSV.read(path, DataFrame)"
   ]
  },
  {
   "cell_type": "code",
   "execution_count": null,
   "metadata": {},
   "outputs": [],
   "source": [
    "# Part 2, q123, Minh\n",
    "\n",
    "# Q1 \n",
    "filepath = \"./usconsumption.csv\"\n",
    "df = CSV.read(filepath, DataFrame)\n",
    "df[!, :Intercept] = ones(size(df, 1)) # create an Intercept column and fill it with 1s.\n",
    "\n",
    "print(df)"
   ]
  },
  {
   "cell_type": "code",
   "execution_count": null,
   "metadata": {},
   "outputs": [],
   "source": [
    "# Q2\n",
    "x = df[:, \"Quarter\"]\n",
    "rpce = df[:, \" Percent Change Consumption\"]\n",
    "rpdi = df[:, \"Percent Change Income\"]\n",
    "\n",
    "plot(x, rpce, xlabel=\"Quarter\", legend=true, label=\"RPCE\")\n",
    "\n",
    "# Q3\n",
    "plot!(x, rpdi, xlabel=\"Quarter\", legend=true, label=\"RPDI\")\n",
    "ylabel!(\"Rate of Change\")"
   ]
  },
  {
   "cell_type": "code",
   "execution_count": null,
   "metadata": {},
   "outputs": [],
   "source": [
    "# Matt Le\n",
    "# Code to prepare for 4, 5 (timeseries)\n",
    "time_vector = df[:, \"Quarter\"]\n",
    "real_RPCE = df[:, \" Percent Change Consumption\"]\n",
    "real_RPDI = df[:, \"Percent Change Income\"]\n",
    "intercept = df[:, \"Intercept\"]\n",
    "\n",
    "\n",
    "RPDI_intercept_features = hcat(real_RPDI, intercept)\n",
    "linregparam_with_RPDI_intercept = linreg(RPDI_intercept_features, real_RPCE , 0)\n",
    "\n",
    "println(\"Weight for RPDI \", linregparam_with_RPDI_intercept[1])\n",
    "println(\"Intercept \", linregparam_with_RPDI_intercept[2])\n",
    "\n",
    "estimated_RPCE = predict(linregparam_with_RPDI_intercept, RPDI_intercept_features)\n",
    "println(\"R squared is: \", rsq(estimated_RPCE, real_RPCE, mean(real_RPCE)))\n"
   ]
  },
  {
   "cell_type": "code",
   "execution_count": null,
   "metadata": {},
   "outputs": [],
   "source": [
    "# Tu Pham\n",
    "# Question 6 (timeseries)\n",
    "# Plot RPCE and estimated RPCE against time\n",
    "function plot_RPCE(real_RPCE, estimated_RPCE, time_vector)\n",
    "    plot(time_vector, real_RPCE, seriestype=:scatter, label=\"True response RPCE\")\n",
    "    plot!(time_vector, estimated_RPCE, label=\"Estimated RPCE\")\n",
    "    xlabel!(\"Time\")\n",
    "    ylabel!(\"RPCE value\")\n",
    "    title!(\"RPCE and estimated RPCE against time\")\n",
    "end\n",
    "plot_RPCE(real_RPCE, estimated_RPCE, time_vector)"
   ]
  },
  {
   "cell_type": "code",
   "execution_count": null,
   "metadata": {},
   "outputs": [],
   "source": [
    "#Q7, Minh\n",
    "\n",
    "# Building a matrix of features from all other features\n",
    "mat = Matrix(df[:, 3:7])\n",
    "y = (df[:, 2])\n",
    "# println(size(mat))\n",
    "\n",
    "result = linreg(mat, y, 0)\n",
    "\n",
    "# Printing result\n",
    "# ? Which one will go first?\n",
    "println(\"Weight for RPDI: $(result[1])\")\n",
    "println(\"Weight for IP: $(result[2])\")\n",
    "println(\"Weight for PS: $(result[3])\")\n",
    "println(\"Weight for UR: $(result[4])\")\n",
    "println(\"Intercept: $(result[5])\")\n"
   ]
  },
  {
   "cell_type": "code",
   "execution_count": null,
   "metadata": {},
   "outputs": [],
   "source": [
    "#8, Matt\n",
    "estimated_RPCE = predict(result, mat)\n",
    "println(\"R squared is: \", rsq(estimated_RPCE, y, mean(y)))\n",
    "\n",
    "println(\"R squared is increased from .18 to .76, which means that this model predicts the data more accurately.\")\n",
    "\n",
    "\n"
   ]
  },
  {
   "cell_type": "code",
   "execution_count": null,
   "metadata": {},
   "outputs": [],
   "source": [
    "#11, Matt\n",
    "function getModelWithDifferentReg(lambda)\n",
    "    mat = Matrix(df[:, 3:7])\n",
    "    y = (df[:, 2])\n",
    "\n",
    "\n",
    "    result = linreg(mat, y, lambda)\n",
    "    estimated_RPCE = predict(result, mat)\n",
    "    println(\"R squared with regularization value \", lambda ,\" is : \", rsq(estimated_RPCE, y, mean(y)))\n",
    "\n",
    "end\n",
    "\n",
    "for lambda in [0, 0.001, 0.01, 0.1, 1]\n",
    "    getModelWithDifferentReg(lambda)\n",
    "end\n",
    "\n",
    "println(\"The models proposed little to none changes in values to each other\")"
   ]
  },
  {
   "cell_type": "code",
   "execution_count": null,
   "metadata": {},
   "outputs": [],
   "source": [
    "\n",
    "function getSequentialModel(i)\n",
    "    \n",
    "\n",
    "    features = Matrix(df[205:i,[3,4,5,6,7]])\n",
    "\n",
    "    real_RPCE = (df[205:i, 2])\n",
    "    estimated_RPCE = predict(result, features)\n",
    "    rsq(estimated_RPCE, real_RPCE, mean(real_RPCE))\n",
    "end\n",
    "\n",
    "\n",
    "for i in 205:227\n",
    "    println(\"The R squared from models build by quarters up to \", df[i, \"Quarter\"], \" is \", getSequentialModel(i))\n",
    "end"
   ]
  }
 ],
 "metadata": {
  "kernelspec": {
   "display_name": "Julia 1.6.7",
   "language": "julia",
   "name": "julia-1.6"
  },
  "language_info": {
   "file_extension": ".jl",
   "mimetype": "application/julia",
   "name": "julia",
   "version": "1.6.7"
  },
  "orig_nbformat": 4
 },
 "nbformat": 4,
 "nbformat_minor": 2
}
