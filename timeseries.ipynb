{
 "cells": [
  {
   "cell_type": "code",
   "execution_count": null,
   "metadata": {},
   "outputs": [],
   "source": [
    "using DataFrames\n",
    "using CSV\n",
    "using LinearAlgebra\n",
    "using Plots\n",
    "using Statistics"
   ]
  },
  {
   "cell_type": "code",
   "execution_count": null,
   "metadata": {},
   "outputs": [],
   "source": [
    "#Q1, Minh\n",
    "function linreg(x, y, lambda)\n",
    "    m, n = size(x)\n",
    "    z = x' * x + lambda * Matrix(I, n, n)  # the regularized matrix1\n",
    "    lin_reg_param = inv(z) * x' * y\n",
    "    return lin_reg_param\n",
    "end\n"
   ]
  },
  {
   "cell_type": "code",
   "execution_count": null,
   "metadata": {},
   "outputs": [],
   "source": [
    "# Tu Pham\n",
    "# Questions 2, 3 (linreg)\n",
    "# Function to calculate predicted responses\n",
    "function predict(linregparam, x)\n",
    "    predicted_responses = x * linregparam\n",
    "    return predicted_responses\n",
    "end\n",
    "\n",
    "# Function to calculate R^2\n",
    "function rsq(predicted_responses, true_responses, mean_prediction)\n",
    "    predictive_model_error = 0\n",
    "    for i in eachindex(true_responses)\n",
    "        predictive_model_error += ((true_responses[i] - predicted_responses[i]) ^ 2)\n",
    "    end\n",
    "    baseline_model_error = 0\n",
    "    for i in eachindex(true_responses)\n",
    "        baseline_model_error += ((true_responses[i] - mean_prediction) ^ 2)\n",
    "    end\n",
    "    r_squared = 1 - (predictive_model_error / baseline_model_error)\n",
    "    return r_squared\n",
    "end"
   ]
  },
  {
   "cell_type": "code",
   "execution_count": null,
   "metadata": {},
   "outputs": [],
   "source": [
    "path = \"usconsumption.csv\"\n",
    "df = CSV.read(path, DataFrame)"
   ]
  },
  {
   "cell_type": "code",
   "execution_count": null,
   "metadata": {},
   "outputs": [],
   "source": [
    "# Part 2, q123, Minh\n",
    "\n",
    "# Q1 \n",
    "filepath = \"./usconsumption.csv\"\n",
    "df = CSV.read(filepath, DataFrame)\n",
    "df[!, :Intercept] = ones(size(df, 1)) # create an Intercept column and fill it with 1s.\n",
    "\n",
    "print(df)"
   ]
  },
  {
   "cell_type": "code",
   "execution_count": null,
   "metadata": {},
   "outputs": [],
   "source": [
    "# Q2\n",
    "x = df[:, \"Quarter\"]\n",
    "rpce = df[:, \" Percent Change Consumption\"]\n",
    "rpdi = df[:, \"Percent Change Income\"]\n",
    "\n",
    "plot(x, rpce, xlabel=\"Quarter\", legend=true, label=\"RPCE\")\n",
    "\n",
    "# Q3\n",
    "plot!(x, rpdi, xlabel=\"Quarter\", legend=true, label=\"RPDI\")\n",
    "ylabel!(\"Rate of Change\")"
   ]
  },
  {
   "cell_type": "code",
   "execution_count": null,
   "metadata": {},
   "outputs": [],
   "source": [
    "# Matt Le\n",
    "# Code to prepare for 4, 5 (timeseries)\n",
    "time_vector = df[:, \"Quarter\"]\n",
    "real_RPCE = df[:, \" Percent Change Consumption\"]\n",
    "real_RPDI = df[:, \"Percent Change Income\"]\n",
    "intercept = df[:, \"Intercept\"]\n",
    "\n",
    "\n",
    "RPDI_intercept_features = hcat(real_RPDI, intercept)\n",
    "linregparam_with_RPDI_intercept = linreg(RPDI_intercept_features, real_RPCE , 0)\n",
    "\n",
    "println(\"Weight for RPDI \", linregparam_with_RPDI_intercept[1])\n",
    "println(\"Intercept \", linregparam_with_RPDI_intercept[2])\n",
    "\n",
    "estimated_RPCE = predict(linregparam_with_RPDI_intercept, RPDI_intercept_features)\n",
    "println(\"R squared is: \", rsq(estimated_RPCE, real_RPCE, mean(estimated_RPCE)))\n"
   ]
  },
  {
   "cell_type": "code",
   "execution_count": null,
   "metadata": {},
   "outputs": [],
   "source": [
    "# Tu Pham\n",
    "# Question 6 (timeseries)\n",
    "# Plot RPCE and estimated RPCE against time\n",
    "function plot_RPCE(real_RPCE, estimated_RPCE, time_vector)\n",
    "    plot(time_vector, real_RPCE, seriestype=:scatter, label=\"True response RPCE\")\n",
    "    plot!(time_vector, estimated_RPCE, label=\"Estimated RPCE\")\n",
    "    xlabel!(\"Time\")\n",
    "    ylabel!(\"RPCE value\")\n",
    "    title!(\"RPCE and estimated RPCE against time\")\n",
    "end\n",
    "plot_RPCE(real_RPCE, estimated_RPCE, time_vector)"
   ]
  },
  {
   "cell_type": "code",
   "execution_count": null,
   "metadata": {},
   "outputs": [],
   "source": [
    "#Q7, Minh\n",
    "\n",
    "# Building a matrix of features from all other features\n",
    "mat = Matrix(df[:, 3:7])\n",
    "y = (df[:, 2])\n",
    "# println(size(mat))\n",
    "\n",
    "result = linreg(mat, y, 0)\n",
    "\n",
    "# Printing result\n",
    "# ? Which one will go first?\n",
    "println(\"Weight for RPDI: $(result[1])\")\n",
    "println(\"Weight for IP: $(result[2])\")\n",
    "println(\"Weight for PS: $(result[3])\")\n",
    "println(\"Weight for UR: $(result[4])\")\n",
    "println(\"Intercept: $(result[5])\")\n"
   ]
  },
  {
   "cell_type": "code",
   "execution_count": null,
   "metadata": {},
   "outputs": [],
   "source": [
    "#8, Matt\n",
    "estimated_RPCE = predict(result, mat)\n",
    "println(\"R squared is: \", rsq(estimated_RPCE, y, mean(estimated_RPCE)))\n",
    "\n",
    "println(\"R squared is increased from .18 to .76, which means that this model predicts the data more accurately.\")\n",
    "\n",
    "\n"
   ]
  },
  {
   "cell_type": "code",
   "execution_count": 139,
   "metadata": {},
   "outputs": [
    {
     "name": "stdout",
     "output_type": "stream",
     "text": [
      "R squared with regularization value 0.0 is : 0.7609760633486974\n",
      "R squared with regularization value 0.001 is : 0.7609760632612953\n",
      "R squared with regularization value 0.01 is : 0.7609760546148289\n",
      "R squared with regularization value 0.1 is : 0.7609751962510447\n",
      "R squared with regularization value 1.0 is : 0.7608950904256583\n",
      "The models proposed little to none changes in values to each other\n"
     ]
    }
   ],
   "source": [
    "#11, Matt\n",
    "function getModelWithDifferentReg(lambda)\n",
    "    mat = Matrix(df[:, 3:7])\n",
    "    y = (df[:, 2])\n",
    "\n",
    "\n",
    "    result = linreg(mat, y, lambda)\n",
    "    estimated_RPCE = predict(result, mat)\n",
    "    println(\"R squared with regularization value \", lambda ,\" is : \", rsq(estimated_RPCE, y, mean(estimated_RPCE)))\n",
    "\n",
    "end\n",
    "\n",
    "for lambda in [0, 0.001, 0.01, 0.1, 1]\n",
    "    getModelWithDifferentReg(lambda)\n",
    "end\n",
    "\n",
    "println(\"The models proposed little to none changes in values to each other\")"
   ]
  },
  {
   "cell_type": "code",
   "execution_count": 170,
   "metadata": {},
   "outputs": [
    {
     "name": "stdout",
     "output_type": "stream",
     "text": [
      "The R squared from models build by quarters up to 2011Q1 is 0.0\n",
      "The R squared from models build by quarters up to 2011Q2 is 0.71669853099232\n",
      "The R squared from models build by quarters up to 2011Q3 is 0.5499502037232998\n",
      "The R squared from models build by quarters up to 2011Q4 is 0.1677628834806123\n",
      "The R squared from models build by quarters up to 2012Q1 is 0.3378089289881766\n",
      "The R squared from models build by quarters up to 2012Q2 is 0.3629574498887036\n",
      "The R squared from models build by quarters up to 2012Q3 is 0.33680353126081874\n",
      "The R squared from models build by quarters up to 2012Q4 is 0.0448461092136162\n",
      "The R squared from models build by quarters up to 2013Q1 is 0.031603573188305756\n",
      "The R squared from models build by quarters up to 2013Q2 is 0.061273723080583764\n",
      "The R squared from models build by quarters up to 2013Q3 is 0.07811459011393918\n",
      "The R squared from models build by quarters up to 2013Q4 is 0.2956311072832829\n",
      "The R squared from models build by quarters up to 2014Q1 is 0.2611380785479006\n",
      "The R squared from models build by quarters up to 2014Q2 is 0.436271972157546\n",
      "The R squared from models build by quarters up to 2014Q3 is 0.5237443176703052\n",
      "The R squared from models build by quarters up to 2014Q4 is 0.6342305610139976\n",
      "The R squared from models build by quarters up to 2015Q1 is 0.6314012808576869\n",
      "The R squared from models build by quarters up to 2015Q2 is 0.6353524641162658\n",
      "The R squared from models build by quarters up to 2015Q3 is 0.6334707384256798\n",
      "The R squared from models build by quarters up to 2015Q4 is 0.6310414750369542\n",
      "The R squared from models build by quarters up to 2016Q1 is 0.6294890018653021\n",
      "The R squared from models build by quarters up to 2016Q2 is 0.6647857714727708\n",
      "The R squared from models build by quarters up to 2016Q3 is 0.6679481729502069\n"
     ]
    }
   ],
   "source": [
    "\n",
    "function getSequentialModel(i)\n",
    "    \n",
    "\n",
    "    features = Matrix(df[205:i,[3,4,5,6,7]])\n",
    "\n",
    "    real_RPCE = (df[205:i, 2])\n",
    "    estimated_RPCE = predict(result, features)\n",
    "    rsq(estimated_RPCE, real_RPCE, mean(estimated_RPCE))\n",
    "end\n",
    "\n",
    "\n",
    "for i in 205:227\n",
    "    println(\"The R squared from models build by quarters up to \", df[i, \"Quarter\"], \" is \", getSequentialModel(i))\n",
    "end"
   ]
  }
 ],
 "metadata": {
  "kernelspec": {
   "display_name": "Julia 1.6.7",
   "language": "julia",
   "name": "julia-1.6"
  },
  "language_info": {
   "file_extension": ".jl",
   "mimetype": "application/julia",
   "name": "julia",
   "version": "1.6.7"
  },
  "orig_nbformat": 4
 },
 "nbformat": 4,
 "nbformat_minor": 2
}
