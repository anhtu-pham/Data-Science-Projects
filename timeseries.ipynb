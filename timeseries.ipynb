{
 "cells": [
  {
   "cell_type": "code",
   "execution_count": 25,
   "metadata": {},
   "outputs": [],
   "source": [
    "using DataFrames\n",
    "using CSV\n",
    "using LinearAlgebra\n",
    "using Plots\n",
    "using Statistics"
   ]
  },
  {
   "cell_type": "code",
   "execution_count": null,
   "metadata": {},
   "outputs": [],
   "source": [
    "#Q1, Minh\n",
    "function linreg(x, y, lambda)\n",
    "    m, n = size(x)\n",
    "    z = x' * x + lambda * Matrix(I, n, n)  # the regularized matrix1\n",
    "    lin_reg_param = inv(z) * x' * y\n",
    "    return lin_reg_param\n",
    "end\n"
   ]
  },
  {
   "cell_type": "code",
   "execution_count": 27,
   "metadata": {},
   "outputs": [
    {
     "data": {
      "text/plain": [
       "rsq (generic function with 1 method)"
      ]
     },
     "metadata": {},
     "output_type": "display_data"
    }
   ],
   "source": [
    "# Tu Pham\n",
    "# Questions 2, 3 (linreg)\n",
    "# Function to calculate predicted responses\n",
    "function predict(linregparam, x)\n",
    "    predicted_responses = x * linregparam\n",
    "    return predicted_responses\n",
    "end\n",
    "\n",
    "# Function to calculate R^2\n",
    "function rsq(predicted_responses, true_responses, mean_prediction)\n",
    "    predictive_model_error = 0\n",
    "    for i in eachindex(true_responses)\n",
    "        predictive_model_error += ((true_responses[i] - predicted_responses[i]) ^ 2)\n",
    "    end\n",
    "    baseline_model_error = 0\n",
    "    for i in eachindex(true_responses)\n",
    "        baseline_model_error += ((true_responses[i] - mean_prediction) ^ 2)\n",
    "    end\n",
    "    r_squared = 1 - (predictive_model_error / baseline_model_error)\n",
    "    return r_squared\n",
    "end"
   ]
  },
  {
   "cell_type": "code",
   "execution_count": null,
   "metadata": {},
   "outputs": [],
   "source": [
    "path = \"usconsumption.csv\"\n",
    "df = CSV.read(path, DataFrame)"
   ]
  },
  {
   "cell_type": "code",
   "execution_count": null,
   "metadata": {},
   "outputs": [],
   "source": [
    "# Part 2, q123, Minh\n",
    "\n",
    "# Q1 \n",
    "filepath = \"./usconsumption.csv\"\n",
    "df = CSV.read(filepath, DataFrame)\n",
    "df[!, :Intercept] = ones(size(df, 1)) # create an Intercept column and fill it with 1s.\n",
    "\n",
    "print(df)"
   ]
  },
  {
   "cell_type": "code",
   "execution_count": null,
   "metadata": {},
   "outputs": [],
   "source": [
    "# Q2\n",
    "x = df[:, \"Quarter\"]\n",
    "rpce = df[:, \" Percent Change Consumption\"]\n",
    "rpdi = df[:, \"Percent Change Income\"]\n",
    "\n",
    "plot(x, rpce, xlabel=\"Quarter\", legend=true, label=\"RPCE\")\n",
    "\n",
    "# Q3\n",
    "plot!(x, rpdi, xlabel=\"Quarter\", legend=true, label=\"RPDI\")\n",
    "ylabel!(\"Rate of Change\")"
   ]
  },
  {
   "cell_type": "code",
   "execution_count": null,
   "metadata": {},
   "outputs": [],
   "source": [
    "# Tu Pham\n",
    "# Code to prepare for 4, 5 (timeseries)\n",
    "time_vector = df[:, \"Quarter\"]\n",
    "real_RPCE = df[:, \" Percent Change Consumption\"]\n",
    "real_RPDI = df[:, \"Percent Change Income\"]\n",
    "intercept = df[:, \"Intercept\"]\n",
    "\n",
    "\n",
    "RPDI_intercept_features = hcat(real_RPDI, intercept)\n",
    "linregparam_with_RPDI_intercept = linreg(RPDI_intercept_features, real_RPCE , 0)\n",
    "\n",
    "println(\"Weight for RPDI\", linregparam_with_RPDI_intercept[1])\n",
    "println(\"Intercept\", linregparam_with_RPDI_intercept[2])\n",
    "\n",
    "estimated_RPCE = predict(linregparam_with_RPDI_intercept, RPDI_intercept_features)\n",
    "estimated_RPCE\n"
   ]
  },
  {
   "cell_type": "code",
   "execution_count": null,
   "metadata": {},
   "outputs": [],
   "source": [
    "# Tu Pham\n",
    "# Question 6 (timeseries)\n",
    "# Plot RPCE and estimated RPCE against time\n",
    "function plot_RPCE(real_RPCE, estimated_RPCE, time_vector)\n",
    "    plot(time_vector, real_RPCE, seriestype=:scatter, label=\"True response RPCE\")\n",
    "    plot!(time_vector, estimated_RPCE, label=\"Estimated RPCE\")\n",
    "    xlabel!(\"Time\")\n",
    "    ylabel!(\"RPCE value\")\n",
    "    title!(\"RPCE and estimated RPCE against time\")\n",
    "end\n",
    "plot_RPCE(real_RPCE, estimated_RPCE, time_vector)"
   ]
  },
  {
   "cell_type": "code",
   "execution_count": null,
   "metadata": {},
   "outputs": [],
   "source": [
    "# Tu Pham\n",
    "# Code to prepare for 7, 8 (timeseries)\n",
    "# Unfinished\n",
    "time_vector = Matrix(df[:, \"Quarter\"])\n",
    "real_RPCE = df[:, \" Percent Change Consumption\"]\n",
    "other_features = df[:, [3:7]]\n",
    "\n"
   ]
  },
  {
   "cell_type": "code",
   "execution_count": null,
   "metadata": {},
   "outputs": [],
   "source": [
    "#Q7, Minh\n",
    "\n",
    "# Building a matrix of features from all other features\n",
    "mat = Matrix(df[:, 3:7])\n",
    "y = (df[:, 2])\n",
    "# println(size(mat))\n",
    "\n",
    "result = linreg(mat, y, 0)\n",
    "\n",
    "# Printing result\n",
    "# ? Which one will go first?\n",
    "println(\"Weight for RPDI: $(result[1])\")\n",
    "println(\"Weight for IP: $(result[2])\")\n",
    "println(\"Weight for PS: $(result[3])\")\n",
    "println(\"Weight for UR: $(result[4])\")\n",
    "println(\"Intercept: $(result[5])\")"
   ]
  },
  {
   "cell_type": "code",
   "execution_count": null,
   "metadata": {},
   "outputs": [],
   "source": []
  },
  {
   "cell_type": "code",
   "execution_count": null,
   "metadata": {},
   "outputs": [],
   "source": [
    "#8, Matt\n",
    "\n",
    "linregparam_with_other_intercept = linreg(other_features, real_RPCE , 0)\n",
    "etimated_RPCE = predict(linregparam_with_other_intercept, other_intercept_features)\n",
    "# estimated_RPCE\n"
   ]
  },
  {
   "cell_type": "code",
   "execution_count": null,
   "metadata": {},
   "outputs": [],
   "source": [
    "# Q9, Minh\n",
    "\n",
    "est = predict(result, mat)\n",
    "\n",
    "plot_RPCE(real_RPCE, est, time_vector)"
   ]
  },
  {
   "cell_type": "code",
   "execution_count": 29,
   "metadata": {},
   "outputs": [
    {
     "name": "stdout",
     "output_type": "stream",
     "text": [
      "Regression parameters: [0.7407063798830182, 0.021878378090151196, -0.047943112415759964, -0.31257254028496995, 0.28530124239835475]\n",
      "Predicted test responses: [1.1053989862934719, 0.9314911955406835, 0.09289515078419441, -0.08022245689993363, 0.42875150886083463, 1.3880652999875025, 1.005137852036735, 1.9223218979473746, 1.1177031228367458, 1.1130381543688266, 0.7542228834230036, 1.1431750280944684, 0.7892236344010671, 1.038154757132327, 1.1972581789711803, 1.1273000536637614, 1.6620490587603292, 1.9020571405276594, 1.4315599705754336, 0.8208510531679896, 1.6216491214870963, 1.140471967333751, 1.9157819692948586, 2.054735282607097, 1.2286165488170693, 0.4812299552126422, 1.120494003088183, 0.7663302139196917, 0.9710060653300032, 0.994199451945168, 0.7491017222610596, 0.761571916364332, 1.685480714519832, 1.368268555062502, 1.1416624921318426, 0.6549079060723444, 0.8172693696421794, 0.7904619727994822, 1.0129339127613237, 0.8375238228464483, 0.4398635037407224, 0.6334879704839249, 0.9222264594171767, -0.21763060021003056, 1.6548728438850946, 1.118212135331694, 0.6760740262747771, 1.2681381188260215, 0.986077614199065, 1.3532721667767447, 1.5075070814764286, 2.5665723644700607, 1.2213609249316337, 0.48757077438649515, 0.524637453790729, 0.5620673565527692, -0.9058765534487465, -0.18581771674595515, 0.16516847526435346, -0.8446046996459009, -0.1608945844859615, 2.388403574917804, 0.2256423173325254, 0.9283684209352043, 1.5458463308402317, 0.7671411462407569, 0.8605224564589006, 0.8735200294418168, 0.8714582572875029, 0.8959620293572854, 1.17854509555303, 1.5212777725543585, 0.6904734397507573, 1.5514758558680668, 0.5766103715878049, 0.7925123904456675, 0.7677571932990737, -0.07715545303695548, 0.6536377526063382, 0.39342832439452785, 0.17004812746555384, -1.6946519674485538, 0.905478823732463, 1.461833090150817, 0.3019497873556139, 0.20104015036519574, 1.0087456440512792, -0.27467400615062343, 0.33260668176407004, 0.391542680076515, 0.49285884754500037, 0.8168382161870624, 1.0840451077437967, 1.4062627430709878, 1.7397838548846656, 1.8079324640714947, 1.3388499167002028, 1.5176573253052177, 0.9659602804255696, 1.0309005245539293, 1.0436590851420307, 1.069580596625364, 1.2578021779432491, 0.6300553886788254, 0.8726114364822852, 1.092928909602949, 1.361761405780351, 0.7999041633081313, 0.3235162996495159, 1.1420821373354983, 1.1630038578836133, 0.5863735741458984, 1.4248885722803253, 0.8821158292309285, 0.8285605523868766, 1.054008163228135, 0.8172254607773046, 0.3560906154894715, 0.8932714729666594, 0.5949492843945003, 0.846638182482969, 0.49853905381882346, 0.2557329002164006, -0.45425645708765483, -0.06726102269839829, 0.7932138500207278, 0.5900393585747512, 0.2515981918890964, 1.4777804325596597, 0.7078991508182647, 0.9717591661225045, 0.9063975877035817, 0.7171343803173567, 0.7522315587094872, 1.0063245763323345, 0.9537612147646397, 1.0780309537135109, 0.9825904821958551, 0.9305145564606974, 1.1748684812494687, 0.5567781290115761, 0.9073725588139062, 0.9694589722612681, 0.8704086854458589, 0.9145790435705952, 1.1352199596412205, 0.7716208165157736, 0.7978966489512311, 1.0989501384129645, 0.7146661964181396, 1.589753058079804, 1.1957599692035186, 0.9426440271907183, 1.6208669631411061, 1.1715249297480665, 1.4172354783766568, 0.9419823318416047, 1.5852259743638262, 1.3034239642628573, 1.3552721801778143, 1.1628724160961328, 1.0151268878413506, 1.0514632919208249, 1.1617197342591807, 0.1252676927024579, 0.4602624584892957, -0.16934377648281884, 1.842418694039446, -0.35252792681207135, 0.6201746917775703, 0.9395063882384149, 0.4692727961963793, 0.5106751137319067, 0.8735683646963449, 1.2685961944833517, 1.0617031417908915, 0.9485694959175373, 0.6883475983894145, 1.1798023593973173, 0.9368857331226148, 1.688244677845258, 1.8190274774003372, 1.0307010095977205, -0.030928913368378996, 0.24851598415729864, 1.0326281969692181, 1.040864119870321, 0.9963716649988515, 0.4729414539295034, 0.7385581017923208, 0.8850986929855158, 0.14563655668991612, -0.6530635354245347, -0.5825633057590988, -0.10564548953833708, -1.4517810816295649, -0.46227613729043093, -0.2767504267225701, 0.5790511492373419, 0.14928360648522015, 0.667004471336305, 0.8849045127576814, 0.6701098086262178, 1.0278042514072245]\n",
      "R squared for test set -7.243678481640641\n"
     ]
    }
   ],
   "source": [
    "# Tu Pham\n",
    "# Questions 12\n",
    "# function rsq(predicted_responses, true_responses, mean_prediction)\n",
    "training_set = df[1:204, :]\n",
    "test_set = df[205:227, :]\n",
    "\n",
    "training_features = Matrix(training_set[:, 3:7])\n",
    "\n",
    "real_training_RPCE = training_set[:, \" Percent Change Consumption\"]\n",
    "real_test_RPCE = test_set[:, \" Percent Change Consumption\"]\n",
    "\n",
    "training_linreg_param = linreg(training_features, real_training_RPCE, 0)\n",
    "println(\"Regression parameters: \", training_linreg_param)\n",
    "predicted_test_RPCE = predict(training_linreg_param, training_features)\n",
    "println(\"Predicted test responses: \", predicted_test_RPCE)\n",
    "r_squared_test = rsq(predicted_test_RPCE, real_test_RPCE, mean(real_test_RPCE))\n",
    "println(\"R squared for test set \", r_squared_test)"
   ]
  }
 ],
 "metadata": {
  "kernelspec": {
   "display_name": "Julia 1.8.5",
   "language": "julia",
   "name": "julia-1.8"
  },
  "language_info": {
   "file_extension": ".jl",
   "mimetype": "application/julia",
   "name": "julia",
   "version": "1.8.5"
  },
  "orig_nbformat": 4
 },
 "nbformat": 4,
 "nbformat_minor": 2
}
