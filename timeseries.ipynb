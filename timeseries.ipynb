{
 "cells": [
  {
   "cell_type": "code",
   "execution_count": 1,
   "metadata": {},
   "outputs": [],
   "source": [
    "using DataFrames\n",
    "using CSV\n",
    "using LinearAlgebra"
   ]
  },
  {
   "cell_type": "code",
   "execution_count": 2,
   "metadata": {},
   "outputs": [
    {
     "data": {
      "text/plain": [
       "rsq (generic function with 1 method)"
      ]
     },
     "metadata": {},
     "output_type": "display_data"
    }
   ],
   "source": [
    "# Tu Pham\n",
    "function predict(linregparam, x)\n",
    "    predictedResponses = x * linregparam\n",
    "    return predictedResponses\n",
    "end\n",
    "\n",
    "function rsq(predictedResponses, trueResponses, meanPrediction)\n",
    "    predictiveModelError = 0\n",
    "    for i in eachindex(trueResponses)\n",
    "        predictiveModeError += ((trueResponses[i] - predictedResponses[i]) ^ 2)\n",
    "    end\n",
    "    baselineModelError = 0\n",
    "    for i in eachindex(trueResponses)\n",
    "        baselineModelError += ((trueResponses[i] - meanPrediction) ^ 2)\n",
    "    end\n",
    "    r_squared = 1 - (predictiveModelError / baselineModelError)\n",
    "    return r_squared\n",
    "end"
   ]
  }
 ],
 "metadata": {
  "kernelspec": {
   "display_name": "Julia 1.8.5",
   "language": "julia",
   "name": "julia-1.8"
  },
  "language_info": {
   "file_extension": ".jl",
   "mimetype": "application/julia",
   "name": "julia",
   "version": "1.8.5"
  },
  "orig_nbformat": 4
 },
 "nbformat": 4,
 "nbformat_minor": 2
}
