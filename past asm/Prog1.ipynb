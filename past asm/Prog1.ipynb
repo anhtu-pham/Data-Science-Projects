{
 "cells": [
  {
   "cell_type": "code",
   "execution_count": 6,
   "id": "eb61d1ec",
   "metadata": {},
   "outputs": [],
   "source": [
    "# Question 3\n",
    "using Statistics\n",
    "using CSV\n",
    "using DataFrames\n",
    "using LinearAlgebra\n",
    "using Dates\n"
   ]
  },
  {
   "cell_type": "code",
   "execution_count": 7,
   "id": "42f2bd85",
   "metadata": {},
   "outputs": [
    {
     "ename": "LoadError",
     "evalue": "ArgumentError: \"D:/4.5.csv\" is not a valid file or doesn't exist",
     "output_type": "error",
     "traceback": [
      "ArgumentError: \"D:/4.5.csv\" is not a valid file or doesn't exist",
      "",
      "Stacktrace:",
      " [1] CSV.Context(source::CSV.Arg, header::CSV.Arg, normalizenames::CSV.Arg, datarow::CSV.Arg, skipto::CSV.Arg, footerskip::CSV.Arg, transpose::CSV.Arg, comment::CSV.Arg, ignoreemptyrows::CSV.Arg, ignoreemptylines::CSV.Arg, select::CSV.Arg, drop::CSV.Arg, limit::CSV.Arg, buffer_in_memory::CSV.Arg, threaded::CSV.Arg, ntasks::CSV.Arg, tasks::CSV.Arg, rows_to_check::CSV.Arg, lines_to_check::CSV.Arg, missingstrings::CSV.Arg, missingstring::CSV.Arg, delim::CSV.Arg, ignorerepeated::CSV.Arg, quoted::CSV.Arg, quotechar::CSV.Arg, openquotechar::CSV.Arg, closequotechar::CSV.Arg, escapechar::CSV.Arg, dateformat::CSV.Arg, dateformats::CSV.Arg, decimal::CSV.Arg, truestrings::CSV.Arg, falsestrings::CSV.Arg, stripwhitespace::CSV.Arg, type::CSV.Arg, types::CSV.Arg, typemap::CSV.Arg, pool::CSV.Arg, downcast::CSV.Arg, lazystrings::CSV.Arg, stringtype::CSV.Arg, strict::CSV.Arg, silencewarnings::CSV.Arg, maxwarnings::CSV.Arg, debug::CSV.Arg, parsingdebug::CSV.Arg, validate::CSV.Arg, streaming::CSV.Arg)",
      "   @ CSV C:\\Users\\12169\\.julia\\packages\\CSV\\b8ebJ\\src\\context.jl:306",
      " [2] #File#28",
      "   @ C:\\Users\\12169\\.julia\\packages\\CSV\\b8ebJ\\src\\file.jl:221 [inlined]",
      " [3] read(source::String, sink::Type; copycols::Bool, kwargs::Base.Pairs{Symbol, String, Tuple{Symbol}, NamedTuple{(:dateformat,), Tuple{String}}})",
      "   @ CSV C:\\Users\\12169\\.julia\\packages\\CSV\\b8ebJ\\src\\CSV.jl:117",
      " [4] top-level scope",
      "   @ In[7]:3"
     ]
    }
   ],
   "source": [
    "# Question 4\n",
    "filepath = \"D:/4.5.csv\"\n",
    "df = CSV.read(filepath, DataFrame, dateformat=\"dd-mm-yyyy\")\n",
    "# df2 = CSV.read(filepath, DataFrame, dateformat=\"dd-mm-yyyy\", limit = 10)"
   ]
  },
  {
   "cell_type": "code",
   "execution_count": 8,
   "id": "bb580c93",
   "metadata": {},
   "outputs": [
    {
     "data": {
      "text/html": [
       "<div><div style = \"float: left;\"><span>10×22 DataFrame</span></div><div style = \"clear: both;\"></div></div><div class = \"data-frame\" style = \"overflow-x: scroll;\"><table class = \"data-frame\" style = \"margin-bottom: 6px;\"><thead><tr class = \"header\"><th class = \"rowNumber\" style = \"font-weight: bold; text-align: right;\">Row</th><th style = \"text-align: left;\">time</th><th style = \"text-align: left;\">latitude</th><th style = \"text-align: left;\">longitude</th><th style = \"text-align: left;\">depth</th><th style = \"text-align: left;\">mag</th><th style = \"text-align: left;\">magType</th><th style = \"text-align: left;\">nst</th><th style = \"text-align: left;\">gap</th><th style = \"text-align: left;\">dmin</th><th style = \"text-align: left;\">rms</th><th style = \"text-align: left;\">net</th><th style = \"text-align: left;\">id</th><th style = \"text-align: left;\">updated</th><th style = \"text-align: left;\">place</th><th style = \"text-align: left;\">type</th><th style = \"text-align: left;\">horizontalError</th><th style = \"text-align: left;\">depthError</th><th style = \"text-align: left;\">magError</th><th style = \"text-align: left;\">magNst</th><th style = \"text-align: left;\">status</th><th style = \"text-align: left;\">locationSource</th><th style = \"text-align: left;\">magSource</th></tr><tr class = \"subheader headerLastRow\"><th class = \"rowNumber\" style = \"font-weight: bold; text-align: right;\"></th><th title = \"String31\" style = \"text-align: left;\">String31</th><th title = \"Float64\" style = \"text-align: left;\">Float64</th><th title = \"Float64\" style = \"text-align: left;\">Float64</th><th title = \"Float64\" style = \"text-align: left;\">Float64</th><th title = \"Float64\" style = \"text-align: left;\">Float64</th><th title = \"String3\" style = \"text-align: left;\">String3</th><th title = \"Int64\" style = \"text-align: left;\">Int64</th><th title = \"Int64\" style = \"text-align: left;\">Int64</th><th title = \"Float64\" style = \"text-align: left;\">Float64</th><th title = \"Float64\" style = \"text-align: left;\">Float64</th><th title = \"String3\" style = \"text-align: left;\">String3</th><th title = \"String15\" style = \"text-align: left;\">String15</th><th title = \"String31\" style = \"text-align: left;\">String31</th><th title = \"String\" style = \"text-align: left;\">String</th><th title = \"String15\" style = \"text-align: left;\">String15</th><th title = \"Float64\" style = \"text-align: left;\">Float64</th><th title = \"Float64\" style = \"text-align: left;\">Float64</th><th title = \"Float64\" style = \"text-align: left;\">Float64</th><th title = \"Int64\" style = \"text-align: left;\">Int64</th><th title = \"String15\" style = \"text-align: left;\">String15</th><th title = \"String3\" style = \"text-align: left;\">String3</th><th title = \"String3\" style = \"text-align: left;\">String3</th></tr></thead><tbody><tr><td class = \"rowNumber\" style = \"font-weight: bold; text-align: right;\">1</td><td style = \"text-align: left;\">2023-01-27T20:25:27.038Z</td><td style = \"text-align: right;\">10.7145</td><td style = \"text-align: right;\">125.448</td><td style = \"text-align: right;\">69.238</td><td style = \"text-align: right;\">5.4</td><td style = \"text-align: left;\">mww</td><td style = \"text-align: right;\">190</td><td style = \"text-align: right;\">26</td><td style = \"text-align: right;\">3.624</td><td style = \"text-align: right;\">0.84</td><td style = \"text-align: left;\">us</td><td style = \"text-align: left;\">us6000jjtj</td><td style = \"text-align: left;\">2023-01-27T22:28:46.168Z</td><td style = \"text-align: left;\">32 km ENE of Hingatungan, Philippines</td><td style = \"text-align: left;\">earthquake</td><td style = \"text-align: right;\">7.83</td><td style = \"text-align: right;\">5.358</td><td style = \"text-align: right;\">0.066</td><td style = \"text-align: right;\">22</td><td style = \"text-align: left;\">reviewed</td><td style = \"text-align: left;\">us</td><td style = \"text-align: left;\">us</td></tr><tr><td class = \"rowNumber\" style = \"font-weight: bold; text-align: right;\">2</td><td style = \"text-align: left;\">2023-01-27T18:18:00.454Z</td><td style = \"text-align: right;\">-2.8446</td><td style = \"text-align: right;\">129.618</td><td style = \"text-align: right;\">20.664</td><td style = \"text-align: right;\">4.7</td><td style = \"text-align: left;\">mb</td><td style = \"text-align: right;\">92</td><td style = \"text-align: right;\">62</td><td style = \"text-align: right;\">2.628</td><td style = \"text-align: right;\">0.6</td><td style = \"text-align: left;\">us</td><td style = \"text-align: left;\">us6000jjsz</td><td style = \"text-align: left;\">2023-01-27T20:31:54.040Z</td><td style = \"text-align: left;\">95 km NE of Amahai, Indonesia</td><td style = \"text-align: left;\">earthquake</td><td style = \"text-align: right;\">4.25</td><td style = \"text-align: right;\">4.631</td><td style = \"text-align: right;\">0.066</td><td style = \"text-align: right;\">78</td><td style = \"text-align: left;\">reviewed</td><td style = \"text-align: left;\">us</td><td style = \"text-align: left;\">us</td></tr><tr><td class = \"rowNumber\" style = \"font-weight: bold; text-align: right;\">3</td><td style = \"text-align: left;\">2023-01-27T16:37:39.419Z</td><td style = \"text-align: right;\">-23.7222</td><td style = \"text-align: right;\">-179.46</td><td style = \"text-align: right;\">525.778</td><td style = \"text-align: right;\">4.6</td><td style = \"text-align: left;\">mb</td><td style = \"text-align: right;\">33</td><td style = \"text-align: right;\">122</td><td style = \"text-align: right;\">4.686</td><td style = \"text-align: right;\">0.53</td><td style = \"text-align: left;\">us</td><td style = \"text-align: left;\">us6000jjsa</td><td style = \"text-align: left;\">2023-01-27T17:00:08.040Z</td><td style = \"text-align: left;\">south of the Fiji Islands</td><td style = \"text-align: left;\">earthquake</td><td style = \"text-align: right;\">16.53</td><td style = \"text-align: right;\">18.134</td><td style = \"text-align: right;\">0.1</td><td style = \"text-align: right;\">30</td><td style = \"text-align: left;\">reviewed</td><td style = \"text-align: left;\">us</td><td style = \"text-align: left;\">us</td></tr><tr><td class = \"rowNumber\" style = \"font-weight: bold; text-align: right;\">4</td><td style = \"text-align: left;\">2023-01-27T16:33:28.276Z</td><td style = \"text-align: right;\">-23.3301</td><td style = \"text-align: right;\">-179.886</td><td style = \"text-align: right;\">528.172</td><td style = \"text-align: right;\">4.5</td><td style = \"text-align: left;\">mb</td><td style = \"text-align: right;\">28</td><td style = \"text-align: right;\">115</td><td style = \"text-align: right;\">4.841</td><td style = \"text-align: right;\">0.64</td><td style = \"text-align: left;\">us</td><td style = \"text-align: left;\">us6000jjs9</td><td style = \"text-align: left;\">2023-01-27T17:14:45.040Z</td><td style = \"text-align: left;\">south of the Fiji Islands</td><td style = \"text-align: left;\">earthquake</td><td style = \"text-align: right;\">14.76</td><td style = \"text-align: right;\">10.621</td><td style = \"text-align: right;\">0.118</td><td style = \"text-align: right;\">21</td><td style = \"text-align: left;\">reviewed</td><td style = \"text-align: left;\">us</td><td style = \"text-align: left;\">us</td></tr><tr><td class = \"rowNumber\" style = \"font-weight: bold; text-align: right;\">5</td><td style = \"text-align: left;\">2023-01-27T11:06:54.630Z</td><td style = \"text-align: right;\">18.7795</td><td style = \"text-align: right;\">-64.3253</td><td style = \"text-align: right;\">33.0</td><td style = \"text-align: right;\">4.6</td><td style = \"text-align: left;\">ml</td><td style = \"text-align: right;\">21</td><td style = \"text-align: right;\">217</td><td style = \"text-align: right;\">0.7621</td><td style = \"text-align: right;\">0.46</td><td style = \"text-align: left;\">pr</td><td style = \"text-align: left;\">pr2023027001</td><td style = \"text-align: left;\">2023-01-27T18:56:35.897Z</td><td style = \"text-align: left;\">70 km NE of Cruz Bay, U.S. Virgin Islands</td><td style = \"text-align: left;\">earthquake</td><td style = \"text-align: right;\">2.76</td><td style = \"text-align: right;\">9.97</td><td style = \"text-align: right;\">0.08</td><td style = \"text-align: right;\">13</td><td style = \"text-align: left;\">reviewed</td><td style = \"text-align: left;\">pr</td><td style = \"text-align: left;\">pr</td></tr><tr><td class = \"rowNumber\" style = \"font-weight: bold; text-align: right;\">6</td><td style = \"text-align: left;\">2023-01-27T10:51:18.438Z</td><td style = \"text-align: right;\">-16.5691</td><td style = \"text-align: right;\">-69.7504</td><td style = \"text-align: right;\">195.543</td><td style = \"text-align: right;\">4.5</td><td style = \"text-align: left;\">mb</td><td style = \"text-align: right;\">69</td><td style = \"text-align: right;\">105</td><td style = \"text-align: right;\">1.047</td><td style = \"text-align: right;\">0.82</td><td style = \"text-align: left;\">us</td><td style = \"text-align: left;\">us6000jjn6</td><td style = \"text-align: left;\">2023-01-27T14:03:57.040Z</td><td style = \"text-align: left;\">19 km N of Mazo Cruz, Peru</td><td style = \"text-align: left;\">earthquake</td><td style = \"text-align: right;\">7.09</td><td style = \"text-align: right;\">4.387</td><td style = \"text-align: right;\">0.078</td><td style = \"text-align: right;\">48</td><td style = \"text-align: left;\">reviewed</td><td style = \"text-align: left;\">us</td><td style = \"text-align: left;\">us</td></tr><tr><td class = \"rowNumber\" style = \"font-weight: bold; text-align: right;\">7</td><td style = \"text-align: left;\">2023-01-27T05:29:21.314Z</td><td style = \"text-align: right;\">-49.5504</td><td style = \"text-align: right;\">117.454</td><td style = \"text-align: right;\">10.0</td><td style = \"text-align: right;\">5.0</td><td style = \"text-align: left;\">mb</td><td style = \"text-align: right;\">32</td><td style = \"text-align: right;\">145</td><td style = \"text-align: right;\">16.609</td><td style = \"text-align: right;\">0.56</td><td style = \"text-align: left;\">us</td><td style = \"text-align: left;\">us6000jjm1</td><td style = \"text-align: left;\">2023-01-27T05:47:50.040Z</td><td style = \"text-align: left;\">western Indian-Antarctic Ridge</td><td style = \"text-align: left;\">earthquake</td><td style = \"text-align: right;\">15.42</td><td style = \"text-align: right;\">1.926</td><td style = \"text-align: right;\">0.107</td><td style = \"text-align: right;\">28</td><td style = \"text-align: left;\">reviewed</td><td style = \"text-align: left;\">us</td><td style = \"text-align: left;\">us</td></tr><tr><td class = \"rowNumber\" style = \"font-weight: bold; text-align: right;\">8</td><td style = \"text-align: left;\">2023-01-27T04:34:38.938Z</td><td style = \"text-align: right;\">5.0199</td><td style = \"text-align: right;\">-76.2029</td><td style = \"text-align: right;\">103.42</td><td style = \"text-align: right;\">4.5</td><td style = \"text-align: left;\">mb</td><td style = \"text-align: right;\">40</td><td style = \"text-align: right;\">95</td><td style = \"text-align: right;\">1.343</td><td style = \"text-align: right;\">0.7</td><td style = \"text-align: left;\">us</td><td style = \"text-align: left;\">us6000jjlq</td><td style = \"text-align: left;\">2023-01-27T12:24:35.798Z</td><td style = \"text-align: left;\">14 km NNE of San José del Palmar, Colombia</td><td style = \"text-align: left;\">earthquake</td><td style = \"text-align: right;\">7.06</td><td style = \"text-align: right;\">8.868</td><td style = \"text-align: right;\">0.085</td><td style = \"text-align: right;\">40</td><td style = \"text-align: left;\">reviewed</td><td style = \"text-align: left;\">us</td><td style = \"text-align: left;\">us</td></tr><tr><td class = \"rowNumber\" style = \"font-weight: bold; text-align: right;\">9</td><td style = \"text-align: left;\">2023-01-27T03:21:35.761Z</td><td style = \"text-align: right;\">13.7912</td><td style = \"text-align: right;\">120.548</td><td style = \"text-align: right;\">110.676</td><td style = \"text-align: right;\">4.5</td><td style = \"text-align: left;\">mb</td><td style = \"text-align: right;\">34</td><td style = \"text-align: right;\">111</td><td style = \"text-align: right;\">8.312</td><td style = \"text-align: right;\">0.5</td><td style = \"text-align: left;\">us</td><td style = \"text-align: left;\">us6000jjlk</td><td style = \"text-align: left;\">2023-01-27T04:14:12.040Z</td><td style = \"text-align: left;\">10 km WSW of Calatagan, Philippines</td><td style = \"text-align: left;\">earthquake</td><td style = \"text-align: right;\">8.0</td><td style = \"text-align: right;\">8.337</td><td style = \"text-align: right;\">0.08</td><td style = \"text-align: right;\">46</td><td style = \"text-align: left;\">reviewed</td><td style = \"text-align: left;\">us</td><td style = \"text-align: left;\">us</td></tr><tr><td class = \"rowNumber\" style = \"font-weight: bold; text-align: right;\">10</td><td style = \"text-align: left;\">2023-01-27T00:10:43.268Z</td><td style = \"text-align: right;\">41.4478</td><td style = \"text-align: right;\">77.4532</td><td style = \"text-align: right;\">10.0</td><td style = \"text-align: right;\">4.6</td><td style = \"text-align: left;\">mb</td><td style = \"text-align: right;\">33</td><td style = \"text-align: right;\">76</td><td style = \"text-align: right;\">0.385</td><td style = \"text-align: right;\">0.37</td><td style = \"text-align: left;\">us</td><td style = \"text-align: left;\">us6000jjkp</td><td style = \"text-align: left;\">2023-01-27T03:13:34.784Z</td><td style = \"text-align: left;\">80 km SSE of Kadzhi-Say, Kyrgyzstan</td><td style = \"text-align: left;\">earthquake</td><td style = \"text-align: right;\">5.1</td><td style = \"text-align: right;\">1.913</td><td style = \"text-align: right;\">0.114</td><td style = \"text-align: right;\">23</td><td style = \"text-align: left;\">reviewed</td><td style = \"text-align: left;\">us</td><td style = \"text-align: left;\">us</td></tr></tbody></table></div>"
      ],
      "text/latex": [
       "\\begin{tabular}{r|cccccccc}\n",
       "\t& time & latitude & longitude & depth & mag & magType & nst & \\\\\n",
       "\t\\hline\n",
       "\t& String31 & Float64 & Float64 & Float64 & Float64 & String3 & Int64 & \\\\\n",
       "\t\\hline\n",
       "\t1 & 2023-01-27T20:25:27.038Z & 10.7145 & 125.448 & 69.238 & 5.4 & mww & 190 & $\\dots$ \\\\\n",
       "\t2 & 2023-01-27T18:18:00.454Z & -2.8446 & 129.618 & 20.664 & 4.7 & mb & 92 & $\\dots$ \\\\\n",
       "\t3 & 2023-01-27T16:37:39.419Z & -23.7222 & -179.46 & 525.778 & 4.6 & mb & 33 & $\\dots$ \\\\\n",
       "\t4 & 2023-01-27T16:33:28.276Z & -23.3301 & -179.886 & 528.172 & 4.5 & mb & 28 & $\\dots$ \\\\\n",
       "\t5 & 2023-01-27T11:06:54.630Z & 18.7795 & -64.3253 & 33.0 & 4.6 & ml & 21 & $\\dots$ \\\\\n",
       "\t6 & 2023-01-27T10:51:18.438Z & -16.5691 & -69.7504 & 195.543 & 4.5 & mb & 69 & $\\dots$ \\\\\n",
       "\t7 & 2023-01-27T05:29:21.314Z & -49.5504 & 117.454 & 10.0 & 5.0 & mb & 32 & $\\dots$ \\\\\n",
       "\t8 & 2023-01-27T04:34:38.938Z & 5.0199 & -76.2029 & 103.42 & 4.5 & mb & 40 & $\\dots$ \\\\\n",
       "\t9 & 2023-01-27T03:21:35.761Z & 13.7912 & 120.548 & 110.676 & 4.5 & mb & 34 & $\\dots$ \\\\\n",
       "\t10 & 2023-01-27T00:10:43.268Z & 41.4478 & 77.4532 & 10.0 & 4.6 & mb & 33 & $\\dots$ \\\\\n",
       "\t11 & 2023-01-26T19:30:46.687Z & 57.338 & -33.2601 & 10.0 & 5.3 & mww & 62 & $\\dots$ \\\\\n",
       "\t12 & 2023-01-26T19:17:03.712Z & 57.3763 & -33.374 & 10.0 & 5.2 & mww & 103 & $\\dots$ \\\\\n",
       "\t13 & 2023-01-26T17:55:29.330Z & -12.4691 & 166.963 & 212.274 & 4.9 & mb & 63 & $\\dots$ \\\\\n",
       "\t14 & 2023-01-26T17:25:59.107Z & 2.8087 & 126.852 & 40.28 & 4.6 & mb & 49 & $\\dots$ \\\\\n",
       "\t15 & 2023-01-26T16:41:36.896Z & 50.6252 & -172.635 & 13.384 & 5.1 & mww & 167 & $\\dots$ \\\\\n",
       "\t16 & 2023-01-26T16:04:56.294Z & 30.5315 & 137.548 & 480.991 & 4.5 & mb & 141 & $\\dots$ \\\\\n",
       "\t17 & 2023-01-26T15:57:01.678Z & -5.6296 & 154.256 & 128.292 & 4.5 & mb & 110 & $\\dots$ \\\\\n",
       "\t18 & 2023-01-26T14:19:02.828Z & -17.8522 & -173.403 & 35.0 & 4.8 & mb & 16 & $\\dots$ \\\\\n",
       "\t19 & 2023-01-26T13:56:50.123Z & 23.2115 & 123.386 & 10.0 & 4.9 & mb & 47 & $\\dots$ \\\\\n",
       "\t20 & 2023-01-26T13:05:39.821Z & 11.6697 & 43.9143 & 10.0 & 4.8 & mb & 45 & $\\dots$ \\\\\n",
       "\t21 & 2023-01-26T10:45:53.633Z & -30.254 & -178.668 & 135.699 & 6.0 & mww & 70 & $\\dots$ \\\\\n",
       "\t22 & 2023-01-26T06:33:44.558Z & 2.874 & 127.157 & 59.198 & 4.9 & mb & 58 & $\\dots$ \\\\\n",
       "\t23 & 2023-01-26T04:23:51.406Z & 2.8733 & 126.965 & 35.0 & 5.7 & mww & 91 & $\\dots$ \\\\\n",
       "\t24 & 2023-01-26T04:16:05.490Z & 16.6078 & -25.6214 & 10.0 & 5.3 & mb & 76 & $\\dots$ \\\\\n",
       "\t25 & 2023-01-26T04:07:54.913Z & -30.4621 & -178.541 & 35.0 & 4.5 & mb & 13 & $\\dots$ \\\\\n",
       "\t26 & 2023-01-26T03:16:21.963Z & -1.9745 & -79.9816 & 77.663 & 4.6 & mb & 26 & $\\dots$ \\\\\n",
       "\t27 & 2023-01-25T23:21:33.679Z & 29.7569 & 102.078 & 10.0 & 4.9 & mb & 85 & $\\dots$ \\\\\n",
       "\t28 & 2023-01-25T23:14:42.540Z & -24.019 & 179.983 & 514.333 & 4.5 & mb & 64 & $\\dots$ \\\\\n",
       "\t29 & 2023-01-25T22:27:31.440Z & 20.216 & 146.196 & 35.0 & 4.7 & mb & 58 & $\\dots$ \\\\\n",
       "\t30 & 2023-01-25T20:30:44.433Z & 29.7128 & 102.076 & 10.0 & 4.5 & mb & 23 & $\\dots$ \\\\\n",
       "\t$\\dots$ & $\\dots$ & $\\dots$ & $\\dots$ & $\\dots$ & $\\dots$ & $\\dots$ & $\\dots$ &  \\\\\n",
       "\\end{tabular}\n"
      ],
      "text/plain": [
       "\u001b[1m10×22 DataFrame\u001b[0m\n",
       "\u001b[1m Row \u001b[0m│\u001b[1m time                     \u001b[0m\u001b[1m latitude \u001b[0m\u001b[1m longitude \u001b[0m\u001b[1m depth   \u001b[0m\u001b[1m mag     \u001b[0m\u001b[1m magTyp\u001b[0m ⋯\n",
       "     │\u001b[90m String31                 \u001b[0m\u001b[90m Float64  \u001b[0m\u001b[90m Float64   \u001b[0m\u001b[90m Float64 \u001b[0m\u001b[90m Float64 \u001b[0m\u001b[90m String\u001b[0m ⋯\n",
       "─────┼──────────────────────────────────────────────────────────────────────────\n",
       "   1 │ 2023-01-27T20:25:27.038Z   10.7145   125.448    69.238      5.4  mww    ⋯\n",
       "   2 │ 2023-01-27T18:18:00.454Z   -2.8446   129.618    20.664      4.7  mb\n",
       "   3 │ 2023-01-27T16:37:39.419Z  -23.7222  -179.46    525.778      4.6  mb\n",
       "   4 │ 2023-01-27T16:33:28.276Z  -23.3301  -179.886   528.172      4.5  mb\n",
       "   5 │ 2023-01-27T11:06:54.630Z   18.7795   -64.3253   33.0        4.6  ml     ⋯\n",
       "   6 │ 2023-01-27T10:51:18.438Z  -16.5691   -69.7504  195.543      4.5  mb\n",
       "   7 │ 2023-01-27T05:29:21.314Z  -49.5504   117.454    10.0        5.0  mb\n",
       "   8 │ 2023-01-27T04:34:38.938Z    5.0199   -76.2029  103.42       4.5  mb\n",
       "   9 │ 2023-01-27T03:21:35.761Z   13.7912   120.548   110.676      4.5  mb     ⋯\n",
       "  10 │ 2023-01-27T00:10:43.268Z   41.4478    77.4532   10.0        4.6  mb\n",
       "  11 │ 2023-01-26T19:30:46.687Z   57.338    -33.2601   10.0        5.3  mww\n",
       "  ⋮  │            ⋮                 ⋮          ⋮         ⋮        ⋮        ⋮   ⋱\n",
       " 541 │ 2022-12-29T15:57:04.230Z    6.2459   126.321   126.906      4.6  mb\n",
       " 542 │ 2022-12-29T15:11:01.069Z   39.4033    15.2604   16.056      4.5  mb     ⋯\n",
       " 543 │ 2022-12-29T13:13:36.794Z    6.2316   126.183   140.887      5.2  mww\n",
       " 544 │ 2022-12-29T11:22:54.356Z   11.6895   140.97     10.0        4.6  mb\n",
       " 545 │ 2022-12-29T08:07:52.147Z   -7.1715   122.461    10.067      4.5  mb\n",
       " 546 │ 2022-12-29T06:10:50.954Z  -23.4737  -176.825    95.838      5.0  mb     ⋯\n",
       " 547 │ 2022-12-29T04:08:48.305Z  -19.0252   169.427   238.171      4.5  mb\n",
       " 548 │ 2022-12-29T00:48:56.583Z   29.216    130.558    35.0        4.5  mb\n",
       " 549 │ 2022-12-29T00:37:09.287Z  -18.7419  -177.592   622.502      4.6  mb\n",
       " 550 │ 2022-12-29T00:36:03.050Z   29.208    130.618    30.539      5.1  mb     ⋯\n",
       "\u001b[36m                                                 17 columns and 529 rows omitted\u001b[0m"
      ]
     },
     "execution_count": 8,
     "metadata": {},
     "output_type": "execute_result"
    }
   ],
   "source": [
    "# Question 4\n",
    "filepath = \"D:/4.5.csv\"\n",
    "df = CSV.read(filepath, DataFrame, dateformat=\"dd-mm-yyyy\")\n",
    "df2 = CSV.read(filepath, DataFrame, dateformat=\"dd-mm-yyyy\", limit = 10)"
   ]
  },
  {
   "cell_type": "code",
   "execution_count": null,
   "id": "14365096",
   "metadata": {},
   "outputs": [
    {
     "name": "stdout",
     "output_type": "stream",
     "text": [
      "Min magnitude: [4.5]\n",
      "Max magnitude: [7.6]\n",
      "Average magnitude: [4.821545454545453]\n"
     ]
    }
   ],
   "source": [
    "# Question 5\n",
    "magnitudes = df.mag\n",
    "println(\"Min magnitude: [$(minimum(magnitudes))]\")\n",
    "println(\"Max magnitude: [$(maximum(magnitudes))]\")\n",
    "println(\"Average magnitude: [$(sum(magnitudes) / length(magnitudes))]\")"
   ]
  },
  {
   "cell_type": "code",
   "execution_count": null,
   "id": "79839b2a",
   "metadata": {},
   "outputs": [
    {
     "name": "stdout",
     "output_type": "stream",
     "text": [
      "\u001b[1m1×22 DataFrame\u001b[0m\n",
      "\u001b[1m Row \u001b[0m│\u001b[1m time                     \u001b[0m\u001b[1m latitude \u001b[0m\u001b[1m longitude \u001b[0m\u001b[1m depth   \u001b[0m\u001b[1m mag     \u001b[0m\u001b[1m magType \u001b[0m\u001b[1m nst    \u001b[0m\u001b[1m gap    \u001b[0m\u001b[1m dmin     \u001b[0m\u001b[1m rms     \u001b[0m\u001b[1m net     \u001b[0m\u001b[1m id         \u001b[0m\u001b[1m updated                  \u001b[0m\u001b[1m place                             \u001b[0m\u001b[1m type       \u001b[0m\u001b[1m horizontalError \u001b[0m\u001b[1m depthError \u001b[0m\u001b[1m magError \u001b[0m\u001b[1m magNst \u001b[0m\u001b[1m status   \u001b[0m\u001b[1m locationSource \u001b[0m\u001b[1m magSource \u001b[0m\n",
      "     │\u001b[90m String31                 \u001b[0m\u001b[90m Float64  \u001b[0m\u001b[90m Float64   \u001b[0m\u001b[90m Float64 \u001b[0m\u001b[90m Float64 \u001b[0m\u001b[90m String3 \u001b[0m\u001b[90m Int64? \u001b[0m\u001b[90m Int64? \u001b[0m\u001b[90m Float64? \u001b[0m\u001b[90m Float64 \u001b[0m\u001b[90m String3 \u001b[0m\u001b[90m String15   \u001b[0m\u001b[90m String31                 \u001b[0m\u001b[90m String                            \u001b[0m\u001b[90m String15   \u001b[0m\u001b[90m Float64?        \u001b[0m\u001b[90m Float64    \u001b[0m\u001b[90m Float64? \u001b[0m\u001b[90m Int64? \u001b[0m\u001b[90m String15 \u001b[0m\u001b[90m String3        \u001b[0m\u001b[90m String3   \u001b[0m\n",
      "─────┼───────────────────────────────────────────────────────────────────────────────────────────────────────────────────────────────────────────────────────────────────────────────────────────────────────────────────────────────────────────────────────────────────────────────────────────────\n",
      "   1 │ 2023-01-27T20:25:27.038Z   10.7145    125.448   69.238      5.4  mww         190      26     3.624     0.84  us       us6000jjtj  2023-01-27T22:28:46.168Z  32 km ENE of Hingatungan, Philip…  earthquake             7.83       5.358     0.066      22  reviewed  us              us\n"
     ]
    }
   ],
   "source": [
    "# debug\n",
    "mask = df.place .== \"32 km ENE of Hingatungan, Philippines\"\n",
    "filtered_df = df[mask, :]\n",
    "\n",
    "# display the filtered dataframe\n",
    "println(filtered_df)"
   ]
  },
  {
   "cell_type": "code",
   "execution_count": null,
   "id": "90a65c31",
   "metadata": {},
   "outputs": [
    {
     "name": "stdout",
     "output_type": "stream",
     "text": [
      "2023-01-27T20:25:27\n",
      "2023-01-27T18:18:00\n",
      "2023-01-27T16:37:39\n",
      "2023-01-27T16:33:28\n",
      "2023-01-27T11:06:54\n",
      "2023-01-27T10:51:18\n",
      "2023-01-27T05:29:21\n",
      "2023-01-27T04:34:38\n",
      "2023-01-27T03:21:35\n",
      "2023-01-27T00:10:43\n"
     ]
    }
   ],
   "source": [
    "# Question 6\n",
    "for x in 1:length(df.time)\n",
    "    df.time[x] = df.time[x][1:19]\n",
    "end\n",
    "for x in 1:10\n",
    "    println(\"$(df.time[x])\")\n",
    "end"
   ]
  },
  {
   "cell_type": "code",
   "execution_count": null,
   "id": "0e56b194",
   "metadata": {},
   "outputs": [
    {
     "name": "stdout",
     "output_type": "stream",
     "text": [
      "This is in 10 days\n",
      "NaN\n",
      "This is in 20 days\n",
      "4.845544554455448\n",
      "This is in 30 days\n",
      "4.829794520547947\n",
      "This is in 40 days\n",
      "4.82371134020618\n",
      "This is in 50 days\n",
      "4.821545454545446\n"
     ]
    }
   ],
   "source": [
    "# Question 7\n",
    "\n",
    "function inTimeRange(N, i)\n",
    "    present = Dates.now()\n",
    "    # println((Dates.value(present) - Dates.value(DateTime(df.time[x], DateFormat(\"yyyy-mm-ddTHH:MM:SS\")))))\n",
    "    dayPassed = ((Dates.value(present) - Dates.value(DateTime(df.time[i], DateFormat(\"yyyy-mm-ddTHH:MM:SS.sssZ\"))))  / (1000 * 3600 * 24))\n",
    "    # println(\"the day passed for index $i is $dayPassed\")\n",
    "    return dayPassed <= N\n",
    "end\n",
    "\n",
    "function avgMagnitudeNDays(N)  \n",
    "    sumOfMag = 0\n",
    "    i = 1\n",
    "    count = 0\n",
    "    for x in eachrow(df)\n",
    "        if (inTimeRange(N, i))\n",
    "            sumOfMag += df.mag[i]\n",
    "            count += 1\n",
    "        end\n",
    "        i += 1\n",
    "    end\n",
    "    return (sumOfMag / count)\n",
    "end\n",
    "\n",
    "# avgMagnitudeNDays(20)\n",
    "\n",
    "for x in [10, 20, 30, 40 ,50] \n",
    "    res = avgMagnitudeNDays(x)\n",
    "    println(\"This is in $x days\")\n",
    "    println(res)\n",
    "end\n"
   ]
  },
  {
   "cell_type": "code",
   "execution_count": 10,
   "id": "53862950",
   "metadata": {},
   "outputs": [
    {
     "name": "stdout",
     "output_type": "stream",
     "text": [
      "4.8687499999999995\n",
      "4.821545454545446\n",
      "4.79635416666667\n",
      "4.928571428571429\n"
     ]
    }
   ],
   "source": [
    "# Question 8\n",
    "function convertNToDegree(n) #n is in km\n",
    "    return (n /= 100)\n",
    "end\n",
    "\n",
    "function avgMagnitudeWithinNKmOfLatLong(N, latitude, longitude)\n",
    "    n = convertNToDegree(N)\n",
    "    sumOfMag = 0\n",
    "    count = 0\n",
    "    for x in eachrow(df) \n",
    "        distance = sqrt((x.latitude - latitude)^2 + (x.longitude - longitude)^2)\n",
    "        if (distance < n)\n",
    "            sumOfMag +=  x.mag\n",
    "            count += 1\n",
    "        end\n",
    "    end\n",
    "    return sumOfMag / count\n",
    "end\n",
    "\n",
    "println(avgMagnitudeWithinNKmOfLatLong(2000, 29, 14))\n",
    "println(avgMagnitudeWithinNKmOfLatLong(65000, 127, 123))\n",
    "println(avgMagnitudeWithinNKmOfLatLong(3000, 10, 142))\n",
    "println(avgMagnitudeWithinNKmOfLatLong(3000, -47, 189))"
   ]
  },
  {
   "cell_type": "code",
   "execution_count": null,
   "id": "c9cc33f7",
   "metadata": {},
   "outputs": [
    {
     "name": "stdout",
     "output_type": "stream",
     "text": [
      "south of the Fiji Islands\n",
      "Kermadec Islands, New Zealand\n",
      "Kermadec Islands, New Zealand\n",
      "Kermadec Islands, New Zealand\n",
      "Kermadec Islands, New Zealand\n"
     ]
    }
   ],
   "source": [
    "# Problem 9\n",
    "\n",
    "# function filtering out the regions that are in the radius   \n",
    "function isInRadius(row, N, latitude, longitude)\n",
    "    n = convertNToDegree(N)\n",
    "    distance = sqrt((row.latitude - latitude)^2 + (row.longitude - longitude)^2)\n",
    "    if (distance < n) # the place is in the radius\n",
    "        return true\n",
    "    end\n",
    "    return false\n",
    "end\n",
    "\n",
    "# function to find the highest magnitude region among the ones in the radius\n",
    "function highestMagnitude(df)\n",
    "    highestMagnitude = 0\n",
    "    result = \"\"\n",
    "    for x in eachrow(df) \n",
    "        if x.mag > highestMagnitude\n",
    "            highestMagnitude = x.mag\n",
    "            result = x.place\n",
    "        end\n",
    "    end\n",
    "    return result\n",
    "end\n",
    "\n",
    "# debug func\n",
    "function mostActiveRegion(N, latitude , longitude)\n",
    "    mag = totalRegionMag(row, N, row.latitude, row.longitude)\n",
    "    return mag\n",
    "end\n",
    "\n",
    "# printing results\n",
    "result = mostActiveRegion(500, -23.7222, -179.4605)\n",
    "println(result)\n",
    "\n"
   ]
  },
  {
   "cell_type": "code",
   "execution_count": null,
   "id": "75b0a476",
   "metadata": {},
   "outputs": [
    {
     "ename": "LoadError",
     "evalue": "UndefVarError: df not defined",
     "output_type": "error",
     "traceback": [
      "UndefVarError: df not defined",
      "",
      "Stacktrace:",
      " [1] mostActiveRegion(N::Int64)",
      "   @ Main .\\In[5]:23",
      " [2] top-level scope",
      "   @ .\\In[5]:36"
     ]
    }
   ],
   "source": [
    "# Problem 9-fix: Minh\n",
    "\n",
    "# function filtering the regions that are in the radius   \n",
    "function totalRegionMag(row, N)\n",
    "    n = convertNToDegree(N)\n",
    "    total = 0\n",
    "    for coor in eachrow(df)\n",
    "        distance = sqrt((coor.latitude - row.latitude)^2 + (coor.longitude - row.longitude)^2)\n",
    "        if (distance < n) # the place is in the radius\n",
    "            total += coor.mag # add the places in the radius to the region's total max\n",
    "        end\n",
    "    end\n",
    "    return total\n",
    "end\n",
    "\n",
    "# function that takes in the radius and find out the most seismically active out of those regions\n",
    "function mostActiveRegion(N)\n",
    "    # loop through of all of the coordinates in the table\n",
    "    # 1. sum all of the magnitude of the regions that are in the radius of that coordinates\n",
    "    # 2. keeping max values\n",
    "    # 3. return that max value in the end\n",
    "    maxMag = 0\n",
    "    mostActiveRegion = df[1, :]\n",
    "    for row in eachrow(df)\n",
    "        mag = totalRegionMag(row, N)\n",
    "        if mag > maxMag\n",
    "            maxMag = mag\n",
    "            mostActiveRegion = row\n",
    "        end\n",
    "    end\n",
    "    return mostActiveRegion.place\n",
    "end \n",
    "\n",
    "# printing results\n",
    "for i in [500, 1000, 2000, 3000, 4000]\n",
    "    println(mostActiveRegion(i))\n",
    "end"
   ]
  },
  {
   "cell_type": "code",
   "execution_count": 14,
   "id": "757dd943",
   "metadata": {},
   "outputs": [
    {
     "name": "stdout",
     "output_type": "stream",
     "text": [
      "For radius of 500 in the lastest 10 days:\n",
      "There is no region satisfies the condition\n",
      "\n",
      "For radius of 500 in the lastest 20 days:\n",
      "54 km SE of Lukatan, Philippines\n",
      "\n",
      "For radius of 500 in the lastest 30 days:\n",
      "80 km N of Ternate, Indonesia\n",
      "\n",
      "For radius of 1000 in the lastest 10 days:\n",
      "There is no region satisfies the condition\n",
      "\n",
      "For radius of 1000 in the lastest 20 days:\n",
      "80 km N of Ternate, Indonesia\n",
      "\n",
      "For radius of 1000 in the lastest 30 days:\n",
      "128 km NW of Ternate, Indonesia\n",
      "\n",
      "For radius of 2000 in the lastest 10 days:\n",
      "There is no region satisfies the condition\n",
      "\n",
      "For radius of 2000 in the lastest 20 days:\n",
      "247 km W of Abepura, Indonesia\n",
      "\n",
      "For radius of 2000 in the lastest 30 days:\n",
      "95 km NE of Amahai, Indonesia\n",
      "\n"
     ]
    }
   ],
   "source": [
    "# Problem 10\n",
    "function inTimeRange(M, x) #modified for date value instead of dataframe index for input\n",
    "    present = Dates.now()\n",
    "    dayPassed = ((Dates.value(present) - Dates.value(DateTime(x, DateFormat(\"yyyy-mm-ddTHH:MM:SS.sssZ\"))))  / (1000 * 3600 * 24))\n",
    "    # println(dayPassed)\n",
    "    return dayPassed <= M\n",
    "end\n",
    "\n",
    "# function filtering the regions that are in the radius   \n",
    "function totalRegionMag(row, N, M)\n",
    "    n = convertNToDegree(N)\n",
    "    total = 0\n",
    "    for coor in eachrow(df)\n",
    "        distance = sqrt((coor.latitude - row.latitude)^2 + (coor.longitude - row.longitude)^2)\n",
    "        if ((distance < n) && (inTimeRange(M, coor.time))) # the place is in the radius\n",
    "            total += coor.mag # add the places in the radius to the region's total max\n",
    "        end\n",
    "    end\n",
    "    return total\n",
    "end\n",
    "\n",
    "function mostActiveRegion(N, M)\n",
    "    maxMag = 0\n",
    "    mostActiveRegion = nothing\n",
    "    for row in eachrow(df)\n",
    "        mag = totalRegionMag(row, N, M)\n",
    "        if mag > maxMag\n",
    "            maxMag = mag\n",
    "            mostActiveRegion = row\n",
    "        end\n",
    "    end\n",
    "    if mostActiveRegion == nothing\n",
    "        return \"There is no region satisfies the condition\"\n",
    "    end\n",
    "    return mostActiveRegion.place\n",
    "end\n",
    "\n",
    "# printing results\n",
    "for n in [500, 1000, 2000], m in [10, 20, 30]\n",
    "    println(\"For radius of $n in the lastest $m days:\")\n",
    "    println(mostActiveRegion(n,m))\n",
    "    println()\n",
    "end\n"
   ]
  },
  {
   "attachments": {},
   "cell_type": "markdown",
   "id": "75dc2ce3",
   "metadata": {},
   "source": [
    "TU PHAM"
   ]
  },
  {
   "attachments": {},
   "cell_type": "markdown",
   "id": "a7725a67",
   "metadata": {},
   "source": [
    "MATT LE"
   ]
  },
  {
   "cell_type": "markdown",
   "id": "c2cdf943",
   "metadata": {},
   "source": [
    "MINH LE"
   ]
  }
 ],
 "metadata": {
  "kernelspec": {
   "display_name": "Julia 1.8.5",
   "language": "julia",
   "name": "julia-1.8"
  },
  "language_info": {
   "file_extension": ".jl",
   "mimetype": "application/julia",
   "name": "julia",
   "version": "1.8.5"
  },
  "vscode": {
   "interpreter": {
    "hash": "2f155fbeb9494e5ce992090b8427abe3542dae7719d8ea0d05cb0b78608edd18"
   }
  }
 },
 "nbformat": 4,
 "nbformat_minor": 5
}
