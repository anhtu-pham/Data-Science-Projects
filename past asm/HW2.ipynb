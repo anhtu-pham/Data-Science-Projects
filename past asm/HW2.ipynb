{
 "cells": [
  {
   "cell_type": "code",
   "execution_count": 1,
   "metadata": {},
   "outputs": [],
   "source": [
    "using LinearAlgebra\n",
    "using DataFrames"
   ]
  },
  {
   "cell_type": "code",
   "execution_count": 4,
   "metadata": {},
   "outputs": [
    {
     "name": "stdout",
     "output_type": "stream",
     "text": [
      "3\n"
     ]
    }
   ],
   "source": [
    "# Question 3\n",
    "# A = [(1, 1, 1), (1, 2, 3), (2, 2, 2), (3, 4, 5), (0, 1, 0), (1, 0, 1)]\n",
    "\n",
    "A = [1 1 1; 1 2 3; 2 2 2; 3 4 5; 0 1 0; 1 0 1]\n",
    "\n",
    "println(rank(A))"
   ]
  },
  {
   "cell_type": "code",
   "execution_count": 19,
   "metadata": {},
   "outputs": [
    {
     "name": "stdout",
     "output_type": "stream",
     "text": [
      "1\n"
     ]
    }
   ],
   "source": [
    "# Question 4\n",
    "\n",
    "v1 = [0 1 0]\n",
    "v2 = [1 2 3]\n",
    "v3 = [1 0 1]\n",
    "\n",
    "println(dot([1 1 3], v1))"
   ]
  },
  {
   "cell_type": "code",
   "execution_count": 7,
   "metadata": {},
   "outputs": [
    {
     "name": "stdout",
     "output_type": "stream",
     "text": [
      "Magnitude of v1 is 1.0\n",
      "Magnitude of v2 is 0.9999999999999999\n",
      "Magnitude of v3 is 0.9999999999999999\n",
      "Dot product of v1, v2 0.0\n",
      "Dot product of v2, v3 0.0\n",
      "Dot product of v3, v1 0.0\n"
     ]
    }
   ],
   "source": [
    "# Question 4 checking\n",
    "\n",
    "v1 = [0 1 0]\n",
    "v2 = [1/sqrt(10) 0 3/sqrt(10)]\n",
    "v3 = [3/sqrt(10) 0 -1/sqrt(10)]\n",
    "\n",
    "println(\"Magnitude of v1 is $(norm(v1))\")\n",
    "println(\"Magnitude of v2 is $(norm(v2))\")\n",
    "println(\"Magnitude of v3 is $(norm(v3))\")\n",
    "println(\"Dot product of v1, v2 $(dot(v1, v2))\")\n",
    "println(\"Dot product of v2, v3 $(dot(v2, v3))\")\n",
    "println(\"Dot product of v3, v1 $(dot(v1, v3))\")"
   ]
  },
  {
   "cell_type": "code",
   "execution_count": 1,
   "metadata": {},
   "outputs": [
    {
     "name": "stdout",
     "output_type": "stream",
     "text": [
      "[-2 2; -3 3]\n",
      "[0 0 0 0; 1 3 5 7; 1 3 5 7; 0 0 0 0]\n"
     ]
    }
   ],
   "source": [
    "#Question 7\n",
    "a_1 = [-1, 1]\n",
    "b_1 = [2, 3]\n",
    "a_2 = [1, 3, 5, 7]\n",
    "b_2 = [0, 1, 1, 0]\n",
    "\n",
    "#(i)\n",
    "println(b_1 * a_1')\n",
    "#(ii)\n",
    "println(b_2 * a_2')"
   ]
  },
  {
   "cell_type": "code",
   "execution_count": null,
   "metadata": {},
   "outputs": [],
   "source": [
    "#Question 10\n",
    "A=[2 4 3; 0 1 3]\n",
    "B=[-2 -1 3; 6 -7 7]\n",
    "#(i)\n",
    "println(rank(A))\n",
    "#(ii)\n",
    "println(rank(B))\n",
    "#(iii)\n",
    "println(rank(A+B))"
   ]
  }
 ],
 "metadata": {
  "kernelspec": {
   "display_name": "Julia 1.8.5",
   "language": "julia",
   "name": "julia-1.8"
  },
  "language_info": {
   "file_extension": ".jl",
   "mimetype": "application/julia",
   "name": "julia",
   "version": "1.8.5"
  },
  "orig_nbformat": 4
 },
 "nbformat": 4,
 "nbformat_minor": 2
}
