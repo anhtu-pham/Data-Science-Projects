{
 "cells": [
  {
   "cell_type": "markdown",
   "id": "b47a8a23",
   "metadata": {},
   "source": [
    "## Intro to Regex\n",
    "There's way more you can do with it than just this, but this should serve as an intro\n",
    "Regex is all about matching patterns quickly and easily. We can use it in many of the string methods listed above.\n"
   ]
  },
  {
   "cell_type": "code",
   "execution_count": 2,
   "id": "39bce8de",
   "metadata": {},
   "outputs": [
    {
     "data": {
      "text/plain": [
       "\"Here's some numbers: 483 4318 1593 053 4942 120 503 294. That sure is a lot of numbers\""
      ]
     },
     "execution_count": 2,
     "metadata": {},
     "output_type": "execute_result"
    }
   ],
   "source": [
    "string2 = \"Here's some numbers: 483 4318 1593 053 4942 120 503 294. That sure is a lot of numbers\"\n"
   ]
  },
  {
   "cell_type": "code",
   "execution_count": 3,
   "id": "f4d75017",
   "metadata": {},
   "outputs": [
    {
     "name": "stdout",
     "output_type": "stream",
     "text": [
      "type = Regex\n",
      "first instance of e, y, or z in string is 2:2\n"
     ]
    }
   ],
   "source": [
    "# We can specify a regex by using the 'r' character before a string\n",
    "# Brackets in a regex search for any of the characters in the brackets\n",
    "regex = r\"[eyz]\"\n",
    "\n",
    "println(\"type = $(typeof(regex))\")\n",
    "println(\"first instance of e, y, or z in string is $(findfirst(regex, string2))\")\n"
   ]
  },
  {
   "cell_type": "code",
   "execution_count": 4,
   "id": "d3019f83",
   "metadata": {},
   "outputs": [
    {
     "name": "stdout",
     "output_type": "stream",
     "text": [
      "1:1\n",
      "9:10\n"
     ]
    }
   ],
   "source": [
    "# Specify a range of characters by using [a-zA-Z]. You can adjust the range as you wish, like [a-e]\n",
    "println(findfirst(r\"[a-zA-Z]\", string2))\n",
    "    \n",
    "# this prints the first occurence of any lowercase character followed by 'm'\n",
    "println(findfirst(r\"[a-z][m]\", string2))\n"
   ]
  },
  {
   "cell_type": "code",
   "execution_count": 5,
   "id": "989f08eb",
   "metadata": {},
   "outputs": [
    {
     "name": "stdout",
     "output_type": "stream",
     "text": [
      "37:39\n",
      "853\n"
     ]
    }
   ],
   "source": [
    "# It works with numbers too! This gets '4' followed by any two other numbers. Notice how it skips over the \"8\" in \"483\"\n",
    "string2 = \"Here's some numbers: 483 4318 1593 0853 49442 120 503 41294 544444. That sure is a lot of numbers\"\n",
    "\n",
    "result = findfirst(r\"8[0-9][0-9]\", string2)\n",
    "println(findfirst(r\"8[0-9][0-9]\", string2))\n",
    "println(string2[result])"
   ]
  },
  {
   "cell_type": "code",
   "execution_count": 10,
   "id": "056b57da",
   "metadata": {},
   "outputs": [
    {
     "name": "stdout",
     "output_type": "stream",
     "text": [
      "UnitRange{Int64}[2:6, 15:19, 93:97]\n",
      "67:67\n",
      "match found: .\n"
     ]
    }
   ],
   "source": [
    "# The \".\" character acts as a stand-in for any character, which means if you want to search for periods, you have to escape it\n",
    "println(findall(r\"..e.s\", string2))\n",
    "    \n",
    "# How to escape the character \n",
    "range = findfirst(r\"\\.\", string2)\n",
    "println(findfirst(r\"\\.\", string2))\n",
    "println(\"match found: \" * string2[range])\n"
   ]
  },
  {
   "cell_type": "code",
   "execution_count": 11,
   "id": "1fb55d58",
   "metadata": {},
   "outputs": [
    {
     "name": "stdout",
     "output_type": "stream",
     "text": [
      "Here's some numbers: 483 4318 1593 0853 49442 120 503 41294 544444. That sure is a lot of numbers\n",
      "49442\n",
      "41294\n",
      "44444\n"
     ]
    }
   ],
   "source": [
    "println(string2)\n",
    "\n",
    "# curly braces {} can be used to specify the number of matches you want\n",
    "\n",
    "# example, this grabs all numbers of length 5 with '4' as a first digit. \n",
    "results = findall(r\"4[0-9]{4}\", string2)\n",
    "for range in results\n",
    "    println(string2[range])\n",
    "end"
   ]
  },
  {
   "cell_type": "code",
   "execution_count": 8,
   "id": "7b55b126",
   "metadata": {},
   "outputs": [
    {
     "name": "stdout",
     "output_type": "stream",
     "text": [
      " 49442 \n",
      " 41294 \n"
     ]
    }
   ],
   "source": [
    "# Uh oh! that picked up the set of '4's that was part of another number\n",
    "# We can use the \"not\" (^) operator to exclude results that have numbers before and after\n",
    "\n",
    "results = findall(r\"[^0-9]4[0-9]{4}[^0-9]\", string2)\n",
    "for range in results\n",
    "    println(string2[range])\n",
    "end"
   ]
  },
  {
   "cell_type": "code",
   "execution_count": 12,
   "id": "30383bcf",
   "metadata": {},
   "outputs": [
    {
     "ename": "LoadError",
     "evalue": "syntax: extra token \"should\" after end of expression",
     "output_type": "error",
     "traceback": [
      "syntax: extra token \"should\" after end of expression",
      "",
      "Stacktrace:",
      " [1] top-level scope",
      "   @ In[12]:1"
     ]
    }
   ],
   "source": [
    "We should explain special tokens such as \\s (https://www.pcre.org/current/doc/html/pcre2syntax.html#SEC4)\n",
    "We should explain the Kleene */+, and the end of string marker https://www.pcre.org/current/doc/html/pcre2syntax.html#SEC9\n"
   ]
  },
  {
   "cell_type": "code",
   "execution_count": 6,
   "id": "9ed40cc0",
   "metadata": {},
   "outputs": [
    {
     "name": "stdout",
     "output_type": "stream",
     "text": [
      "1:1\n"
     ]
    }
   ],
   "source": [
    "smolString = \"\\n a\"\n",
    "\n",
    "# \\s is a special character that denotes the whitespace character [as well as sarcasm]\n",
    "# why use it instead of an actual space?\n",
    "# Here's a list of the things it actually looks for:\n",
    "\n",
    "#=\n",
    "A space character\n",
    "A tab character\n",
    "A carriage return character\n",
    "A new line character\n",
    "A vertical tab character\n",
    "A form feed character\n",
    "=#\n",
    "\n",
    "\n",
    "println(findfirst(r\"\\s\", smolString))\n"
   ]
  },
  {
   "cell_type": "code",
   "execution_count": 27,
   "id": "ed958dcf",
   "metadata": {},
   "outputs": [
    {
     "name": "stdout",
     "output_type": "stream",
     "text": [
      "22:22, \"5\"\n",
      "24:27, \"4445\"\n"
     ]
    }
   ],
   "source": [
    "string2 = \"Here's some numbers: 5 4445 483 4318 1593 053 4942 120 503 294. That sure is a lot of numbers\"\n",
    "\n",
    "# \"*\" can be used to find 0 or more occurences of something\n",
    "# \"+\" can be used to find 1 or more \n",
    "\n",
    "range1 = findfirst(r\"[4-6]*5\", string2)\n",
    "println(\"$range1, \\\"$(string2[range1])\\\"\")\n",
    "    \n",
    "range2 = findfirst(r\"[4-6]+5\", string2)\n",
    "println(\"$range2, \\\"$(string2[range2])\\\"\")\n",
    "\n"
   ]
  },
  {
   "cell_type": "code",
   "execution_count": 43,
   "id": "e323699f",
   "metadata": {},
   "outputs": [
    {
     "name": "stdout",
     "output_type": "stream",
     "text": [
      "1:2\n",
      "7:8\n"
     ]
    }
   ],
   "source": [
    "another_string = \"ok ok ok\"\n",
    "\n",
    "#the $ character is used for end of string\n",
    "range = findfirst(r\"ok\", another_string)\n",
    "println(range)\n",
    "\n",
    "range = findfirst(r\"ok$\", another_string)\n",
    "println(range)\n"
   ]
  },
  {
   "cell_type": "markdown",
   "id": "3170abed",
   "metadata": {},
   "source": [
    "## That's all! \n",
    "Want to learn more? Here's a link to more regex for those interested in becoming regex wizards. This tutorial should be plenty for now though. \n",
    "\n",
    "Lastly, regex isn't julia-specific. Other languages like C#, Java, and Python support their use as well. \n",
    "\n",
    "https://www.pcre.org/current/doc/html/pcre2syntax.html#SEC9"
   ]
  },
  {
   "cell_type": "code",
   "execution_count": null,
   "id": "a281a695",
   "metadata": {},
   "outputs": [],
   "source": []
  }
 ],
 "metadata": {
  "kernelspec": {
   "display_name": "Julia 1.8.5",
   "language": "julia",
   "name": "julia-1.8"
  },
  "language_info": {
   "file_extension": ".jl",
   "mimetype": "application/julia",
   "name": "julia",
   "version": "1.8.5"
  }
 },
 "nbformat": 4,
 "nbformat_minor": 5
}
